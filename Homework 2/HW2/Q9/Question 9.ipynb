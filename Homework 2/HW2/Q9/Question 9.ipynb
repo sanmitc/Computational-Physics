{
 "cells": [
  {
   "cell_type": "markdown",
   "id": "449544fb",
   "metadata": {},
   "source": [
    "# Question 9"
   ]
  },
  {
   "cell_type": "code",
   "execution_count": 1,
   "id": "b14e981d",
   "metadata": {},
   "outputs": [
    {
     "name": "stdout",
     "output_type": "stream",
     "text": [
      "Put temperature in kelvin:\n",
      "600\n",
      "2432.5741254976624\n"
     ]
    }
   ],
   "source": [
    "import math\n",
    "import numpy as np\n",
    "import matplotlib.pyplot as plt\n",
    "\n",
    "from numpy import ones,copy,cos,tan,pi,linspace\n",
    "\n",
    "def gaussxw(N):\n",
    "\n",
    "    # Initial approximation to roots of the Legendre polynomial\n",
    "    a = linspace(3,4*N-1,N)/(4*N+2)\n",
    "    x = cos(pi*a+1/(8*N*N*tan(a)))\n",
    "\n",
    "    # Find roots using Newton's method\n",
    "    epsilon = 1e-15\n",
    "    delta = 1.0\n",
    "    while delta>epsilon:\n",
    "        p0 = ones(N,float)\n",
    "        p1 = copy(x)\n",
    "        for k in range(1,N):\n",
    "            p0,p1 = p1,((2*k+1)*x*p1-k*p0)/(k+1)\n",
    "        dp = (N+1)*(p0-x*p1)/(1-x*x)\n",
    "        dx = p1/dp\n",
    "        x -= dx\n",
    "        delta = max(abs(dx))\n",
    "\n",
    "    # Calculate the weights\n",
    "    w = 2*(N+1)*(N+1)/(N*N*(1-x*x)*dp*dp)\n",
    "\n",
    "    return x,w\n",
    "\n",
    "def gaussxwab(N,a,b):\n",
    "    x,w = gaussxw(N)\n",
    "    return 0.5*(b-a)*x+0.5*(b+a),0.5*(b-a)*w\n",
    "\n",
    "\n",
    "\n",
    "def f(x):\n",
    "    return (((x**4)*(math.exp(x)))/(math.exp(x)-1)**2)\n",
    "\n",
    "print('Put temperature in kelvin:')\n",
    "T=float(input())\n",
    "\n",
    "def Cv(T):\n",
    "    a=0\n",
    "    b=428/T\n",
    "    N=50\n",
    "    x,w=gaussxwab(N,a,b)\n",
    "    val=0\n",
    "    for i in range(N):\n",
    "        val+=(w[i])*(f(x[i]))\n",
    "    V=1e-3\n",
    "    rho=6.022e28\n",
    "    theta_D=428\n",
    "    k_b=1.381e-23\n",
    "    C_v= (9*V*rho*k_b)*((T/theta_D)**3)*val\n",
    "    return C_v\n",
    "\n",
    "        \n",
    "\n",
    "print(Cv(T))"
   ]
  },
  {
   "cell_type": "code",
   "execution_count": 2,
   "id": "127c8b09",
   "metadata": {},
   "outputs": [
    {
     "data": {
      "text/plain": [
       "Text(0, 0.5, 'Heat Capacity')"
      ]
     },
     "execution_count": 2,
     "metadata": {},
     "output_type": "execute_result"
    },
    {
     "data": {
      "image/png": "[encoded data removed]",
      "text/plain": [
       "<Figure size 432x288 with 1 Axes>"
      ]
     },
     "metadata": {
      "needs_background": "light"
     },
     "output_type": "display_data"
    }
   ],
   "source": [
    "#part b\n",
    "V=1e-3\n",
    "rho=6.022e28\n",
    "theta_D=428\n",
    "k_b=1.381e-23\n",
    "val=0\n",
    "        \n",
    "\n",
    "C=[]\n",
    "T=np.linspace(5,500,495)\n",
    "for i in range(495):\n",
    "    val= Cv(T[i])\n",
    "    C.append(val)\n",
    "    \n",
    "plt.plot(T,C)\n",
    "plt.xlabel('Temperature(K)')\n",
    "plt.ylabel('Heat Capacity')\n",
    "\n",
    "    "
   ]
  },
  {
   "cell_type": "code",
   "execution_count": null,
   "id": "ef442fc0",
   "metadata": {},
   "outputs": [],
   "source": []
  }
 ],
 "metadata": {
  "kernelspec": {
   "display_name": "Python 3 (ipykernel)",
   "language": "python",
   "name": "python3"
  },
  "language_info": {
   "codemirror_mode": {
    "name": "ipython",
    "version": 3
   },
   "file_extension": ".py",
   "mimetype": "text/x-python",
   "name": "python",
   "nbconvert_exporter": "python",
   "pygments_lexer": "ipython3",
   "version": "3.9.12"
  }
 },
 "nbformat": 4,
 "nbformat_minor": 5
}
