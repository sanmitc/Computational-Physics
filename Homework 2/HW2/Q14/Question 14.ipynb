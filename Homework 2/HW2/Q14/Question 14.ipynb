{
 "cells": [
  {
   "cell_type": "markdown",
   "id": "ff683c5c",
   "metadata": {},
   "source": [
    "# Question 14"
   ]
  },
  {
   "cell_type": "markdown",
   "id": "56e9ec25",
   "metadata": {},
   "source": [
    "We know that the magnitude of the force applied by a differential area located at (x,y,z) of the plate is given by:\n",
    "$$dF= \\frac{G\\sigma m}{(\\sqrt{x^2+y^2+z^2})^2}dxdy$$\n",
    "where m=1, the mass of the point mass.\n",
    "But when we integrate only for the z component then we must consider {magnitude x cos(angle)}, where angle is the angle between z axis and the line joining the mass and the differential area. Clearly $cos\\theta=\\frac{z}{\\sqrt{x^2+y^2+z^2}}$\n",
    "So,\n",
    "$$dF_{eff}=dFcos\\theta=\\frac{G\\sigma z}{(x^2+y^2+z^2)^{\\frac{3}{2}}}$$\n",
    "$$\\implies F= \\int dF_{eff}=\\int\\int_{-\\frac{L}{2}}^{\\frac{L}{2}}\\frac{G\\sigma z}{(x^2+y^2+z^2)^{\\frac{3}{2}}}dxdy$$"
   ]
  },
  {
   "cell_type": "code",
   "execution_count": 1,
   "id": "5cc227d6",
   "metadata": {},
   "outputs": [
    {
     "data": {
      "text/plain": [
       "Text(0.5, 1.0, 'variation of z-force w.r.t z')"
      ]
     },
     "execution_count": 1,
     "metadata": {},
     "output_type": "execute_result"
    },
    {
     "data": {
      "image/png": "[encoded data removed]",
      "text/plain": [
       "<Figure size 432x288 with 1 Axes>"
      ]
     },
     "metadata": {
      "needs_background": "light"
     },
     "output_type": "display_data"
    }
   ],
   "source": [
    "import numpy as np\n",
    "import math\n",
    "import matplotlib.pyplot as plt\n",
    "\n",
    "\n",
    "from numpy import ones,copy,cos,tan,pi,linspace\n",
    "\n",
    "\n",
    "def gaussxw(N):\n",
    "\n",
    "    # Initial approximation to roots of the Legendre polynomial\n",
    "    a = linspace(3,4*N-1,N)/(4*N+2)\n",
    "    x = cos(pi*a+1/(8*N*N*tan(a)))\n",
    "\n",
    "    # Find roots using Newton's method\n",
    "    epsilon = 1e-15\n",
    "    delta = 1.0\n",
    "    while delta>epsilon:\n",
    "        p0 = ones(N,float)\n",
    "        p1 = copy(x)\n",
    "        for k in range(1,N):\n",
    "            p0,p1 = p1,((2*k+1)*x*p1-k*p0)/(k+1)\n",
    "        dp = (N+1)*(p0-x*p1)/(1-x*x)\n",
    "        dx = p1/dp\n",
    "        x -= dx\n",
    "        delta = max(abs(dx))\n",
    "\n",
    "    # Calculate the weights\n",
    "    w = 2*(N+1)*(N+1)/(N*N*(1-x*x)*dp*dp)\n",
    "\n",
    "    return x,w\n",
    "\n",
    "def gaussxwab(N,a,b):\n",
    "    x,w = gaussxw(N)\n",
    "    return 0.5*(b-a)*x+0.5*(b+a),0.5*(b-a)*w\n",
    "\n",
    "\n",
    "\n",
    "def f(x,y,z):\n",
    "    G=6.674e-11\n",
    "    return ((z)/((x**2+y**2+z**2)**(3/2)))\n",
    "\n",
    "\n",
    "def int_f(low, high, N, y, z):\n",
    "    x,w=gaussxwab(N, low, high)\n",
    "    val=0\n",
    "    for i in range(N):\n",
    "        val+=(w[i])*(f(x[i], y, z))\n",
    "    return val\n",
    "\n",
    "def int_int_f(low, high, N, z):\n",
    "    y,w=gaussxwab(N, low, high)\n",
    "    val=0\n",
    "    for i in range(N):\n",
    "        val+=(w[i])*(int_f(low, high, N, y[i], z))\n",
    "    return val\n",
    "\n",
    "def gravity_z(z):\n",
    "    low=-5\n",
    "    high=5\n",
    "    N=100\n",
    "    sigma=1e2\n",
    "    return int_int_f(low, high, N, z)*sigma\n",
    "\n",
    "z=np.linspace(0,10,100)\n",
    "gravity=[]\n",
    "for i in range(100):\n",
    "    gravity.append(gravity_z(z[i]))\n",
    "    \n",
    "plt.plot(z,gravity)\n",
    "plt.xlabel('z(m)')\n",
    "plt.ylabel('F_z(N)')\n",
    "plt.title('variation of z-force w.r.t z')\n",
    "\n",
    "    \n",
    "    "
   ]
  },
  {
   "cell_type": "markdown",
   "id": "717b2906",
   "metadata": {},
   "source": [
    "In reality, the force should go to a constant value as z approaches 0.\n",
    "$$F(z) \\approx k\\int\\int_{-\\frac{L}{2}}^{\\frac{L}{2}}\\frac{z }{(x^2+y^2)^{\\frac{3}{2}}}dxdy$$\n",
    "\n",
    "Constant value means the gaussian quadrature assigned too less a weight to that region. This essentially means the integral was undercounted there. Other reason could be large rounding errors whlile diving a small value (Z), by the denominator.\n",
    "\n",
    "The remedy is too see the previous graph and identify where the anomaly is starting to happen. Now, we have to use some other method of uniform interval taking and weight assigning like trapezoidal rule, simpson rule which will approximate that part better, for the other part we can use Gaussian quadrature and mix the two models later into a singe graph. On the otherhand we can approximate the expression analytically beforehand near z=0 regime to avoid unnecessary computational complications.\n"
   ]
  },
  {
   "cell_type": "code",
   "execution_count": null,
   "id": "900c314c",
   "metadata": {},
   "outputs": [],
   "source": []
  }
 ],
 "metadata": {
  "kernelspec": {
   "display_name": "Python 3 (ipykernel)",
   "language": "python",
   "name": "python3"
  },
  "language_info": {
   "codemirror_mode": {
    "name": "ipython",
    "version": 3
   },
   "file_extension": ".py",
   "mimetype": "text/x-python",
   "name": "python",
   "nbconvert_exporter": "python",
   "pygments_lexer": "ipython3",
   "version": "3.9.12"
  }
 },
 "nbformat": 4,
 "nbformat_minor": 5
}
