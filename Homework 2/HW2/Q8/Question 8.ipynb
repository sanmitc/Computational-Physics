{
 "cells": [
  {
   "cell_type": "markdown",
   "id": "e59ba2a3",
   "metadata": {},
   "source": [
    "# Question 8"
   ]
  },
  {
   "cell_type": "code",
   "execution_count": 3,
   "id": "566480ff",
   "metadata": {},
   "outputs": [
    {
     "name": "stdout",
     "output_type": "stream",
     "text": [
      "0.36656898106322067 8\n",
      "0.43913867623358005 16\n",
      "0.45451843128504416 32\n",
      "0.45574568635801105 64\n",
      "0.4558270287586106 128\n",
      "0.45583218714672114 256\n",
      "0.4558325107178048 512\n"
     ]
    }
   ],
   "source": [
    "import math\n",
    "import matplotlib.pyplot as plt\n",
    "import numpy as np\n",
    "\n",
    "\n",
    "#simpson integral function\n",
    "def integral2(down, up, interval):\n",
    "    val=0\n",
    "    x=down\n",
    "    f=0\n",
    "    num=(up-down)/interval\n",
    "    for i in range(0,interval+1):\n",
    "        f=(math.sin(10*math.sqrt(x)))**2\n",
    "        x+=num\n",
    "        if(i==0):\n",
    "            val+=f\n",
    "        if(i==interval):\n",
    "            val+=f\n",
    "        elif(i%2==0):\n",
    "            val+=2*f\n",
    "        elif(i%2==1):\n",
    "            val+=4*f\n",
    "    val=val*(num/3)\n",
    "    return val\n",
    "\n",
    "N=8\n",
    "a=integral2(0,1,2)\n",
    "b=integral2(0,1,4)\n",
    "while(np.abs(a-b)>1e-6):\n",
    "    a=b\n",
    "    b=integral2(0,1,N)\n",
    "    print(b,N)\n",
    "    N*=2\n",
    "    \n",
    "    \n",
    "    \n",
    "\n",
    "            \n",
    "  \n",
    "\n",
    "\n"
   ]
  },
  {
   "cell_type": "code",
   "execution_count": null,
   "id": "15f488f3",
   "metadata": {},
   "outputs": [],
   "source": []
  }
 ],
 "metadata": {
  "kernelspec": {
   "display_name": "Python 3 (ipykernel)",
   "language": "python",
   "name": "python3"
  },
  "language_info": {
   "codemirror_mode": {
    "name": "ipython",
    "version": 3
   },
   "file_extension": ".py",
   "mimetype": "text/x-python",
   "name": "python",
   "nbconvert_exporter": "python",
   "pygments_lexer": "ipython3",
   "version": "3.9.12"
  }
 },
 "nbformat": 4,
 "nbformat_minor": 5
}
