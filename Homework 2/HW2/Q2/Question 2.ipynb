{
 "cells": [
  {
   "cell_type": "markdown",
   "id": "afe42689",
   "metadata": {},
   "source": [
    "# Question 2"
   ]
  },
  {
   "cell_type": "code",
   "execution_count": 3,
   "id": "af4d8789",
   "metadata": {},
   "outputs": [
    {
     "name": "stdout",
     "output_type": "stream",
     "text": [
      "value of integral for 10 slices(simpson)): 4.533759999999999\n",
      "error in percent for 10 slices(simpson) 3.039999999999972\n",
      "value of integral for 100 slices:(simpson) 4.413333376000015\n",
      "error in percent for 100 slices(simpson) 0.30303127272760216\n",
      "value of integral for 1000 slices:(simpson) 4.401333333337617\n",
      "error in percent for 1000 slices(simpson) 0.03030303040038343\n",
      "value of integral for 10 slices(trap)): 4.506559999999999\n",
      "error in percent for 10 slices(trap) 2.421818181818141\n",
      "value of integral for 100 slices:(trap) 4.4010666560000145\n",
      "error in percent for 100 slices(trap) 0.02424218181850225\n",
      "value of integral for 1000 slices:(trap) 4.400010666665618\n",
      "error in percent for 1000 slices(trap) 0.00024242421857824002\n"
     ]
    }
   ],
   "source": [
    "import math\n",
    "import numpy as np\n",
    "import matplotlib.pyplot as plt\n",
    "\n",
    "\n",
    "\n",
    "#part a\n",
    "def f(x):\n",
    "    return x**4-2*x+1\n",
    "\n",
    "def integral_t(low, high, N, f):\n",
    "    step=(high-low)/N\n",
    "    j=low\n",
    "    value=0\n",
    "    for i in range(N):\n",
    "        value+=0.5*(f(j)+f(j+step))\n",
    "        j+=step\n",
    "    return value*step\n",
    "\n",
    "def integral(interval, down, up):\n",
    "    val=0\n",
    "    x=down\n",
    "    f=0\n",
    "    num=(up-down)/interval\n",
    "    for i in range(0,interval+1):\n",
    "        f=x**4-2*x+1\n",
    "        x+=num\n",
    "        if(i==0):\n",
    "            val+=f\n",
    "        if(i==interval):\n",
    "            val+=f\n",
    "        elif(i%2==0):\n",
    "            val+=2*f\n",
    "        elif(i%2==1):\n",
    "            val+=4*f\n",
    "    val=val*(num/3)\n",
    "    return val\n",
    "\n",
    "\n",
    "print('value of integral for 10 slices(simpson)):', integral(10,0,2))\n",
    "#part b\n",
    "\n",
    "def frac_err(interval,down,up):\n",
    "    p=((integral(interval,down, up)-4.4)/4.4)*100\n",
    "    return p\n",
    "print('error in percent for 10 slices(simpson)', frac_err(10,0,2))\n",
    "\n",
    "#part c\n",
    "print('value of integral for 100 slices:(simpson)', integral(100,0,2))\n",
    "print('error in percent for 100 slices(simpson)', frac_err(100,0,2))\n",
    "\n",
    "print('value of integral for 1000 slices:(simpson)', integral(1000,0,2))\n",
    "print('error in percent for 1000 slices(simpson)', frac_err(1000,0,2))\n",
    "\n",
    "def frac_err_t(down, up, interval, func):\n",
    "    p=((integral_t(down , up, interval, func)-4.4)/4.4)*100\n",
    "    return p\n",
    "print('value of integral for 10 slices(trap)):', integral_t(0,2,10,f))    \n",
    "print('error in percent for 10 slices(trap)', frac_err_t(0,2,10,f))\n",
    "\n",
    "#part c\n",
    "print('value of integral for 100 slices:(trap)', integral_t(0,2,100,f))\n",
    "print('error in percent for 100 slices(trap)', frac_err_t(0,2,100,f))\n",
    "\n",
    "print('value of integral for 1000 slices:(trap)', integral_t(0,2,1000,f))\n",
    "print('error in percent for 1000 slices(trap)', frac_err_t(0,2,1000,f))\n",
    "\n",
    "\n",
    "\n",
    "\n",
    "\n",
    "\n",
    "    \n",
    "\n",
    "    \n",
    "    \n",
    "    "
   ]
  },
  {
   "cell_type": "code",
   "execution_count": null,
   "id": "4326a923",
   "metadata": {},
   "outputs": [],
   "source": []
  }
 ],
 "metadata": {
  "kernelspec": {
   "display_name": "Python 3 (ipykernel)",
   "language": "python",
   "name": "python3"
  },
  "language_info": {
   "codemirror_mode": {
    "name": "ipython",
    "version": 3
   },
   "file_extension": ".py",
   "mimetype": "text/x-python",
   "name": "python",
   "nbconvert_exporter": "python",
   "pygments_lexer": "ipython3",
   "version": "3.9.12"
  }
 },
 "nbformat": 4,
 "nbformat_minor": 5
}
