{
 "cells": [
  {
   "cell_type": "markdown",
   "id": "48e01701",
   "metadata": {},
   "source": [
    "# Question 15"
   ]
  },
  {
   "cell_type": "code",
   "execution_count": 1,
   "id": "a655cb34",
   "metadata": {},
   "outputs": [
    {
     "data": {
      "text/plain": [
       "Text(0.5, 1.0, 'behaviour of Gamma integrand')"
      ]
     },
     "execution_count": 1,
     "metadata": {},
     "output_type": "execute_result"
    },
    {
     "data": {
      "image/png": "[encoded data removed]",
      "text/plain": [
       "<Figure size 432x288 with 1 Axes>"
      ]
     },
     "metadata": {
      "needs_background": "light"
     },
     "output_type": "display_data"
    }
   ],
   "source": [
    "#part a\n",
    "import numpy as np\n",
    "import math\n",
    "import matplotlib.pyplot as plt\n",
    "\n",
    "def gamma(n,x):\n",
    "    return x**(n-1)*math.exp(-x)\n",
    "\n",
    "gamma_2=[]\n",
    "gamma_3=[]\n",
    "gamma_4=[]\n",
    "\n",
    "x=np.linspace(0,5,100)\n",
    "\n",
    "for i in range(0,100):\n",
    "    gamma_2.append(gamma(2,x[i]))\n",
    "    gamma_3.append(gamma(3,x[i]))\n",
    "    gamma_4.append(gamma(4,x[i]))\n",
    "    \n",
    "plt.plot(x,gamma_2, label='$Integrand(2)$')\n",
    "plt.plot(x,gamma_3, label='$Integrand(3)$')\n",
    "plt.plot(x,gamma_4, label='$Integrand(4)$')\n",
    "\n",
    "plt.xlabel('x')\n",
    "plt.ylabel('y')\n",
    "plt.legend()\n",
    "plt.title('behaviour of Gamma integrand')"
   ]
  },
  {
   "cell_type": "markdown",
   "id": "e7193cae",
   "metadata": {},
   "source": [
    "$\\textbf{Part B}$\n",
    "\n",
    "In this case we differentiate the integrand. \n",
    "$$\\frac{d}{dx} x^{a-1}e^{-x}= (a-1)x^{a-2}e^{-x} - x^{a-1}e^{-x}$$\n",
    "for maxima it should be 0:\n",
    "$$(a-1)x^{a-2}e^{-x} - x^{a-1}e^{-x}=0 \\implies (a-1) - x =0$$\n",
    "if we cancel, $x^{a-2}e^{-x}$ from both sides, given x is not exactly 0, which is also evident from the solution which gives: $x=a-1$, until $a=1$ which basically makes the integrand simply $e^{-x}$, and this analysis becomes unnecessary itself."
   ]
  },
  {
   "cell_type": "markdown",
   "id": "5fc9c343",
   "metadata": {},
   "source": [
    "$\\textbf{Part C}$\n",
    "\n",
    "Now, we have: \n",
    "$$\\frac{x}{x+c}=\\frac{1}{2} \\implies 2x =x +c  \\implies c=x$$\n",
    "The maxima occurs at $x=a-1$, which meand we have to set $c=a-1$, diffrernt choices of $c$ for different choices of $a$."
   ]
  },
  {
   "cell_type": "markdown",
   "id": "0e98b98d",
   "metadata": {},
   "source": [
    "$\\textbf{Part D}$\n",
    "\n",
    "We represent the expression as:\n",
    "$$x^{a-1}e^{-x}= e^{(a-1)lnx}e^{-x}=e^{[(a-1)lnx-x]}$$\n",
    "\n",
    "This works better because if we first calculate $(a-1)lnx -x$, then the chances of numerical errors are lesser, because of the somewhat similar behavior of lnx and x. It basically helps to nullify the increasing effect of lnx and decreasing effect of -x in a single computation without running into the problem of calculating something big and something small at different times and then adding these to get the result."
   ]
  },
  {
   "cell_type": "markdown",
   "id": "41b2c722",
   "metadata": {},
   "source": [
    "$\\textbf{Part E}$\n",
    "\n",
    "We subtitute $y=\\frac{x}{x+a-1}$ which when reversed looks like: $x=\\frac{(a-1)y}{1-y}$, We substitute this into the integration equation to obtain:\n",
    "$$\\Gamma(a)= (a-1)^{a}\\int_0^1\\frac{e^{\\frac{(1-a)y}{1-y}}}{(1-y)^{1+a}} dy$$\n",
    "We clearly see that the denominator goes to 0 in the vicinity of y=1, but the numerator goes to 0 faster(exponentially)than the denominator(geometrically). So, we can avoid integrating till 1 altogether.\n",
    "\n",
    "The approach we take is to integrate from 0 to 1/2, then 1/2 to 3/4, and so on. For the ith integral we choose, the lower limit to be $1-2^{1-i}$ and the upper limit is $1-2^{-i}$. We keep doing it until the jth integral is less than a certain tolerance value, say 1e-6."
   ]
  },
  {
   "cell_type": "code",
   "execution_count": 2,
   "id": "0dee9d8c",
   "metadata": {},
   "outputs": [
    {
     "name": "stdout",
     "output_type": "stream",
     "text": [
      "Gamma(3/2)is: 0.8862261836929437\n",
      "Gamma(3)is: 1.9999999999099793\n",
      "Gamma(6)is: 119.99999996156383\n",
      "Gamma(10)is: 362880.0\n"
     ]
    }
   ],
   "source": [
    "import math\n",
    "import numpy as np\n",
    "import matplotlib.pyplot as plt\n",
    "\n",
    "def f(a,y):\n",
    "    t_1=(a-1)*math.log((y*(a-1))/(1-y))\n",
    "    t_2=-((a-1)*y)/(1-y)\n",
    "    t_3=-2*math.log((1-y))\n",
    "    return math.exp(t_1+t_2+t_3)\n",
    "\n",
    "#we choose gaussian quadrature as it takes lesser number of iterations, for N=100 points.\n",
    "    \n",
    "    \n",
    "from numpy import ones,copy,cos,tan,pi,linspace\n",
    "\n",
    "\n",
    "def gaussxw(N):\n",
    "\n",
    "    # Initial approximation to roots of the Legendre polynomial\n",
    "    a = linspace(3,4*N-1,N)/(4*N+2)\n",
    "    x = cos(pi*a+1/(8*N*N*tan(a)))\n",
    "\n",
    "    # Find roots using Newton's method\n",
    "    epsilon = 1e-15\n",
    "    delta = 1.0\n",
    "    while delta>epsilon:\n",
    "        p0 = ones(N,float)\n",
    "        p1 = copy(x)\n",
    "        for k in range(1,N):\n",
    "            p0,p1 = p1,((2*k+1)*x*p1-k*p0)/(k+1)\n",
    "        dp = (N+1)*(p0-x*p1)/(1-x*x)\n",
    "        dx = p1/dp\n",
    "        x -= dx\n",
    "        delta = max(abs(dx))\n",
    "\n",
    "    # Calculate the weights\n",
    "    w = 2*(N+1)*(N+1)/(N*N*(1-x*x)*dp*dp)\n",
    "\n",
    "    return x,w\n",
    "\n",
    "def gaussxwab(N,a,b):\n",
    "    x,w = gaussxw(N)\n",
    "    return 0.5*(b-a)*x+0.5*(b+a),0.5*(b-a)*w\n",
    "\n",
    "\n",
    "def int_gamma(a, low, high, N):\n",
    "    x,w=gaussxwab(N, low, high)\n",
    "    val=0\n",
    "    for i in range(N):\n",
    "        val+=(w[i])*(f(a, x[i]))\n",
    "    return val*(a-1)\n",
    "\n",
    "def Gamma(a, tolerance, N):\n",
    "    value=0\n",
    "    low=1e-6\n",
    "    high=1/2\n",
    "    i=1\n",
    "    while(int_gamma(a, low, high, N)>tolerance):\n",
    "        value+=int_gamma(a, low, high, N)\n",
    "        i+=1\n",
    "        low=high\n",
    "        high=1-2**(-i)  \n",
    "    return value\n",
    "\n",
    "N=100\n",
    "tolerance =1e-6\n",
    "\n",
    "#part b and c combined\n",
    "\n",
    "print('Gamma(3/2)is:', Gamma(3/2, tolerance, N))\n",
    "print('Gamma(3)is:', Gamma(3, tolerance, N))\n",
    "print('Gamma(6)is:', Gamma(6, tolerance, N))\n",
    "print('Gamma(10)is:', Gamma(10, tolerance, N))\n",
    "    \n",
    "\n",
    "\n",
    "    \n"
   ]
  },
  {
   "cell_type": "code",
   "execution_count": null,
   "id": "1257e0a4",
   "metadata": {},
   "outputs": [],
   "source": []
  }
 ],
 "metadata": {
  "kernelspec": {
   "display_name": "Python 3 (ipykernel)",
   "language": "python",
   "name": "python3"
  },
  "language_info": {
   "codemirror_mode": {
    "name": "ipython",
    "version": 3
   },
   "file_extension": ".py",
   "mimetype": "text/x-python",
   "name": "python",
   "nbconvert_exporter": "python",
   "pygments_lexer": "ipython3",
   "version": "3.9.12"
  }
 },
 "nbformat": 4,
 "nbformat_minor": 5
}
