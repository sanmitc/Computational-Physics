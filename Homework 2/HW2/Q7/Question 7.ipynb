{
 "cells": [
  {
   "cell_type": "markdown",
   "id": "eaa11516",
   "metadata": {},
   "source": [
    "# Question 7"
   ]
  },
  {
   "cell_type": "code",
   "execution_count": 1,
   "id": "782882dd",
   "metadata": {},
   "outputs": [
    {
     "name": "stdout",
     "output_type": "stream",
     "text": [
      "0.4558324138011351 16384\n"
     ]
    }
   ],
   "source": [
    "#part a\n",
    "\n",
    "\n",
    "import numpy as np\n",
    "import matplotlib.pyplot as plt\n",
    "import math\n",
    "\n",
    "def integralf(down, up, num):\n",
    "    step=(up-down)/num\n",
    "    j=down\n",
    "    value=0\n",
    "    for i in range(1, num+1):\n",
    "        f1=(math.sin(10*math.sqrt(j)))**2\n",
    "        f2=((math.sin(10*math.sqrt(j+step)))**2)\n",
    "        value+=((f1+f2)/2)\n",
    "        j+=step\n",
    "    return (value*step)\n",
    "\n",
    "N=4\n",
    "a=integralf(0,1,1)\n",
    "b=integralf(0,1,2)\n",
    "final_int=0\n",
    "while(np.abs(a-b)>1e-6):\n",
    "    a=b\n",
    "    b=integralf(0,1,N)\n",
    "    N*=2\n",
    "        \n",
    "        \n",
    "print(b,N)\n",
    "        "
   ]
  },
  {
   "cell_type": "code",
   "execution_count": 2,
   "id": "6f41b91d",
   "metadata": {},
   "outputs": [
    {
     "name": "stdout",
     "output_type": "stream",
     "text": [
      "0.5492777218599949\n",
      "0.421494884046580.4129760281923523\n",
      "\n",
      "0.43935208707891290.44054256728106840.44098013139358766\n",
      "\n",
      "0.45303902467955290.453951487186262270.45416432718475740.45421602991335025\n",
      "\n",
      "0.456225110661417240.45643751639354150.456476977174609440.45648604639025590.4564882653701942\n",
      "\n",
      "0.456504594095822670.4565232263247830.456524586799882060.456524773504294930.456524811360711440.45652482028525126\n",
      "\n",
      "0.456289311314751370.456274959129346570.456271018380212670.456270023994253150.456269774972249240.456269712692300930.4562696971208187\n",
      "\n",
      "0.45609122208241910.456078016133596940.456074890054299350.45607412092360950.456073929425006740.456073881599476260.456073869646165360.4560738666580296\n",
      "\n"
     ]
    }
   ],
   "source": [
    "#part b\n",
    "\n",
    "\n",
    "import numpy as np\n",
    "import matplotlib.pyplot as plt\n",
    "import math\n",
    "\n",
    "\n",
    "def integralf(down, up, num):\n",
    "    step=(up-down)/num\n",
    "    j=down\n",
    "    value=0\n",
    "    f2=(math.sin(10*math.sqrt(1)))**2\n",
    "    for i in range(1, num+1):\n",
    "        f1=f2\n",
    "        f2=((math.sin(10*math.sqrt(j+step)))**2)\n",
    "        value+=((f1+f2)/2)\n",
    "        j+=step\n",
    "    return (value*step)\n",
    "\n",
    "\n",
    "def I(i):\n",
    "    return integralf(0,1,2**(i))\n",
    "\n",
    "\n",
    "def R(i,m):\n",
    "    p=0\n",
    "    if(m==1):\n",
    "        p=I(i)\n",
    "    else:\n",
    "        p=((4**m)*R(i,m-1)-R(i-1, m-1))/(4**(m)-1)\n",
    "    return p\n",
    "    #this rule has been used from the textbook of Newman, it has a recursive mathematical proof which is involved\n",
    "    \n",
    "i=3    \n",
    "print(R(2,1))       \n",
    "while(i>2 and i<10):\n",
    "    for j in range(1,i):\n",
    "        print(R(i,j), end='')\n",
    "    print('\\n')\n",
    "    i+=1\n",
    "    \n",
    "        \n",
    "\n",
    "    "
   ]
  },
  {
   "cell_type": "markdown",
   "id": "85b5656b",
   "metadata": {},
   "source": [
    "In around 10 iterations it achieves the convergence value of the normal method which amounts to around 1024 slices, which is impressive considering we needed 16384 slices in the previous case."
   ]
  },
  {
   "cell_type": "code",
   "execution_count": null,
   "id": "c6422cfd",
   "metadata": {},
   "outputs": [],
   "source": []
  }
 ],
 "metadata": {
  "kernelspec": {
   "display_name": "Python 3 (ipykernel)",
   "language": "python",
   "name": "python3"
  },
  "language_info": {
   "codemirror_mode": {
    "name": "ipython",
    "version": 3
   },
   "file_extension": ".py",
   "mimetype": "text/x-python",
   "name": "python",
   "nbconvert_exporter": "python",
   "pygments_lexer": "ipython3",
   "version": "3.9.12"
  }
 },
 "nbformat": 4,
 "nbformat_minor": 5
}
