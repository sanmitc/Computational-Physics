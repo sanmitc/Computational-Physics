{
 "cells": [
  {
   "cell_type": "markdown",
   "id": "213e9947",
   "metadata": {},
   "source": [
    "# Question 6"
   ]
  },
  {
   "cell_type": "code",
   "execution_count": 1,
   "id": "3c36106f",
   "metadata": {},
   "outputs": [
    {
     "name": "stdout",
     "output_type": "stream",
     "text": [
      "4.466693333333338\n",
      "error from first method: 0.06669333333333771\n",
      "error from second method: 0.022355555555553686\n"
     ]
    }
   ],
   "source": [
    "import numpy as np\n",
    "import math\n",
    "import matplotlib.pyplot as plt\n",
    "\n",
    "def integral_s(down, up, N, f):\n",
    "    val=0\n",
    "    x=down\n",
    "    step=(up-down)/N\n",
    "    for i in range(0,N+1):\n",
    "        if(i==0):\n",
    "            val+=f(x)\n",
    "        if(i==N):\n",
    "            val+=f(x)\n",
    "        elif(i%2==0):\n",
    "            val+=2*f(x)\n",
    "        elif(i%2==1):\n",
    "            val+=4*f(x)\n",
    "        x+=step\n",
    "    val=val*(step/3)\n",
    "    return val\n",
    "\n",
    "\n",
    "def f(x):\n",
    "    return x**4-2*x+1\n",
    "    \n",
    "print(integral_s(0,2,20,f))\n",
    "\n",
    "error_1=integral_s(0,2,20,f)-4.4\n",
    "\n",
    "\n",
    "#using h2=h1/2\n",
    "error_2=(integral_s(0,2,10,f)-integral_s(0,2,20,f))/3\n",
    "\n",
    "print('error from first method:', error_1)\n",
    "print('error from second method:', error_2)\n",
    "    \n"
   ]
  },
  {
   "cell_type": "markdown",
   "id": "5a2cba1e",
   "metadata": {},
   "source": [
    "In this case, the error reduces drastically."
   ]
  },
  {
   "cell_type": "code",
   "execution_count": null,
   "id": "5573ff9a",
   "metadata": {},
   "outputs": [],
   "source": []
  }
 ],
 "metadata": {
  "kernelspec": {
   "display_name": "Python 3 (ipykernel)",
   "language": "python",
   "name": "python3"
  },
  "language_info": {
   "codemirror_mode": {
    "name": "ipython",
    "version": 3
   },
   "file_extension": ".py",
   "mimetype": "text/x-python",
   "name": "python",
   "nbconvert_exporter": "python",
   "pygments_lexer": "ipython3",
   "version": "3.9.12"
  }
 },
 "nbformat": 4,
 "nbformat_minor": 5
}
