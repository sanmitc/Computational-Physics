{
 "cells": [
  {
   "cell_type": "markdown",
   "id": "7a4a30b2",
   "metadata": {},
   "source": [
    "# Question 11"
   ]
  },
  {
   "cell_type": "code",
   "execution_count": 1,
   "id": "9c075864",
   "metadata": {},
   "outputs": [
    {
     "data": {
      "text/plain": [
       "Text(0.5, 1.0, 'diffraction profile')"
      ]
     },
     "execution_count": 1,
     "metadata": {},
     "output_type": "execute_result"
    },
    {
     "data": {
      "image/png": "[encoded data removed]",
      "text/plain": [
       "<Figure size 432x288 with 1 Axes>"
      ]
     },
     "metadata": {
      "needs_background": "light"
     },
     "output_type": "display_data"
    }
   ],
   "source": [
    "import math\n",
    "import numpy as np\n",
    "import matplotlib.pyplot as plt\n",
    "\n",
    "from numpy import ones,copy,cos,tan,pi,linspace\n",
    "\n",
    "def f1(x):\n",
    "    return math.cos((math.pi*(x**2)/(2)))\n",
    "            \n",
    "def f2(x):\n",
    "    return math.sin((math.pi*(x**2))/(2))\n",
    "\n",
    "def gaussxw(N):\n",
    "\n",
    "    # Initial approximation to roots of the Legendre polynomial\n",
    "    a = linspace(3,4*N-1,N)/(4*N+2)\n",
    "    x = cos(pi*a+1/(8*N*N*tan(a)))\n",
    "\n",
    "    # Find roots using Newton's method\n",
    "    epsilon = 1e-15\n",
    "    delta = 1.0\n",
    "    while delta>epsilon:\n",
    "        p0 = ones(N,float)\n",
    "        p1 = copy(x)\n",
    "        for k in range(1,N):\n",
    "            p0,p1 = p1,((2*k+1)*x*p1-k*p0)/(k+1)\n",
    "        dp = (N+1)*(p0-x*p1)/(1-x*x)\n",
    "        dx = p1/dp\n",
    "        x -= dx\n",
    "        delta = max(abs(dx))\n",
    "\n",
    "    # Calculate the weights\n",
    "    w = 2*(N+1)*(N+1)/(N*N*(1-x*x)*dp*dp)\n",
    "\n",
    "    return x,w\n",
    "\n",
    "def gaussxwab(N,a,b):\n",
    "    x,w = gaussxw(N)\n",
    "    return 0.5*(b-a)*x+0.5*(b+a),0.5*(b-a)*w\n",
    "\n",
    "                    \n",
    "N=50\n",
    "def C(u,N):\n",
    "    x,w=gaussxwab(N,0,u)\n",
    "    val=0\n",
    "    for i in range(N):\n",
    "        val+=(w[i])*(f1(x[i]))\n",
    "    return val\n",
    "                    \n",
    "def S(u,N):\n",
    "    x,w=gaussxwab(N,0,u)\n",
    "    val=0\n",
    "    for i in range(N):\n",
    "        val+=(w[i])*(f2(x[i]))\n",
    "    return val\n",
    "                    \n",
    "                    \n",
    "wave_length=1\n",
    "z=3\n",
    "x=np.linspace(-5,5,100)\n",
    "u=[]\n",
    "for i in range(0,100):\n",
    "    u.append(x[i]*math.sqrt(2/(wave_length*z)))\n",
    "                    \n",
    "def rel_I(u,N):\n",
    "    I=[]    \n",
    "    for i in range(len(u)):\n",
    "        I.append((1/8)*((2*C(u[i],N)+1)**2+(2*S(u[i],N)+1)**2))\n",
    "    return I\n",
    "\n",
    "plt.plot(x,rel_I(u,N))\n",
    "        \n",
    "plt.xlabel('x(m)')\n",
    "plt.ylabel('Relative Intensity')\n",
    "plt.title('diffraction profile')\n",
    "                    \n",
    "\n",
    "                    "
   ]
  },
  {
   "cell_type": "markdown",
   "id": "052b33bd",
   "metadata": {},
   "source": [
    "In the negative x, the sound intensity drops to almost 0, in a near exponential fashion, which is expeced because this area is directly blocked by the obstacle. The second area has an interesting oscillating feature which dampens off. This is quite intuitive because for large positive x, the intensity will be 1, bsically being the case that obstacle is too far away to have any significant effect on the relative intensity."
   ]
  },
  {
   "cell_type": "code",
   "execution_count": null,
   "id": "b8ad807f",
   "metadata": {},
   "outputs": [],
   "source": []
  }
 ],
 "metadata": {
  "kernelspec": {
   "display_name": "Python 3 (ipykernel)",
   "language": "python",
   "name": "python3"
  },
  "language_info": {
   "codemirror_mode": {
    "name": "ipython",
    "version": 3
   },
   "file_extension": ".py",
   "mimetype": "text/x-python",
   "name": "python",
   "nbconvert_exporter": "python",
   "pygments_lexer": "ipython3",
   "version": "3.9.12"
  }
 },
 "nbformat": 4,
 "nbformat_minor": 5
}
