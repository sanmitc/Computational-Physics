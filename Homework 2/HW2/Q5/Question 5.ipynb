{
 "cells": [
  {
   "cell_type": "markdown",
   "id": "ccb177d6",
   "metadata": {},
   "source": [
    "# Question 5"
   ]
  },
  {
   "cell_type": "markdown",
   "id": "78329534",
   "metadata": {},
   "source": [
    "We have L $h_2=\\frac{h_1}{2}$, which simplifies the expression to error=$\\frac{I_1-I_2}{3}$"
   ]
  },
  {
   "cell_type": "code",
   "execution_count": 2,
   "id": "72a0262f",
   "metadata": {},
   "outputs": [
    {
     "name": "stdout",
     "output_type": "stream",
     "text": [
      "4.4266600000000045\n",
      "error from first method: 0.026660000000004125\n",
      "error from second method: 0.02663333333333136\n"
     ]
    }
   ],
   "source": [
    "import numpy as np\n",
    "import math\n",
    "import matplotlib.pyplot as plt\n",
    "\n",
    "def f(x):\n",
    "    return x**4-2*x+1\n",
    "    \n",
    "def integral_t(low, high, N, f):\n",
    "    step=(high-low)/N\n",
    "    j=low\n",
    "    value=0\n",
    "    for i in range(N):\n",
    "        value+=0.5*(f(j)+f(j+step))\n",
    "        j+=step\n",
    "    return value*step\n",
    "        \n",
    "print(integral_t(0,2,20,f))\n",
    "\n",
    "error_1=integral_t(0,2,20,f)-4.4\n",
    "\n",
    "\n",
    "#using h2=h1/2\n",
    "error_2=(integral_t(0,2,10,f)-integral_t(0,2,20,f))/3\n",
    "\n",
    "print('error from first method:', error_1)\n",
    "print('error from second method:', error_2)\n",
    "\n",
    "        \n",
    "    "
   ]
  },
  {
   "cell_type": "markdown",
   "id": "581b73db",
   "metadata": {},
   "source": [
    "The error estimated by the second method is slightly lesser than the first."
   ]
  },
  {
   "cell_type": "code",
   "execution_count": null,
   "id": "0509dbe5",
   "metadata": {},
   "outputs": [],
   "source": []
  }
 ],
 "metadata": {
  "kernelspec": {
   "display_name": "Python 3 (ipykernel)",
   "language": "python",
   "name": "python3"
  },
  "language_info": {
   "codemirror_mode": {
    "name": "ipython",
    "version": 3
   },
   "file_extension": ".py",
   "mimetype": "text/x-python",
   "name": "python",
   "nbconvert_exporter": "python",
   "pygments_lexer": "ipython3",
   "version": "3.9.12"
  }
 },
 "nbformat": 4,
 "nbformat_minor": 5
}
