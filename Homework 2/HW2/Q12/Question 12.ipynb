{
 "cells": [
  {
   "cell_type": "markdown",
   "id": "70db302b",
   "metadata": {},
   "source": [
    "# Question 12"
   ]
  },
  {
   "cell_type": "markdown",
   "id": "a00fce5c",
   "metadata": {},
   "source": [
    "So, we have:\n",
    "$$I(\\omega)= \\frac{\\hbar}{4\\pi^2c^2} \\frac{\\omega^3}{e^{\\frac{\\hbar\\omega}{k_BT}}-1}$$\n",
    "Now, we subtitute $x=\\frac{\\hbar\\omega}{k_BT}$, which makes the integral: $d\\omega=\\frac{k_BT}{\\hbar}dx$ which makes the integral:\n",
    "$$I= \\int_{\\text{all} \\space \\omega} I(\\omega)d\\omega=\\int_0^\\infty \\frac{\\hbar}{4\\pi^2c^2} \\frac{(\\frac{k_BTx}{\\hbar})^3}{e^x-1} \\frac{k_BT}{\\hbar}dx$$\n",
    "which becomes:\n",
    "$$I=\\int_{0}^{\\infty} \\frac{k_B^4T^4}{4\\pi^2c^2\\hbar^3} \\frac{x^3}{e^x-1}dx=\\frac{k_B^4T^4}{4\\pi^2c^2\\hbar^3}\\int_0^\\infty\\frac{x^3}{e^x-1}dx$$\n",
    "giving us the final result. This comes from the fact that the total intensity at a point is due to the combined effect of intesities due to all frequencies."
   ]
  },
  {
   "cell_type": "markdown",
   "id": "24d122c6",
   "metadata": {},
   "source": [
    "$\\textbf{Part-A}:$\n",
    "\n",
    "For this we break the integal into 2 parts, 0 to L and L to infinity. L can be made arbitrarily large within numerical limits. For the second integral we have: \n",
    "$$\\int_{L}^\\infty\\frac{x^3}{e^x-1} \\approx \\int_{L}^\\infty \\frac{x^3}{e^x} = (L^3+3L^2+6L+6)e^{-L}$$\n",
    "This is easy to do with integration by parts. The result clearly goes to 0 because of the $e^{-L}$ term. Now, progressively double L until the quantity, $(L^3+3L^2+6L+6)e^{-L}$, is changing less than 1e-6 after each iteration. We set L to this optimum value and integrate till this L.\n",
    "\n",
    "Also, when the limit approaches 0, the integrand approaches a $\\frac{0}{0}$ form, which can create problems, so, we reduce the expression by L'hopital rule to:(if we take step of 0.1, then this appplies to the 0 containing interval, i.e. 0 to 0.1)\n",
    "$\\int_{\\text{first interval}}=\\frac{(f(0)+f(1))}{2}\\times 0.1$, where $f(x)=3x^2e^{-x}$"
   ]
  },
  {
   "cell_type": "code",
   "execution_count": 3,
   "id": "4f744a04",
   "metadata": {},
   "outputs": [
    {
     "name": "stdout",
     "output_type": "stream",
     "text": [
      "The integral value is: 6.49393940226716\n"
     ]
    }
   ],
   "source": [
    "#part a\n",
    "\n",
    "import math\n",
    "import numpy as np\n",
    "import matplotlib.pyplot as plt\n",
    "\n",
    "\n",
    "def f(x):\n",
    "    return (x**3)/(math.exp(x)-1)\n",
    "\n",
    "#trapezoidal integral\n",
    "def integral(down, up, num, f):\n",
    "    step=(up-down)/num\n",
    "    j=down\n",
    "    value=0\n",
    "    f2=f(j)\n",
    "    for i in range(1, num+1):\n",
    "        f1=f2\n",
    "        f2=f(j+step)\n",
    "        value+=((f1+f2)/2)\n",
    "        j+=step\n",
    "    return (value*step)\n",
    "\n",
    "\n",
    "#optimal L finding\n",
    "def L(x):\n",
    "    return (x**3+6*(x**2)+6*x+6)*math.exp(-x)\n",
    "\n",
    "#define tolerance\n",
    "tolerance=1e-12\n",
    "\n",
    "def Opt_L(L):\n",
    "    l1=1\n",
    "    l2=2\n",
    "    while(np.abs(L(l1)-L(l2))>tolerance):\n",
    "        l1=l2\n",
    "        l2*=2\n",
    "    return l2\n",
    "\n",
    "l=Opt_L(L)\n",
    "\n",
    "\n",
    "#defining steps#\n",
    "step=0.0001\n",
    "\n",
    "#to avoid the 0 interval\n",
    "def asymp_f(x):\n",
    "    return 3*(x**2)*(math.exp(-x))\n",
    "val=((asymp_f(0)+asymp_f(step))*step)/2\n",
    "\n",
    "#calculate the fincal integral\n",
    "final_integral=integral(step,l,int(l/step),f)+val\n",
    "\n",
    "print('The integral value is:', final_integral)\n",
    "#print(L(64),val)\n",
    "\n",
    "\n",
    "#methodology: we tolerate an error of 1e-6, we make L bigger, and check the change of the integral. "
   ]
  },
  {
   "cell_type": "markdown",
   "id": "08d262a1",
   "metadata": {},
   "source": [
    "The answer should be pretty accurate becuase of the tolerance value is taken to be very less. The tailing integal is handled efficiently, and the 0 limit is also handled through the analysis of the asymptomatic behaviour of the function."
   ]
  },
  {
   "cell_type": "code",
   "execution_count": 6,
   "id": "40a8873a",
   "metadata": {},
   "outputs": [
    {
     "name": "stdout",
     "output_type": "stream",
     "text": [
      "5.668291987921345e-08\n",
      "The percent error with recorded values are 0.0367247543950006\n"
     ]
    }
   ],
   "source": [
    "#part b\n",
    "\n",
    "k_b=1.381e-23\n",
    "c=3e8\n",
    "hbar=1.05457182e-34\n",
    "\n",
    "\n",
    "const=((k_b**4))/(4*(math.pi**2)*(c**2)*(hbar**3))\n",
    "\n",
    "sigma=final_integral*const\n",
    "\n",
    "\n",
    "print(sigma)\n",
    "\n",
    "sigma_literature= 5.670374419e-8\n",
    "\n",
    "error=(np.absolute(sigma-sigma_literature)/sigma_literature)\n",
    "print('The percent error with recorded values are', 100*error)\n"
   ]
  },
  {
   "cell_type": "code",
   "execution_count": null,
   "id": "c1adf973",
   "metadata": {},
   "outputs": [],
   "source": []
  }
 ],
 "metadata": {
  "kernelspec": {
   "display_name": "Python 3 (ipykernel)",
   "language": "python",
   "name": "python3"
  },
  "language_info": {
   "codemirror_mode": {
    "name": "ipython",
    "version": 3
   },
   "file_extension": ".py",
   "mimetype": "text/x-python",
   "name": "python",
   "nbconvert_exporter": "python",
   "pygments_lexer": "ipython3",
   "version": "3.9.12"
  }
 },
 "nbformat": 4,
 "nbformat_minor": 5
}
