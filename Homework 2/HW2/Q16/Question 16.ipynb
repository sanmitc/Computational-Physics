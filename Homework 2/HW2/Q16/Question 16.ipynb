{
 "cells": [
  {
   "cell_type": "markdown",
   "id": "2c1d68c6",
   "metadata": {},
   "source": [
    "# Question 16"
   ]
  },
  {
   "cell_type": "markdown",
   "id": "48723900",
   "metadata": {},
   "source": [
    "Part-A: The separation between slits is given by $\\frac{\\pi}{\\alpha}$"
   ]
  },
  {
   "cell_type": "code",
   "execution_count": 3,
   "id": "e45a112c",
   "metadata": {},
   "outputs": [],
   "source": [
    "#Part B\n",
    "#The length scale is considered to be in \\mu m\n",
    "import math\n",
    "import cmath\n",
    "import numpy as np\n",
    "import matplotlib.pyplot as plt\n",
    "\n",
    "\n",
    "def q(u,s):\n",
    "    alpha=math.pi/s\n",
    "    return (math.sin(alpha*u))**2"
   ]
  },
  {
   "cell_type": "markdown",
   "id": "d221c975",
   "metadata": {},
   "source": []
  },
  {
   "cell_type": "code",
   "execution_count": 4,
   "id": "648bbacb",
   "metadata": {},
   "outputs": [
    {
     "data": {
      "text/plain": [
       "Text(0, 0.5, 'Intensity')"
      ]
     },
     "execution_count": 4,
     "metadata": {},
     "output_type": "execute_result"
    },
    {
     "data": {
      "image/png": "[encoded data removed]",
      "text/plain": [
       "<Figure size 432x288 with 1 Axes>"
      ]
     },
     "metadata": {
      "needs_background": "light"
     },
     "output_type": "display_data"
    }
   ],
   "source": [
    "#Part C\n",
    "#Total length is s*10=200 mu m => w=200\n",
    "\n",
    "w=200\n",
    "s=20\n",
    "wave_l=0.5\n",
    "f=1e6\n",
    "l=1e5\n",
    "\n",
    "from numpy import ones,copy,cos,tan,pi,linspace\n",
    "\n",
    "\n",
    "def gaussxw(N):\n",
    "\n",
    "    # Initial approximation to roots of the Legendre polynomial\n",
    "    a = linspace(3,4*N-1,N)/(4*N+2)\n",
    "    x = cos(pi*a+1/(8*N*N*tan(a)))\n",
    "\n",
    "    # Find roots using Newton's method\n",
    "    epsilon = 1e-15\n",
    "    delta = 1.0\n",
    "    while delta>epsilon:\n",
    "        p0 = ones(N,float)\n",
    "        p1 = copy(x)\n",
    "        for k in range(1,N):\n",
    "            p0,p1 = p1,((2*k+1)*x*p1-k*p0)/(k+1)\n",
    "        dp = (N+1)*(p0-x*p1)/(1-x*x)\n",
    "        dx = p1/dp\n",
    "        x -= dx\n",
    "        delta = max(abs(dx))\n",
    "\n",
    "    # Calculate the weights\n",
    "    w = 2*(N+1)*(N+1)/(N*N*(1-x*x)*dp*dp)\n",
    "\n",
    "    return x,w\n",
    "\n",
    "def gaussxwab(N,a,b):\n",
    "    x,w = gaussxw(N)\n",
    "    return 0.5*(b-a)*x+0.5*(b+a),0.5*(b-a)*w\n",
    "\n",
    "\n",
    "def dI(w,s,wave_l,f,x,u,q):\n",
    "    return math.sqrt(q(u,s))*cmath.exp((2*math.pi*(x)*u*1j)/f)\n",
    "\n",
    "def I_x(wid,s,wave_l,f,x,N):\n",
    "    u,w=gaussxwab(N,-wid/2, wid/2)\n",
    "    val=0\n",
    "    for i in range(N):\n",
    "        val+= w[i]*dI(wid,s,wave_l,f,x,u[i],q)\n",
    "    return (np.absolute(val))**2\n",
    "\n",
    "x=np.linspace(-6e4, 6e4,500)\n",
    "I=[]\n",
    "N=100\n",
    "for i in range(500):\n",
    "    I.append(I_x(w,s,wave_l,f,x[i],N))\n",
    "    \n",
    "plt.plot(x,I)\n",
    "plt.xlabel('displacement from central maxima')\n",
    "plt.ylabel('Intensity')\n",
    "    \n",
    "    \n",
    "    \n"
   ]
  },
  {
   "cell_type": "markdown",
   "id": "d4e060a6",
   "metadata": {},
   "source": [
    "The sharpness of the peak and parameters like wavelength dictate the number of sample points that we should take. We should not miss the maxima or deform it substantially due to poor choice of sampling points."
   ]
  },
  {
   "cell_type": "markdown",
   "id": "2a29e92e",
   "metadata": {},
   "source": [
    "Part D"
   ]
  },
  {
   "cell_type": "code",
   "execution_count": 5,
   "id": "89d6007f",
   "metadata": {},
   "outputs": [
    {
     "data": {
      "text/plain": [
       "<matplotlib.image.AxesImage at 0x244a911b490>"
      ]
     },
     "execution_count": 5,
     "metadata": {},
     "output_type": "execute_result"
    },
    {
     "data": {
      "image/png": "[encoded data removed]",
      "text/plain": [
       "<Figure size 432x288 with 1 Axes>"
      ]
     },
     "metadata": {
      "needs_background": "light"
     },
     "output_type": "display_data"
    }
   ],
   "source": [
    "grid=np.zeros((100,500))\n",
    "for i in range(0,500):\n",
    "    for j in range(0,100):\n",
    "        grid[j][i]=I[i]\n",
    "        \n",
    "plt.imshow(grid, vmax=6000)"
   ]
  },
  {
   "cell_type": "markdown",
   "id": "00149d11",
   "metadata": {},
   "source": [
    "Part E-i"
   ]
  },
  {
   "cell_type": "code",
   "execution_count": 6,
   "id": "d7e56aaa",
   "metadata": {},
   "outputs": [],
   "source": [
    "def q_1(u,s):\n",
    "    alpha=math.pi/s\n",
    "    beta=math.pi/(2*s)\n",
    "    return q(u,s)*(math.sin(alpha*u))**2*(math.sin(beta*u))**2"
   ]
  },
  {
   "cell_type": "code",
   "execution_count": 7,
   "id": "ac33a9a1",
   "metadata": {},
   "outputs": [
    {
     "data": {
      "text/plain": [
       "<matplotlib.image.AxesImage at 0x244a918f130>"
      ]
     },
     "execution_count": 7,
     "metadata": {},
     "output_type": "execute_result"
    },
    {
     "data": {
      "image/png": "[encoded data removed]",
      "text/plain": [
       "<Figure size 432x288 with 1 Axes>"
      ]
     },
     "metadata": {
      "needs_background": "light"
     },
     "output_type": "display_data"
    }
   ],
   "source": [
    "def dI(w,s,wave_l,f,x,u,q):\n",
    "    return math.sqrt(q(u,s))*cmath.exp((2*math.pi*(x)*u*1j)/f)\n",
    "\n",
    "def I_x(wid,s,wave_l,f,x,N):\n",
    "    u,w=gaussxwab(N,-wid/2, wid/2)\n",
    "    val=0\n",
    "    for i in range(N):\n",
    "        val+= w[i]*dI(wid,s,wave_l,f,x,u[i],q_1)\n",
    "    return (np.absolute(val))**2\n",
    "\n",
    "x=np.linspace(-6e4, 6e4,500)\n",
    "I_1=[]\n",
    "N=100\n",
    "for i in range(500):\n",
    "    I_1.append(I_x(w,s,wave_l,f,x[i],N))\n",
    "    \n",
    "    \n",
    "grid_1=np.zeros((100,500))\n",
    "for i in range(0,500):\n",
    "    for j in range(0,100):\n",
    "        grid_1[j][i]=I_1[i]\n",
    "        \n",
    "plt.imshow(grid)"
   ]
  },
  {
   "cell_type": "code",
   "execution_count": 8,
   "id": "1773eec1",
   "metadata": {},
   "outputs": [
    {
     "data": {
      "text/plain": [
       "Text(0, 0.5, 'Intensity')"
      ]
     },
     "execution_count": 8,
     "metadata": {},
     "output_type": "execute_result"
    },
    {
     "data": {
      "image/png": "[encoded data removed]",
      "text/plain": [
       "<Figure size 432x288 with 1 Axes>"
      ]
     },
     "metadata": {
      "needs_background": "light"
     },
     "output_type": "display_data"
    }
   ],
   "source": [
    "plt.plot(x,I_1)\n",
    "plt.xlabel('displacement from central maxima')\n",
    "plt.ylabel('Intensity')"
   ]
  },
  {
   "cell_type": "markdown",
   "id": "167bebb0",
   "metadata": {},
   "source": [
    "$\\textbf{Part E-ii}$\n",
    "\n",
    "So, we assume that 10$\\mu$m slit spans from +30 to +40 $\\mu$m and 20 $\\mu$m slit spans from -30 to -50 $\\mu$m"
   ]
  },
  {
   "cell_type": "code",
   "execution_count": 16,
   "id": "7306835f",
   "metadata": {},
   "outputs": [
    {
     "data": {
      "text/plain": [
       "<matplotlib.image.AxesImage at 0x244aa486220>"
      ]
     },
     "execution_count": 16,
     "metadata": {},
     "output_type": "execute_result"
    },
    {
     "data": {
      "image/png": "[encoded data removed]",
      "text/plain": [
       "<Figure size 432x288 with 1 Axes>"
      ]
     },
     "metadata": {
      "needs_background": "light"
     },
     "output_type": "display_data"
    }
   ],
   "source": [
    "def dI_s(w,s,wave_l,f,x,u):\n",
    "    return cmath.exp((2*math.pi*(x)*u*1j)/f)\n",
    "\n",
    "def I_x(wid,s,wave_l,f,x,N, w1, w2):\n",
    "    u,w=gaussxwab(N,w1,w2)\n",
    "    val=0\n",
    "    for i in range(N):\n",
    "        val+= w[i]*dI_s(wid,s,wave_l,f,x,u[i])\n",
    "    return (np.absolute(val))**2\n",
    "\n",
    "x=np.linspace(-6e4, 6e4,500)\n",
    "I_s=[]\n",
    "N=100\n",
    "w1d=30\n",
    "w1u=40\n",
    "w2d=-30\n",
    "w2u=-50\n",
    "for i in range(500):\n",
    "    I_s.append(I_x(w,s,wave_l,f,x[i],N,w1d,w1u)+I_x(w,s,wave_l,f,x[i],N,w2d,w2u))\n",
    "    \n",
    "    \n",
    "grid_s=np.zeros((100,500))\n",
    "for i in range(0,500):\n",
    "    for j in range(0,100):\n",
    "        grid_s[j][i]=I_s[i]\n",
    "        \n",
    "plt.figure()\n",
    "plt.imshow(grid_s)"
   ]
  },
  {
   "cell_type": "code",
   "execution_count": null,
   "id": "3b354e72",
   "metadata": {},
   "outputs": [],
   "source": []
  }
 ],
 "metadata": {
  "kernelspec": {
   "display_name": "Python 3 (ipykernel)",
   "language": "python",
   "name": "python3"
  },
  "language_info": {
   "codemirror_mode": {
    "name": "ipython",
    "version": 3
   },
   "file_extension": ".py",
   "mimetype": "text/x-python",
   "name": "python",
   "nbconvert_exporter": "python",
   "pygments_lexer": "ipython3",
   "version": "3.9.12"
  }
 },
 "nbformat": 4,
 "nbformat_minor": 5
}
