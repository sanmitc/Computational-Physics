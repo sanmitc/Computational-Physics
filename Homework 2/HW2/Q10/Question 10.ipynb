{
 "cells": [
  {
   "cell_type": "markdown",
   "id": "54badfd0",
   "metadata": {},
   "source": [
    "# Question 10"
   ]
  },
  {
   "cell_type": "markdown",
   "id": "d5fda063",
   "metadata": {},
   "source": [
    "In this case we have:\n",
    "$$\\frac{dx}{dt}=\\sqrt{\\frac{2(E-V(x))}{m}}$$\n",
    "implying:\n",
    "$$dt = \\frac{dx}{\\sqrt{\\frac{2(E-V(x))}{m}}}$$\n",
    "and integrating we have:\n",
    "$$\\int_{0}^{\\frac{T}{4}} dt=\\int_{a}^{0}\\frac{dx}{\\sqrt{\\frac{2(E-V(x))}{m}}}$$\n",
    "giving us:(E=V(a))\n",
    "$$T=4\\int_{a}^{0}\\frac{dx}{\\sqrt{\\frac{2(V(a)-V(x))}{m}}}$$\n"
   ]
  },
  {
   "cell_type": "code",
   "execution_count": 2,
   "id": "405037e3",
   "metadata": {},
   "outputs": [
    {
     "data": {
      "text/plain": [
       "Text(0, 0.5, 'time(s)')"
      ]
     },
     "execution_count": 2,
     "metadata": {},
     "output_type": "execute_result"
    },
    {
     "data": {
      "image/png": "[encoded data removed]",
      "text/plain": [
       "<Figure size 432x288 with 1 Axes>"
      ]
     },
     "metadata": {
      "needs_background": "light"
     },
     "output_type": "display_data"
    }
   ],
   "source": [
    "import numpy as np\n",
    "import math\n",
    "import matplotlib.pyplot as plt\n",
    "\n",
    "from numpy import ones,copy,cos,tan,pi,linspace\n",
    "\n",
    "def gaussxw(N):\n",
    "\n",
    "    # Initial approximation to roots of the Legendre polynomial\n",
    "    a = linspace(3,4*N-1,N)/(4*N+2)\n",
    "    x = cos(pi*a+1/(8*N*N*tan(a)))\n",
    "\n",
    "    # Find roots using Newton's method\n",
    "    epsilon = 1e-15\n",
    "    delta = 1.0\n",
    "    while delta>epsilon:\n",
    "        p0 = ones(N,float)\n",
    "        p1 = copy(x)\n",
    "        for k in range(1,N):\n",
    "            p0,p1 = p1,((2*k+1)*x*p1-k*p0)/(k+1)\n",
    "        dp = (N+1)*(p0-x*p1)/(1-x*x)\n",
    "        dx = p1/dp\n",
    "        x -= dx\n",
    "        delta = max(abs(dx))\n",
    "\n",
    "    # Calculate the weights\n",
    "    w = 2*(N+1)*(N+1)/(N*N*(1-x*x)*dp*dp)\n",
    "\n",
    "    return x,w\n",
    "\n",
    "def gaussxwab(N,a,b):\n",
    "    x,w = gaussxw(N)\n",
    "    return 0.5*(b-a)*x+0.5*(b+a),0.5*(b-a)*w\n",
    "\n",
    "\n",
    "def f(x,a):\n",
    "    return 1/(math.sqrt(2*(a**4-x**4)))\n",
    "    \n",
    "    \n",
    "N=20\n",
    "def int_a(a,N):\n",
    "    x,w=gaussxwab(N,0,a)\n",
    "    val=0\n",
    "    for i in range(N):\n",
    "        val+=(w[i])*(f(x[i],a))\n",
    "    return val\n",
    "        \n",
    "a_x=np.linspace(1,2,100)\n",
    "time=[]\n",
    "for i in range(0, 100):\n",
    "    time.append(4*int_a(a_x[i],N))\n",
    "    \n",
    "plt.plot(a_x, time, label='')\n",
    "plt.xlabel('amplitude(m)')\n",
    "plt.ylabel('time(s)')\n",
    "    \n"
   ]
  },
  {
   "cell_type": "code",
   "execution_count": 5,
   "id": "6440c47c",
   "metadata": {},
   "outputs": [
    {
     "data": {
      "text/plain": [
       "Text(0, 0.5, 'time(s)')"
      ]
     },
     "execution_count": 5,
     "metadata": {},
     "output_type": "execute_result"
    },
    {
     "data": {
      "image/png": "[encoded data removed]",
      "text/plain": [
       "<Figure size 432x288 with 1 Axes>"
      ]
     },
     "metadata": {
      "needs_background": "light"
     },
     "output_type": "display_data"
    }
   ],
   "source": [
    "#we see teh behaviour when the amplitude approaches 0, \n",
    "\n",
    "a_x=np.linspace(1e-6,1,100)\n",
    "time=[]\n",
    "for i in range(0, 100):\n",
    "    time.append(4*int_a(a_x[i],N))\n",
    "    \n",
    "plt.plot(a_x, time, label='')\n",
    "plt.xlabel('amplitude(m)')\n",
    "plt.ylabel('time(s)')"
   ]
  },
  {
   "cell_type": "markdown",
   "id": "4f14c426",
   "metadata": {},
   "source": [
    "For $V=x^2$, the derivative tends to 0,near 0 ampitude, but the double derivative is not 0. It is like:\n",
    "$$F=\\frac{dV}{dx}=\\frac{dV}{dx}|_{x=0}+(x)\\frac{d^2V}{dx^2}|_{x=0}\\approx 2x$$, this makes $F\\propto x$ even near equal to 0.\n",
    "Now, in case of higher powers like $x^4$, we have 1st, second and third derivative to be 0 too, making the descent slower. In a more analytical term:\n",
    "$$T=\\int_{a}^{0}\\frac{dx}{\\sqrt{\\frac{2(V(a)-V(x))}{m}}}$$\n",
    "Now, for a very small we can approximate $a\\approx x$ thoughout the oscilation. Neglecting constant terms(these do not affect the behaviour of the limit/diverging nature of the function.) We have :\n",
    "$$f(x)=\\int_{a}^0 (V(a)-V(x))^{-\\frac{1}{2}}dx=\\int_{a}^{0}(a^4-x^4)^{-\\frac{1}{2}}dx \\\\ \\approx \\int_{a}^0 (4x^3(x-a))^{-\\frac{1}{2}}dx \\sim \\int_{a}^0 (a^3(a))^{-\\frac{1}{2}}dx \\approx \\frac{a}{a^2} \\sim \\mathcal{O}(\\frac{1}{a})$$ which diverges as a approaches 0. For, $V=x^2$, the asymptomatic behaviour will approach a constant, $\\mathcal{O}(1)$. "
   ]
  },
  {
   "cell_type": "code",
   "execution_count": null,
   "id": "27a20cb4",
   "metadata": {},
   "outputs": [],
   "source": []
  }
 ],
 "metadata": {
  "kernelspec": {
   "display_name": "Python 3 (ipykernel)",
   "language": "python",
   "name": "python3"
  },
  "language_info": {
   "codemirror_mode": {
    "name": "ipython",
    "version": 3
   },
   "file_extension": ".py",
   "mimetype": "text/x-python",
   "name": "python",
   "nbconvert_exporter": "python",
   "pygments_lexer": "ipython3",
   "version": "3.9.12"
  }
 },
 "nbformat": 4,
 "nbformat_minor": 5
}
