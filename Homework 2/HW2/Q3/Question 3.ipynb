{
 "cells": [
  {
   "cell_type": "markdown",
   "id": "f7d6bbf4",
   "metadata": {},
   "source": [
    "# Question 3"
   ]
  },
  {
   "cell_type": "code",
   "execution_count": 5,
   "id": "573f72ca",
   "metadata": {},
   "outputs": [
    {
     "name": "stdout",
     "output_type": "stream",
     "text": [
      "[0.09967433095700311, 0.1973782979252622, 0.2912575549187819, 0.379678604836857, 0.4613124525077634, 0.5351901649082886, 0.6007269573584804, 0.6577152297801124, 0.7062904036981023, 0.7468759872674482, 0.7801157395611761, 0.8068010530895687, 0.827800863878028, 0.8439998184566344, 0.8562484372960001, 0.8653269722748819, 0.8719228551041777, 0.8766202664647553, 0.879899503018312, 0.8821434644062905, 0.8836486376265532, 0.8846382976881536, 0.885276141067973, 0.8856791090070771, 0.8859286577330157, 0.8860801423826749, 0.8861702808750259, 0.8862228560021079, 0.8862529152932942, 0.8862697616304072, 0.8862790162925718]\n"
     ]
    },
    {
     "data": {
      "text/plain": [
       "<matplotlib.legend.Legend at 0x25e84e1b1c0>"
      ]
     },
     "execution_count": 5,
     "metadata": {},
     "output_type": "execute_result"
    },
    {
     "data": {
      "image/png": "[encoded data removed]",
      "text/plain": [
       "<Figure size 432x288 with 1 Axes>"
      ]
     },
     "metadata": {
      "needs_background": "light"
     },
     "output_type": "display_data"
    }
   ],
   "source": [
    "#We take 10 slices for each 0.1 interval, and apply Simpson's rule\n",
    "import numpy as np\n",
    "import math\n",
    "import matplotlib.pyplot as plt\n",
    "\n",
    "\n",
    "def integral2(interval, down, up):\n",
    "    val=0\n",
    "    x=down\n",
    "    f=0\n",
    "    num=(up-down)/interval\n",
    "    for i in range(0,interval+1):\n",
    "        f=np.exp(-x**2)\n",
    "        x+=num\n",
    "        if(i==0):\n",
    "            val+=f\n",
    "        if(i==interval):\n",
    "            val+=f\n",
    "        elif(i%2==0):\n",
    "            val+=2*f\n",
    "        elif(i%2==1):\n",
    "            val+=4*f\n",
    "    val=val*(num/3)\n",
    "    return val\n",
    "\n",
    "\n",
    "def gauss(intval_size, down, up):\n",
    "    g=[]\n",
    "    val=0\n",
    "    num=int((up-down)/intval_size)\n",
    "    j=down\n",
    "    for i in range(0,num+1):\n",
    "        val+=integral2(10000, j, j+intval_size)\n",
    "        g.append(val)\n",
    "        j+=intval_size\n",
    "    return g\n",
    "         \n",
    "x=np.linspace(0,3,31)\n",
    "#printing the numbers\n",
    "print(gauss(0.1,0,3))\n",
    "\n",
    "plt.plot(x,gauss(0.1,0,3), label='gaussian integral')\n",
    "plt.xlabel('x')\n",
    "plt.ylabel('exp(-x^2)')\n",
    "plt.legend()\n",
    "    \n",
    "#print(integral2(30, 0, 3))"
   ]
  },
  {
   "cell_type": "code",
   "execution_count": null,
   "id": "13cc0921",
   "metadata": {},
   "outputs": [],
   "source": []
  }
 ],
 "metadata": {
  "kernelspec": {
   "display_name": "Python 3 (ipykernel)",
   "language": "python",
   "name": "python3"
  },
  "language_info": {
   "codemirror_mode": {
    "name": "ipython",
    "version": 3
   },
   "file_extension": ".py",
   "mimetype": "text/x-python",
   "name": "python",
   "nbconvert_exporter": "python",
   "pygments_lexer": "ipython3",
   "version": "3.9.12"
  }
 },
 "nbformat": 4,
 "nbformat_minor": 5
}
