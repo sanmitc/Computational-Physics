{
 "cells": [
  {
   "cell_type": "markdown",
   "id": "a925cc60",
   "metadata": {},
   "source": [
    "# Question 18"
   ]
  },
  {
   "cell_type": "code",
   "execution_count": 3,
   "id": "a757b848",
   "metadata": {},
   "outputs": [
    {
     "name": "stdout",
     "output_type": "stream",
     "text": [
      "1.999999999999993\n",
      "3.99999999999999\n",
      "8.000000000000002\n",
      "16.000000000000018\n",
      "32.00000000000003\n",
      "64.00000000000026\n",
      "128.00000000000168\n",
      "255.99999999998894\n",
      "511.9999999999226\n",
      "1024.000000000446\n",
      "2048.0000000048944\n",
      "4095.9999997308005\n",
      "8191.999997537425\n",
      "16383.999963805347\n",
      "32767.999499965485\n",
      "65535.99608144405\n",
      "131071.9378405642\n",
      "262142.83101705124\n",
      "524273.9928697285\n",
      "1048135.2847953342\n"
     ]
    }
   ],
   "source": [
    "import cmath\n",
    "import math\n",
    "import numpy as np\n",
    "import matplotlib.pyplot as plt\n",
    "\n",
    "def f(z):\n",
    "    return cmath.exp(2*z)\n",
    "\n",
    "def deriv(m,N):\n",
    "    sum=0\n",
    "    for k in range(N):\n",
    "        num=cmath.exp(complex(0,(2*math.pi*k)/N))\n",
    "        sum+= f(num)*(cmath.exp(complex(0,(-2*math.pi*k*m)/N)))\n",
    "    sum=(math.factorial(m)/N)*sum\n",
    "    return sum\n",
    "N=10000\n",
    "for i in range(1,21):\n",
    "    print(deriv(i,N).real)\n",
    "        \n",
    "    "
   ]
  },
  {
   "cell_type": "code",
   "execution_count": null,
   "id": "da501568",
   "metadata": {},
   "outputs": [],
   "source": []
  }
 ],
 "metadata": {
  "kernelspec": {
   "display_name": "Python 3 (ipykernel)",
   "language": "python",
   "name": "python3"
  },
  "language_info": {
   "codemirror_mode": {
    "name": "ipython",
    "version": 3
   },
   "file_extension": ".py",
   "mimetype": "text/x-python",
   "name": "python",
   "nbconvert_exporter": "python",
   "pygments_lexer": "ipython3",
   "version": "3.9.12"
  }
 },
 "nbformat": 4,
 "nbformat_minor": 5
}
