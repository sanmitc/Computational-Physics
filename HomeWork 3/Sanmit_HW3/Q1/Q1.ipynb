{
 "cells": [
  {
   "cell_type": "markdown",
   "metadata": {
    "id": "D_a7yEq72TSm"
   },
   "source": [
    "# Question 1"
   ]
  },
  {
   "cell_type": "code",
   "execution_count": null,
   "metadata": {
    "colab": {
     "base_uri": "https://localhost:8080/"
    },
    "executionInfo": {
     "elapsed": 739,
     "status": "ok",
     "timestamp": 1677459918790,
     "user": {
      "displayName": "Sanmit",
      "userId": "05616125681803156711"
     },
     "user_tz": -330
    },
    "id": "xbopd778xeUM",
    "outputId": "0b78696f-0ec4-40fc-82aa-9986edda5a49"
   },
   "outputs": [
    {
     "name": "stdout",
     "output_type": "stream",
     "text": [
      "the roots of the equations are(by 1st method) [-9.999894245993346e-07, -999999.999999]\n",
      "<built-in function sqrt>\n",
      "the roots of the equations are(by 2nd method) [-1.000000000001e-06, -1000010.5755125057]\n"
     ]
    }
   ],
   "source": [
    "\n",
    "import numpy as np\n",
    "import matplotlib.pyplot as plt\n",
    "import math\n",
    "\n",
    "#Put the coefficeints of the equation in this order\n",
    "def roots1(a,b,c):\n",
    "    D=math.sqrt(b**2-4*a*c)\n",
    "    root1=(-b+D)/(2*a)\n",
    "    root2=(-b-D)/(2*a)\n",
    "    return [root1, root2]\n",
    "\n",
    "print('the roots of the equations are(by 1st method)', roots1(0.001, 1000, 0.001))\n",
    "\n",
    "def roots2(a,b,c):\n",
    "    D=math.sqrt(b**2-4*a*c)\n",
    "    root1=(2*c)/(-b-D)\n",
    "    root2=(2*c)/(-b+D)\n",
    "    return [root1, root2]\n",
    "\n",
    "a=0.001\n",
    "c=0.001\n",
    "b=1000\n",
    "print(math.sqrt)\n",
    "print('the roots of the equations are(by 2nd method)', roots2(0.001, 1000, 0.001))\n"
   ]
  },
  {
   "cell_type": "markdown",
   "metadata": {
    "id": "8QTPPEmd2Qa9"
   },
   "source": [
    "Part c"
   ]
  },
  {
   "cell_type": "markdown",
   "metadata": {
    "id": "mAecgFJsYGyn"
   },
   "source": [
    "From the stucture of the equation we know that one root is very large in absolute terms and the other is very small. The correct roots are, both negative. In this case $D\\approx b$, So, in the first case, -b+D case is inducing the round off error. So, we can say the second root in the 1st method is correct, but the 1st root is not. So, we take the 2nd root of the 1st method.\n",
    "\n",
    "Similarly, the 1st root of teh second method is acceptable, because the denomicator has (-b-D) with no round off relative errors. Now, we have the roots as: (-999999.999999, -1.000000000001e-06). The new modified funciton should look like:\n",
    "\n"
   ]
  },
  {
   "cell_type": "code",
   "execution_count": null,
   "metadata": {
    "colab": {
     "base_uri": "https://localhost:8080/"
    },
    "executionInfo": {
     "elapsed": 641,
     "status": "ok",
     "timestamp": 1677460515684,
     "user": {
      "displayName": "Sanmit",
      "userId": "05616125681803156711"
     },
     "user_tz": -330
    },
    "id": "XvX7jBlqa_4x",
    "outputId": "96943478-6f71-40ef-9646-70474f0cdffd"
   },
   "outputs": [
    {
     "name": "stdout",
     "output_type": "stream",
     "text": [
      "the roots of the equations are: [-999999.999999, -1.000000000001e-06]\n"
     ]
    }
   ],
   "source": [
    "def roots(a,b,c):\n",
    "    D=math.sqrt(b**2-4*a*c)\n",
    "    if(b<0):\n",
    "        root1=(-b+D)/(2*a)\n",
    "        root2=(2*c)/(-b+D)\n",
    "    else:\n",
    "        root1=(-b-D)/(2*a)\n",
    "        root2=(2*c)/(-b-D)\n",
    "\n",
    "    return [root1, root2]\n",
    "\n",
    "\n",
    "\n",
    "print('the roots of the equations are:', roots(0.001, 1000, 0.001))\n",
    "\n",
    "#It satisfies the result"
   ]
  }
 ],
 "metadata": {
  "colab": {
   "authorship_tag": "ABX9TyNy9HjhvQzl7Hn6Wy8Dl3lm",
   "provenance": []
  },
  "kernelspec": {
   "display_name": "Python 3 (ipykernel)",
   "language": "python",
   "name": "python3"
  },
  "language_info": {
   "codemirror_mode": {
    "name": "ipython",
    "version": 3
   },
   "file_extension": ".py",
   "mimetype": "text/x-python",
   "name": "python",
   "nbconvert_exporter": "python",
   "pygments_lexer": "ipython3",
   "version": "3.9.12"
  }
 },
 "nbformat": 4,
 "nbformat_minor": 1
}
