{
 "cells": [
  {
   "cell_type": "markdown",
   "metadata": {
    "id": "P5rzmA1EW-Tb"
   },
   "source": [
    "# Question 6\n",
    "\n"
   ]
  },
  {
   "cell_type": "markdown",
   "metadata": {
    "id": "NxBFkOngDyAi"
   },
   "source": [
    " In this case first we set up the equations for this finite quantum well. We divide the region into 3 parts, part I , part II and part III on the basis of x axis. part 1 from $-\\infty \\rightarrow -w/2$, part II from $-w/2 \\rightarrow w/2$, and part III from $w/2 \\rightarrow \\infty$ \n",
    "\n",
    "\n",
    " In the part I and III we have thscrodinger equation to be:\n",
    " $$\\frac{\\hbar^2}{2m}\\frac{d^2\\psi}{dx^2}=(V-E)\\psi \\implies \\psi = Ae^{\\alpha x} + Be^{-\\alpha x}$$\n",
    "\n",
    " where, $\\alpha= \\sqrt{\\frac{2m(V-E)}{\\hbar^2}}$, now we do not want the solution to blow up, meaning one of A=0 for positive x and B=0 for negative x.\n",
    "\n",
    " In the region 2 we have the equation to be:  \n",
    "\n",
    " $$\\frac{-\\hbar^2}{2m}\\frac{d^2\\psi}{dx^2}=E\\psi \\implies \\psi = Asinkx +Bcoskx$$\n",
    "\n",
    " where $k=\\sqrt{\\frac{2mE}{\\hbar^2}}$. Now, the general solution looks like:\n",
    "\n",
    " $$\\psi= \\begin{cases} Ae^{\\alpha x} & \\text{region I}\\\\\n",
    " C sinkx + D coskx & \\text{region II}\\\\\n",
    " Be^{-\\alpha x} & \\text{region III}\\\\\n",
    " \\end{cases}$$\n",
    "\n",
    " from the symmetry of the given problem, we can easily see that the problem is divided into 2 cases, symmetric and anti-symmetric.\n",
    "\n",
    " **Symmetric**\n",
    "\n",
    " Here, A=B and thus C=0, the odd sin term vanishes and only the cos term is left behind. So, at w/2 we can have the boundary conditions of the continuity and differentiability of the wave functions, giving rise to two equations:\n",
    "\n",
    " $$Ae^{\\frac{-\\alpha w}{2}}=D cos(\\frac{kw}{2})$$\n",
    " $$A\\frac{-\\alpha w}{2}e^{\\frac{-\\alpha w}{2}}=\\frac{-Dkw}{2} sin(\\frac{kw}{2})$$\n",
    "\n",
    " If we divide the first equation by the second we get: \n",
    "\n",
    " $$ktan(\\frac{kw}{2})=\\alpha$$\n",
    "\n",
    " **Anti-Symmetric**\n",
    "\n",
    " A=-B and the sin term survives.\n",
    "\n",
    "  $$-Ae^{\\frac{-\\alpha w}{2}}=C sin(\\frac{kw}{2})$$\n",
    " $$-A\\frac{-\\alpha w}{2}e^{\\frac{-\\alpha w}{2}}=\\frac{Ckw}{2} cos(\\frac{kw}{2})$$\n",
    "\n",
    " giving rise to: \n",
    "\n",
    "  $$kcot(\\frac{kw}{2})=-\\alpha$$\n",
    "\n",
    "**Setting up the final equation**\n",
    "We have $$k^2 +\\alpha^2 = \\frac{2mV}{\\hbar^2}$$\n",
    "\n",
    "To eliminate the dimensionality, we define $\\frac{kw}{2}=k'$ and $a' = \\frac{\\alpha w}{2}$, which means:\n",
    "\n",
    "$$k'^2 +\\alpha'^2 = \\frac{mVw^2}{2\\hbar^2}=s^2$$\n",
    "\n",
    "The final equation reads:\n",
    "\n",
    "$$a' = \\begin{cases} k'tank' & \\text{symmetric}\\\\\n",
    "-k'cotk' & \\text{anti-symmetric}\\\\\n",
    "\\end{cases}= \\sqrt{s^2 - k'^2}$$\n",
    "\n",
    "$$\\implies k' =\\begin{cases} \\sqrt{s^2- k'^2}cotk' & \\text{symmetric}\\\\\n",
    "-\\sqrt{s^2- k'^2}tank' & \\text{anti-symmetric}\\\\ \\end{cases}$$\n",
    "\n",
    "After k has been found we can write:\n",
    "$$k' =\\frac{kw}{2}=\\frac{w}{2}\\sqrt{\\frac{2mE}{\\hbar^2}} = \\frac{w}{\\hbar}\\sqrt{\\frac{mE}{2}} \\\\ \\implies E = \\frac{2\\hbar^2k'^2}{mw^2}$$\n",
    "\n"
   ]
  },
  {
   "cell_type": "code",
   "execution_count": 2,
   "metadata": {
    "colab": {
     "base_uri": "https://localhost:8080/"
    },
    "executionInfo": {
     "elapsed": 682,
     "status": "ok",
     "timestamp": 1677471180614,
     "user": {
      "displayName": "Sanmit",
      "userId": "05616125681803156711"
     },
     "user_tz": -330
    },
    "id": "8M0JPs3wWirk",
    "outputId": "5bc47d45-0018-458b-f274-c75c37b26e00"
   },
   "outputs": [
    {
     "name": "stdout",
     "output_type": "stream",
     "text": [
      "11.455250193134239\n"
     ]
    }
   ],
   "source": [
    "import numpy as np\n",
    "import matplotlib.pyplot as plt\n",
    "import math\n",
    "\n",
    "\n",
    "# we first plot the functions to get an idea of the roots\n",
    "m=9.1094e-31\n",
    "w=1e-9\n",
    "V=20*(1.602e-19)\n",
    "h=6.626e-34\n",
    "hbar=(h/(2*math.pi))\n",
    "\n",
    "s=math.sqrt((m*V*w**2)/(2*hbar**2))\n",
    "print(s)"
   ]
  },
  {
   "cell_type": "code",
   "execution_count": 3,
   "metadata": {
    "colab": {
     "base_uri": "https://localhost:8080/",
     "height": 282
    },
    "executionInfo": {
     "elapsed": 18,
     "status": "ok",
     "timestamp": 1677471182807,
     "user": {
      "displayName": "Sanmit",
      "userId": "05616125681803156711"
     },
     "user_tz": -330
    },
    "id": "k7R9jZLLPsh0",
    "outputId": "af5e6d4d-cb44-457c-e279-4bda1b563df6"
   },
   "outputs": [
    {
     "data": {
      "text/plain": [
       "[<matplotlib.lines.Line2D at 0x1b8a52cf2b0>]"
      ]
     },
     "execution_count": 3,
     "metadata": {},
     "output_type": "execute_result"
    },
    {
     "data": {
      "image/png": "[encoded data removed]",
      "text/plain": [
       "<Figure size 432x288 with 1 Axes>"
      ]
     },
     "metadata": {
      "needs_background": "light"
     },
     "output_type": "display_data"
    }
   ],
   "source": [
    "x=np.linspace(1, 10, 1000)\n",
    "#symmetric case\n",
    "y_sym=[]\n",
    "n=len(x)\n",
    "for i in range(n):\n",
    "    y_sym.append(math.sqrt(s**2-x[i]**2)-x[i]*np.tan(x[i]))\n",
    "plt.plot(x, y_sym)\n",
    "#plt.plot(x, np.zeros(n))\n",
    "\n"
   ]
  },
  {
   "cell_type": "code",
   "execution_count": 4,
   "metadata": {
    "colab": {
     "base_uri": "https://localhost:8080/",
     "height": 282
    },
    "executionInfo": {
     "elapsed": 11,
     "status": "ok",
     "timestamp": 1677471184711,
     "user": {
      "displayName": "Sanmit",
      "userId": "05616125681803156711"
     },
     "user_tz": -330
    },
    "id": "2ZjToBQRQWrg",
    "outputId": "53029d0f-0c17-4bdf-c7cb-cf571f764ce7"
   },
   "outputs": [
    {
     "data": {
      "text/plain": [
       "[<matplotlib.lines.Line2D at 0x1b8a53c34f0>]"
      ]
     },
     "execution_count": 4,
     "metadata": {},
     "output_type": "execute_result"
    },
    {
     "data": {
      "image/png": "[encoded data removed]",
      "text/plain": [
       "<Figure size 432x288 with 1 Axes>"
      ]
     },
     "metadata": {
      "needs_background": "light"
     },
     "output_type": "display_data"
    }
   ],
   "source": [
    "x=np.linspace(0.0001,10,1000)\n",
    "#anti-symmetric case\n",
    "y_anti=[]\n",
    "n=len(x)\n",
    "for i in range(n):\n",
    "    y_anti.append(math.sqrt(s**2-x[i]**2)+x[i]/np.tan(x[i]))\n",
    "plt.plot(x, y_anti)"
   ]
  },
  {
   "cell_type": "markdown",
   "metadata": {
    "id": "-ckUNMPuWu_B"
   },
   "source": [
    "So, clearly the first six energy states come from both symmetric and annti-symmetric states, 3 frm each. But in this case we see that, the roots have weird behaviour near these which can cause peoblems in convergence. So, we modify the code a little bit to guess better the positions of teh roots.\n"
   ]
  },
  {
   "cell_type": "code",
   "execution_count": 5,
   "metadata": {
    "colab": {
     "base_uri": "https://localhost:8080/",
     "height": 286
    },
    "executionInfo": {
     "elapsed": 1672,
     "status": "ok",
     "timestamp": 1677471212592,
     "user": {
      "displayName": "Sanmit",
      "userId": "05616125681803156711"
     },
     "user_tz": -330
    },
    "id": "wdFHuBusQrs0",
    "outputId": "16daf831-2b96-4eaa-895e-6bce36d73450"
   },
   "outputs": [
    {
     "data": {
      "text/plain": [
       "<matplotlib.legend.Legend at 0x1b8a544db80>"
      ]
     },
     "execution_count": 5,
     "metadata": {},
     "output_type": "execute_result"
    },
    {
     "data": {
      "image/png": "[encoded data removed]",
      "text/plain": [
       "<Figure size 432x288 with 1 Axes>"
      ]
     },
     "metadata": {
      "needs_background": "light"
     },
     "output_type": "display_data"
    }
   ],
   "source": [
    "circle=[]\n",
    "tan=[]\n",
    "cot=[]\n",
    "x=np.linspace(1, 10, 500)\n",
    "n=len(x)\n",
    "for i in range(0, n):\n",
    "    circle.append(math.sqrt(s**2-x[i]**2))\n",
    "    tan.append(((x[i]*np.tan(x[i]))))\n",
    "    cot.append(((-x[i]/np.tan(x[i]))))\n",
    "\n",
    "plt.plot(x,circle)\n",
    "plt.plot(x,tan,'g', label='tan')\n",
    "plt.plot(x, cot, 'm', label='cot')\n",
    "plt.ylim(-1,12)\n",
    "plt.legend()"
   ]
  },
  {
   "cell_type": "code",
   "execution_count": 11,
   "metadata": {
    "colab": {
     "base_uri": "https://localhost:8080/"
    },
    "executionInfo": {
     "elapsed": 12,
     "status": "ok",
     "timestamp": 1677471190858,
     "user": {
      "displayName": "Sanmit",
      "userId": "05616125681803156711"
     },
     "user_tz": -330
    },
    "id": "xzqYN1F0YWnF",
    "outputId": "6ac51d1c-0f6a-476e-e657-888230db8f1b"
   },
   "outputs": [
    {
     "name": "stdout",
     "output_type": "stream",
     "text": [
      "symmetric cases are:\n",
      "1.444371638163278\n",
      "4.325213208375796\n",
      "7.176905644548641\n",
      "anti-symmetric cases are:\n",
      "2.8868360602404914\n",
      "5.756657550798395\n",
      "8.578430845689619\n"
     ]
    }
   ],
   "source": [
    "def sym(s,x):\n",
    "    return math.sqrt(s**2-x**2)-x*math.tan(x)\n",
    "\n",
    "def anti(s,x):\n",
    "    return math.sqrt(s**2-x**2)+x/math.tan(x)\n",
    "\n",
    "\n",
    "def f_p(f, s, l, r, tol):\n",
    "    left=l\n",
    "    right=r\n",
    "    L=f(s, left)\n",
    "    R=f(s, right)\n",
    "    if(L*R>0):\n",
    "        return 99999\n",
    "    else:\n",
    "        for i in range (1000):\n",
    "            middle=(left*R-L*right)/(R-L)\n",
    "            M=f(s, middle)\n",
    "            if(L*M<0):\n",
    "                right=middle\n",
    "                R=M\n",
    "            if(L*M>0):\n",
    "                left=middle\n",
    "                L=M\n",
    "            if(L*M==0):\n",
    "                left=middle\n",
    "                right=middle\n",
    "            if(right-left<tol):\n",
    "                break\n",
    "    return middle\n",
    "\n",
    "\n",
    "#clearly, the roots of the symmetric cases are near, 1.4, 4.3, 7.2\n",
    "#anti symmetric cases are 2.9, 5.7, 8.6\n",
    "print('symmetric cases are:')\n",
    "print(f_p(sym, s, 1.4, 1.47, 1e-10))\n",
    "print(f_p(sym, s, 4.2, 4.4, 1e-10))\n",
    "print(f_p(sym, s, 7.1, 7.3, 1e-10))\n",
    "\n",
    "\n",
    "print('anti-symmetric cases are:')\n",
    "print(f_p(anti, s, 2.8, 3, 1e-10))\n",
    "print(f_p(anti, s, 5.6, 5.8, 1e-10))\n",
    "print(f_p(anti, s, 8.5, 8.7, 1e-10))\n",
    "\n",
    "m=9.1094e-31\n",
    "w=1e-9\n",
    "V=20*(1.602e-19)\n",
    "h=6.626e-34\n",
    "hbar=(h/(2*math.pi))\n",
    "\n"
   ]
  },
  {
   "cell_type": "code",
   "execution_count": 10,
   "metadata": {
    "colab": {
     "base_uri": "https://localhost:8080/"
    },
    "executionInfo": {
     "elapsed": 418,
     "status": "ok",
     "timestamp": 1677471227296,
     "user": {
      "displayName": "Sanmit",
      "userId": "05616125681803156711"
     },
     "user_tz": -330
    },
    "id": "cX3cjRNZDHin",
    "outputId": "8ea9eb4c-2df9-414d-bf1b-c2e21ff246b0"
   },
   "outputs": [
    {
     "name": "stdout",
     "output_type": "stream",
     "text": [
      "symmetric case energies are(eV): [0.31836203 2.85481788 7.8602768 ]\n",
      "anti-symmetric case energies are(eV): [ 1.27176717  5.05713046 11.22998241]\n"
     ]
    }
   ],
   "source": [
    "m=9.1094e-31\n",
    "w=1e-9\n",
    "V=20*(1.602e-19)\n",
    "h=6.626e-34\n",
    "hbar=(h/(2*math.pi))\n",
    "mult=((2*hbar**2)/(m*w**2))/(1.6e-19)\n",
    "\n",
    "#Now, we calculate the respective energies\n",
    "\n",
    "\n",
    "#symmetric cases\n",
    "sy=np.zeros(3)\n",
    "sy[0]=(f_p(sym, s, 1.4, 1.47, 1e-10))\n",
    "sy[1]=f_p(sym, s, 4.2, 4.4, 1e-10)\n",
    "sy[2]=(f_p(sym, s, 7.1, 7.3, 1e-10))\n",
    "\n",
    "#anti-stmmetric cases\n",
    "a=np.zeros(3)\n",
    "a[0]=f_p(anti, s, 2.8, 3, 1e-10)\n",
    "a[1]=(f_p(anti, s, 5.6, 5.8, 1e-10))\n",
    "a[2]=(f_p(anti, s, 8.5, 8.7, 1e-10))\n",
    "\n",
    "for i in range(3):\n",
    "    sy[i]=sy[i]**2*mult\n",
    "    a[i]=a[i]**2*mult\n",
    "\n",
    "\n",
    "print('symmetric case energies are(eV):', sy)\n",
    "print('anti-symmetric case energies are(eV):', a)\n",
    "\n",
    "\n",
    "\n"
   ]
  },
  {
   "cell_type": "code",
   "execution_count": null,
   "metadata": {},
   "outputs": [],
   "source": []
  }
 ],
 "metadata": {
  "colab": {
   "authorship_tag": "ABX9TyPhEdQ7BchvWQ2TACkWPU7c",
   "provenance": []
  },
  "kernelspec": {
   "display_name": "Python 3 (ipykernel)",
   "language": "python",
   "name": "python3"
  },
  "language_info": {
   "codemirror_mode": {
    "name": "ipython",
    "version": 3
   },
   "file_extension": ".py",
   "mimetype": "text/x-python",
   "name": "python",
   "nbconvert_exporter": "python",
   "pygments_lexer": "ipython3",
   "version": "3.9.12"
  }
 },
 "nbformat": 4,
 "nbformat_minor": 1
}
