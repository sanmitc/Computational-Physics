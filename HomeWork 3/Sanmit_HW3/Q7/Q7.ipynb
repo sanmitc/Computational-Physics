{
 "cells": [
  {
   "cell_type": "markdown",
   "metadata": {
    "id": "2FD9Nbtgnhjh"
   },
   "source": [
    "# Question 7"
   ]
  },
  {
   "cell_type": "code",
   "execution_count": null,
   "metadata": {
    "colab": {
     "base_uri": "https://localhost:8080/",
     "height": 296
    },
    "executionInfo": {
     "elapsed": 1336,
     "status": "ok",
     "timestamp": 1676608150170,
     "user": {
      "displayName": "Sanmit",
      "userId": "05616125681803156711"
     },
     "user_tz": -330
    },
    "id": "Zsjl0h1eh95s",
    "outputId": "e98538fe-d999-4842-9e9d-37fc05302c49"
   },
   "outputs": [
    {
     "data": {
      "text/plain": [
       "Text(0, 0.5, 'f(x)')"
      ]
     },
     "execution_count": 99,
     "metadata": {},
     "output_type": "execute_result"
    },
    {
     "data": {
      "image/png": "[encoded data removed]",
      "text/plain": [
       "<Figure size 432x288 with 1 Axes>"
      ]
     },
     "metadata": {
      "needs_background": "light"
     },
     "output_type": "display_data"
    }
   ],
   "source": [
    "import numpy as np\n",
    "import matplotlib.pyplot as plt\n",
    "import math\n",
    "\n",
    "def f(x):\n",
    "    return 924*(x**6) - 2772*(x**5) + 3150*x**4 - 1680*x**3 + 420*x**2 - 42*x + 1\n",
    "\n",
    "x=np.linspace(0,1,200)\n",
    "y=[]\n",
    "for i in range(len(x)):\n",
    "    y.append(f(x[i]))\n",
    "\n",
    "\n",
    "plt.plot(x,y)\n",
    "plt.plot(x, np.zeros(len(x)))\n",
    "plt.xlabel('x')\n",
    "plt.ylabel('f(x)')\n"
   ]
  },
  {
   "cell_type": "markdown",
   "metadata": {
    "id": "KY-XOFUrom6p"
   },
   "source": [
    "The roots are symmetric across 0.5 from inspection. The roots are approx: 0.03, 0.16, 0.4, 0.6, 0.84, 0.97. \n",
    "\n",
    "We can also define the derivative as we have a closed form of the function:\n",
    "\n",
    "$$f'(x)=5544x^5 + 13860x^4 + 12600x^3 - 5040x^2 +840x -42$$"
   ]
  },
  {
   "cell_type": "code",
   "execution_count": null,
   "metadata": {
    "colab": {
     "base_uri": "https://localhost:8080/"
    },
    "executionInfo": {
     "elapsed": 587,
     "status": "ok",
     "timestamp": 1676609141217,
     "user": {
      "displayName": "Sanmit",
      "userId": "05616125681803156711"
     },
     "user_tz": -330
    },
    "id": "ET5pkhksoIG_",
    "outputId": "9e62c625-bad2-4afd-bda2-fa50a7e04341"
   },
   "outputs": [
    {
     "name": "stdout",
     "output_type": "stream",
     "text": [
      "[0.03376524282433868, 0.16939530045843557, 0.38069040694420475, 0.6193095930557871, 0.8306046995415904, 0.9662347571756869]\n"
     ]
    }
   ],
   "source": [
    "def f(x):\n",
    "    return 924*(x**6) - 2772*(x**5) + 3150*x**4 - 1680*x**3 + 420*x**2 - 42*x + 1\n",
    "\n",
    "def d_f(x):\n",
    "    return 5544*x**5-13860*x**4+12600*x**3-5040*x**2+840*x-42\n",
    "\n",
    "#starting guesses are 0.01, 0.2, 0.42, 0.58, 0.8, 0.99\n",
    "\n",
    "def newton(f, guess, tol):\n",
    "    x=guess\n",
    "    while(np.abs(f(x))>tol):\n",
    "        x=x-f(x)/d_f(x)\n",
    "    return x\n",
    "\n",
    "x=np.linspace(0,1,200)\n",
    "y=[]\n",
    "d_y=[]\n",
    "for i in range(len(x)):\n",
    "    y.append(f(x[i]))\n",
    "    d_y.append(d_f(x[i]))\n",
    "\n",
    "r=[]\n",
    "r.append(newton(f, 0.01, 1e-6))\n",
    "r.append(newton(f, 0.2, 1e-6))\n",
    "r.append(newton(f, 0.42, 1e-6))\n",
    "r.append(newton(f, 0.58, 1e-6))\n",
    "r.append(newton(f, 0.8, 1e-6))\n",
    "r.append(newton(f, 0.99, 1e-6))\n",
    "\n",
    "print(r)\n"
   ]
  }
 ],
 "metadata": {
  "colab": {
   "authorship_tag": "ABX9TyMBFRsWSOaA+bcKmcQzP6lj",
   "provenance": []
  },
  "kernelspec": {
   "display_name": "Python 3 (ipykernel)",
   "language": "python",
   "name": "python3"
  },
  "language_info": {
   "codemirror_mode": {
    "name": "ipython",
    "version": 3
   },
   "file_extension": ".py",
   "mimetype": "text/x-python",
   "name": "python",
   "nbconvert_exporter": "python",
   "pygments_lexer": "ipython3",
   "version": "3.9.12"
  }
 },
 "nbformat": 4,
 "nbformat_minor": 1
}
