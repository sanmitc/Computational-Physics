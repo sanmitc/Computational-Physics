{
 "cells": [
  {
   "cell_type": "markdown",
   "metadata": {
    "id": "hozW9EWe6ZoX"
   },
   "source": [
    "# Question 5"
   ]
  },
  {
   "cell_type": "markdown",
   "metadata": {
    "id": "WFEOHCMPoHBr"
   },
   "source": [
    "\n",
    "## part A\n",
    "\n",
    "Here we are supposed to find the maxima of the intensity, which will be given the derivative of the intenasity equated to 0, the intensity can be written as:\n",
    "$$I=\\alpha\\frac{\\lambda^{-5}}{e^{\\frac{\\beta}{\\lambda}}-1}$$\n",
    "where $\\alpha=2\\pi hc^2$, and $\\beta=\\frac{hc}{k_BT}$\n",
    "\n",
    "Now, after differntiation we have:\n",
    "$$\\frac{dI}{d\\lambda}=\\frac{(e^\\frac{\\beta}{\\lambda}-1)(\\frac{-5}{\\lambda^6})-\\lambda^{-5}e^\\frac{\\beta}{\\lambda}(\\frac{-\\beta}{\\lambda^2})}{(e^\\frac{\\beta}{\\lambda}-1)^2}$$\n",
    "\n",
    "Equating it with 0, we multiply the RHS with $\\lambda^6(e^\\frac{\\beta}{\\lambda}-1)^2$, to obtain:\n",
    "\n",
    "$$-5(e^\\frac{\\beta}{\\lambda}-1)+\\frac{\\beta}{\\lambda} e^\\frac{\\beta}{\\lambda}=0$$\n",
    "writing $\\frac{\\beta}{\\lambda}=x$, we have the equation as:\n",
    "$$x=5(1-e^{-x})$$"
   ]
  },
  {
   "cell_type": "code",
   "execution_count": 1,
   "metadata": {
    "colab": {
     "base_uri": "https://localhost:8080/",
     "height": 282
    },
    "executionInfo": {
     "elapsed": 740,
     "status": "ok",
     "timestamp": 1676518828230,
     "user": {
      "displayName": "Sanmit",
      "userId": "05616125681803156711"
     },
     "user_tz": -330
    },
    "id": "aB9sgjZEKsb8",
    "outputId": "e364050d-f2d2-4228-ce2a-72c5bf9d98c1"
   },
   "outputs": [
    {
     "data": {
      "text/plain": [
       "[<matplotlib.lines.Line2D at 0x1ff2fafa7c0>]"
      ]
     },
     "execution_count": 1,
     "metadata": {},
     "output_type": "execute_result"
    },
    {
     "data": {
      "image/png": "[encoded data removed]",
      "text/plain": [
       "<Figure size 432x288 with 1 Axes>"
      ]
     },
     "metadata": {
      "needs_background": "light"
     },
     "output_type": "display_data"
    }
   ],
   "source": [
    "#plotting to see the behaviour\n",
    "\n",
    "import numpy as np\n",
    "import math\n",
    "import matplotlib.pyplot as plt\n",
    "\n",
    "x=np.linspace(0,10,1000)\n",
    "L=np.zeros(len(x))\n",
    "\n",
    "for i in range(len(x)):\n",
    "    L[i]=x[i]-5*(1-math.exp(-x[i]))\n",
    "\n",
    "plt.plot(x,L)\n",
    "plt.plot(x,np.zeros(len(x)))"
   ]
  },
  {
   "cell_type": "code",
   "execution_count": null,
   "metadata": {
    "colab": {
     "base_uri": "https://localhost:8080/"
    },
    "executionInfo": {
     "elapsed": 585,
     "status": "ok",
     "timestamp": 1676518788373,
     "user": {
      "displayName": "Sanmit",
      "userId": "05616125681803156711"
     },
     "user_tz": -330
    },
    "id": "aoJKUbldLNPN",
    "outputId": "02f75275-4fcf-4018-833e-100f182d482b"
   },
   "outputs": [
    {
     "name": "stdout",
     "output_type": "stream",
     "text": [
      "4.965114593505859\n"
     ]
    }
   ],
   "source": [
    " #Thus we suspect that there is a root near x=4.7, we try to find it by bisection method.\n",
    "\n",
    "def f(y):\n",
    "     return 5*(1-math.exp(-y))-y\n",
    "\n",
    "def bisection(f, left, right, tol):\n",
    "    fL=f(left)\n",
    "    fR=f(right)\n",
    "    p=None\n",
    "    while(right-left>tol):\n",
    "        fM=f((left+right)/2)\n",
    "        if(fL*fR>0):\n",
    "            p=999999\n",
    "            break\n",
    "        elif(fL*fM>0):\n",
    "            left=(left+right)/2\n",
    "            fL=fM\n",
    "            p=left\n",
    "        elif(fL*fM<0):\n",
    "            right=(left+right)/2\n",
    "            fR=fM\n",
    "            p=right\n",
    "        elif(fL*fM==0):\n",
    "            left=(left+right)/2\n",
    "            right=(left+right)/2\n",
    "            p=left\n",
    "    return p\n",
    "\n",
    "\n",
    "print(bisection(f,4.9,5,1e-6))\n",
    "#print(f(4.5),f(5))"
   ]
  },
  {
   "cell_type": "markdown",
   "metadata": {
    "id": "ADJTI96AUSCe"
   },
   "source": [
    "We now, have the solution as x=4.96511459 which means, Now, $\\frac{\\beta}{\\lambda}=x \\implies \\lambda = \\frac{\\beta}{x}= \\frac{\\frac{hc}{k_Bx}}{T}$,\n",
    "\n",
    "This means the displacement constant is $b=\\frac{hc}{k_Bx}$\n",
    "Putting the values we write a code to calculate the value of the displacement constant."
   ]
  },
  {
   "cell_type": "code",
   "execution_count": null,
   "metadata": {
    "colab": {
     "base_uri": "https://localhost:8080/"
    },
    "executionInfo": {
     "elapsed": 619,
     "status": "ok",
     "timestamp": 1676519654243,
     "user": {
      "displayName": "Sanmit",
      "userId": "05616125681803156711"
     },
     "user_tz": -330
    },
    "id": "0zKdqPW2QYR0",
    "outputId": "d3a8e930-46d7-4621-cb6a-ffcdd3e6b61b"
   },
   "outputs": [
    {
     "name": "stdout",
     "output_type": "stream",
     "text": [
      "Displacement constant is: 0.0028997476867966784\n"
     ]
    }
   ],
   "source": [
    "h=6.626e-34\n",
    "c=3e8\n",
    "k_B=1.380649e-23\n",
    "b=(h*c)/(k_B*bisection(f, 4.5, 5, 1e-6))\n",
    "print('Displacement constant is:', b)"
   ]
  },
  {
   "cell_type": "code",
   "execution_count": null,
   "metadata": {
    "colab": {
     "base_uri": "https://localhost:8080/"
    },
    "executionInfo": {
     "elapsed": 439,
     "status": "ok",
     "timestamp": 1676519627462,
     "user": {
      "displayName": "Sanmit",
      "userId": "05616125681803156711"
     },
     "user_tz": -330
    },
    "id": "nPTSwdhMVuJc",
    "outputId": "2fc230f7-97b7-4e01-987f-a9dba0f61158"
   },
   "outputs": [
    {
     "name": "stdout",
     "output_type": "stream",
     "text": [
      "Temperature in kelvin is: 5776.389814336012\n"
     ]
    }
   ],
   "source": [
    "#this matches with theoretical value. Now, we calculate the temperature of the sun.\n",
    "\n",
    "def temp(wave_l):\n",
    "    return b/wave_l\n",
    "\n",
    "wave_l=502e-9\n",
    "\n",
    "print('Temperature in kelvin is:', temp(wave_l))"
   ]
  }
 ],
 "metadata": {
  "colab": {
   "authorship_tag": "ABX9TyMwn1cxCUhUOivRiUP+CcFX",
   "provenance": []
  },
  "kernelspec": {
   "display_name": "Python 3 (ipykernel)",
   "language": "python",
   "name": "python3"
  },
  "language_info": {
   "codemirror_mode": {
    "name": "ipython",
    "version": 3
   },
   "file_extension": ".py",
   "mimetype": "text/x-python",
   "name": "python",
   "nbconvert_exporter": "python",
   "pygments_lexer": "ipython3",
   "version": "3.9.12"
  }
 },
 "nbformat": 4,
 "nbformat_minor": 1
}
