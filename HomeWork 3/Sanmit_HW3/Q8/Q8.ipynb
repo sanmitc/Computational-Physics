{
 "cells": [
  {
   "cell_type": "markdown",
   "metadata": {
    "id": "-eCPE9jxsXwX"
   },
   "source": [
    "# Question 8"
   ]
  },
  {
   "cell_type": "markdown",
   "metadata": {
    "id": "U3W-Xb0cujYu"
   },
   "source": [
    "From the motion of moon we have: $$\\frac{GMm}{R^2}=m\\omega^2R$$\n",
    "which gives us : $\\omega=\\frac{GM}{R^3}$.\n",
    "\n",
    "On the other hand, the $\\omega$ of moon and the satelite must be the same, and the equation of motion of the moon reads: (mass of satelite is s)\n",
    "\n",
    "$$\\frac{GMs}{r^2}- \\frac{Gms}{(R-r)^2}=s\\omega^2r$$\n",
    "$$\\implies \\frac{m}{(R-r)^2} = M[r^{-2} - \\frac{r}{R^3}]$$\n",
    "\n",
    "Now, we make it uniform by taking $m/M =s$, $r/R=x$, modifying the equatoin as:\n",
    "$$s=\\frac{R^2(1-x)^2(1-x^3))}{r^2}=\\frac{(1-x)^2(1-x^3)}{x^2}$$\n",
    "This can be further re-arranged as:\n",
    "$$sx^2= (1-2x+x^2)(1-x^3)= (1-2x+x^2+x^3-2x^4+x^5)$$\n",
    "$$\\implies x^5 -2x^4 +x^3 +(1-s) x^2 -2x +1=0$$\n",
    "which is nothing but a 5th order polynomial.\n",
    "\n"
   ]
  },
  {
   "cell_type": "code",
   "execution_count": null,
   "metadata": {
    "colab": {
     "base_uri": "https://localhost:8080/",
     "height": 300
    },
    "executionInfo": {
     "elapsed": 479,
     "status": "ok",
     "timestamp": 1676612165056,
     "user": {
      "displayName": "Sanmit",
      "userId": "05616125681803156711"
     },
     "user_tz": -330
    },
    "id": "sablsyeUqyfh",
    "outputId": "ea28dcfc-f151-427b-aed2-bc37fd093389"
   },
   "outputs": [
    {
     "data": {
      "text/plain": [
       "(-0.02, 0.02)"
      ]
     },
     "execution_count": 120,
     "metadata": {},
     "output_type": "execute_result"
    },
    {
     "data": {
      "image/png": "[encoded data removed]",
      "text/plain": [
       "<Figure size 432x288 with 1 Axes>"
      ]
     },
     "metadata": {
      "needs_background": "light"
     },
     "output_type": "display_data"
    }
   ],
   "source": [
    "import numpy as np\n",
    "import math\n",
    "import matplotlib.pyplot as plt\n",
    "\n",
    "m=7.348e22\n",
    "M=5.974e24\n",
    "R=3.844e8\n",
    "\n",
    "s=m/M\n",
    "\n",
    "\n",
    "def func(s,x):\n",
    "    return x**5 -2*x**4 + x**3 +(1-s)*x**2 -2*x +1\n",
    "\n",
    "#by physical definition x_solution must be within 0 and 1.\n",
    "\n",
    "x=np.linspace(0.8, 1.2,1000)\n",
    "y=[]\n",
    "for i in range(len(x)):\n",
    "    y.append(f(s,x[i]))\n",
    "\n",
    "plt.plot(x,y)\n",
    "plt.plot(x,np.zeros(len(x)))\n",
    "plt.xlabel('x')\n",
    "plt.ylabel('f(x)')\n",
    "plt.ylim(-0.02,0.02)\n",
    "\n",
    "#if s=0 then we have 3 repeated roots at 1, but a small s of the order 1e-2 will break this, that is why ylim is taken to be very small,\n",
    "# to show the minor variation in t axis and the x.linspace is also small because the deviation between 2 roots is small."
   ]
  },
  {
   "cell_type": "code",
   "execution_count": null,
   "metadata": {
    "colab": {
     "base_uri": "https://localhost:8080/"
    },
    "executionInfo": {
     "elapsed": 382,
     "status": "ok",
     "timestamp": 1676613589651,
     "user": {
      "displayName": "Sanmit",
      "userId": "05616125681803156711"
     },
     "user_tz": -330
    },
    "id": "ZvEjO0XL0ybp",
    "outputId": "4db92603-a68f-42a7-bbf6-29b6e5aa38e6"
   },
   "outputs": [
    {
     "name": "stdout",
     "output_type": "stream",
     "text": [
      "0.9233985760514114\n",
      "3.54954e+08\n"
     ]
    }
   ],
   "source": [
    "def secant(f, guess1, guess2, tol):\n",
    "    x_1=f(guess1)\n",
    "    x_2=f(guess2)\n",
    "    f1=f(x_1)\n",
    "    while(f(x_2)>tol):\n",
    "        f2=f(x_2)\n",
    "        x_new=(x_1*f2-x_2*f1)/(f2-f1)\n",
    "        x_1=x_2\n",
    "        x_2=x_new\n",
    "        f1=f2\n",
    "    return x_1\n",
    "\n",
    "def f(x):\n",
    "    return func(s,x)\n",
    "L1=(secant(f, 0.834, 0.835, 1e-10))\n",
    "print(secant(f, 0.834, 0.835, 1e-10))\n",
    "r=L1*R\n",
    "r=\"{:.5e}\".format(r)\n",
    "print(r)\n",
    "\n",
    "\n"
   ]
  }
 ],
 "metadata": {
  "colab": {
   "authorship_tag": "ABX9TyMmAS7JNoaVQ3XQVmxsBcdh",
   "provenance": []
  },
  "kernelspec": {
   "display_name": "Python 3 (ipykernel)",
   "language": "python",
   "name": "python3"
  },
  "language_info": {
   "codemirror_mode": {
    "name": "ipython",
    "version": 3
   },
   "file_extension": ".py",
   "mimetype": "text/x-python",
   "name": "python",
   "nbconvert_exporter": "python",
   "pygments_lexer": "ipython3",
   "version": "3.9.12"
  }
 },
 "nbformat": 4,
 "nbformat_minor": 1
}
