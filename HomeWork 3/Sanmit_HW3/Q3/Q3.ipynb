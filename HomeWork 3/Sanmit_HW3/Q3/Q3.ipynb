{
 "cells": [
  {
   "cell_type": "markdown",
   "metadata": {
    "id": "NuE1Oh4w5Bi9"
   },
   "source": [
    "# Question 3\n",
    "\n"
   ]
  },
  {
   "cell_type": "code",
   "execution_count": 6,
   "metadata": {
    "colab": {
     "base_uri": "https://localhost:8080/",
     "height": 282
    },
    "executionInfo": {
     "elapsed": 1079,
     "status": "ok",
     "timestamp": 1677513559519,
     "user": {
      "displayName": "Sanmit",
      "userId": "05616125681803156711"
     },
     "user_tz": -330
    },
    "id": "3sIj0i0x4OAF",
    "outputId": "f8e4ee78-8b74-4893-8f55-92ff9939a786"
   },
   "outputs": [
    {
     "data": {
      "text/plain": [
       "[<matplotlib.lines.Line2D at 0x7f67d804a820>]"
      ]
     },
     "execution_count": 6,
     "metadata": {},
     "output_type": "execute_result"
    },
    {
     "data": {
      "image/png": "[encoded data removed]",
      "text/plain": [
       "<Figure size 432x288 with 1 Axes>"
      ]
     },
     "metadata": {
      "needs_background": "light"
     },
     "output_type": "display_data"
    }
   ],
   "source": [
    "import numpy as np\n",
    "import matplotlib.pyplot as plt\n",
    "import math\n",
    "\n",
    "def f(x,c):\n",
    "    return 1-np.exp(-c*x)\n",
    "\n",
    "#initial guess is facilitated by plotting the graph\n",
    "x=np.linspace(-0.5,3,600)\n",
    "\n",
    "y=np.zeros(600)\n",
    "for i in range(600):\n",
    "    y[i]=x[i]-f(x[i],2)\n",
    "\n",
    "plt.plot(x,y)\n",
    "plt.plot(x, np.zeros(len(x)))\n",
    "\n",
    "\n"
   ]
  },
  {
   "cell_type": "markdown",
   "metadata": {
    "id": "pINkNoqbVGvr"
   },
   "source": [
    "Primary guess is that the root is near 0.7, but the derivative of the function near 0.7 is not less than 1 in absolute value. So, we carry out a relaxation method. \n",
    "\n",
    "$$x=rf(x) = r(x-1+e^{-cx})$$\n",
    "where r is a small number let us say -0.5 to make the limit converge.\n",
    "\n"
   ]
  },
  {
   "cell_type": "markdown",
   "metadata": {
    "id": "e-qgmtNZVGtI"
   },
   "source": []
  },
  {
   "cell_type": "code",
   "execution_count": 7,
   "metadata": {
    "colab": {
     "base_uri": "https://localhost:8080/"
    },
    "executionInfo": {
     "elapsed": 657,
     "status": "ok",
     "timestamp": 1677513564042,
     "user": {
      "displayName": "Sanmit",
      "userId": "05616125681803156711"
     },
     "user_tz": -330
    },
    "id": "zfW8qX8E9N2T",
    "outputId": "a4840b95-326f-4c2e-d48e-a2a00aa5c921"
   },
   "outputs": [
    {
     "name": "stdout",
     "output_type": "stream",
     "text": [
      "The final root is:\n",
      "0.7968121297980126\n"
     ]
    }
   ],
   "source": [
    "#part a\n",
    "import numpy as np \n",
    "import math\n",
    "\n",
    "def f(x,c,r):\n",
    "    return x+r*(x-1+math.exp(-c*x))\n",
    "\n",
    "def root(f, r,tolerance,c,guess):\n",
    "    f_1=f(guess, c ,r)\n",
    "    f_2=f(f_1, c, r)\n",
    "    while(f_2-f_1>tolerance):\n",
    "        f_1=f_2\n",
    "        f_2=f(f_1,c,r)\n",
    "    print('The final root is:')\n",
    "    return (f_2)\n",
    "#printinf all of the intermediate step also.\n",
    "print(root(f,-0.5,1e-10,2,0.01))"
   ]
  },
  {
   "cell_type": "code",
   "execution_count": 8,
   "metadata": {
    "colab": {
     "base_uri": "https://localhost:8080/",
     "height": 1000
    },
    "executionInfo": {
     "elapsed": 661,
     "status": "ok",
     "timestamp": 1677513568950,
     "user": {
      "displayName": "Sanmit",
      "userId": "05616125681803156711"
     },
     "user_tz": -330
    },
    "id": "qzaBt9HyXPZg",
    "outputId": "2f91544a-3c52-47ee-915f-84ddd76cdb28"
   },
   "outputs": [
    {
     "name": "stdout",
     "output_type": "stream",
     "text": [
      "The final root is:\n",
      "The final root is:\n",
      "The final root is:\n",
      "The final root is:\n",
      "The final root is:\n",
      "The final root is:\n",
      "The final root is:\n",
      "The final root is:\n",
      "The final root is:\n",
      "The final root is:\n",
      "The final root is:\n",
      "The final root is:\n",
      "The final root is:\n",
      "The final root is:\n",
      "The final root is:\n",
      "The final root is:\n",
      "The final root is:\n",
      "The final root is:\n",
      "The final root is:\n",
      "The final root is:\n",
      "The final root is:\n",
      "The final root is:\n",
      "The final root is:\n",
      "The final root is:\n",
      "The final root is:\n",
      "The final root is:\n",
      "The final root is:\n",
      "The final root is:\n",
      "The final root is:\n",
      "The final root is:\n",
      "The final root is:\n",
      "The final root is:\n",
      "The final root is:\n",
      "The final root is:\n",
      "The final root is:\n",
      "The final root is:\n",
      "The final root is:\n",
      "The final root is:\n",
      "The final root is:\n",
      "The final root is:\n",
      "The final root is:\n",
      "The final root is:\n",
      "The final root is:\n",
      "The final root is:\n",
      "The final root is:\n",
      "The final root is:\n",
      "The final root is:\n",
      "The final root is:\n",
      "The final root is:\n",
      "The final root is:\n",
      "The final root is:\n",
      "The final root is:\n",
      "The final root is:\n",
      "The final root is:\n",
      "The final root is:\n",
      "The final root is:\n",
      "The final root is:\n",
      "The final root is:\n",
      "The final root is:\n",
      "The final root is:\n",
      "The final root is:\n",
      "The final root is:\n",
      "The final root is:\n",
      "The final root is:\n",
      "The final root is:\n",
      "The final root is:\n",
      "The final root is:\n",
      "The final root is:\n",
      "The final root is:\n",
      "The final root is:\n",
      "The final root is:\n",
      "The final root is:\n",
      "The final root is:\n",
      "The final root is:\n",
      "The final root is:\n",
      "The final root is:\n",
      "The final root is:\n",
      "The final root is:\n",
      "The final root is:\n",
      "The final root is:\n",
      "The final root is:\n",
      "The final root is:\n",
      "The final root is:\n",
      "The final root is:\n",
      "The final root is:\n",
      "The final root is:\n",
      "The final root is:\n",
      "The final root is:\n",
      "The final root is:\n",
      "The final root is:\n",
      "The final root is:\n",
      "The final root is:\n",
      "The final root is:\n",
      "The final root is:\n",
      "The final root is:\n",
      "The final root is:\n",
      "The final root is:\n",
      "The final root is:\n",
      "The final root is:\n",
      "The final root is:\n"
     ]
    },
    {
     "data": {
      "text/plain": [
       "[<matplotlib.lines.Line2D at 0x7f67b9f7f250>]"
      ]
     },
     "execution_count": 8,
     "metadata": {},
     "output_type": "execute_result"
    },
    {
     "data": {
      "image/png": "[encoded data removed]",
      "text/plain": [
       "<Figure size 432x288 with 1 Axes>"
      ]
     },
     "metadata": {
      "needs_background": "light"
     },
     "output_type": "display_data"
    }
   ],
   "source": [
    "#part b\n",
    "import matplotlib.pyplot as plt\n",
    "\n",
    "c=np.linspace(0,3,100)\n",
    "\n",
    "sol=np.zeros(len(c))\n",
    "\n",
    "for i in range(len(c)):\n",
    "    sol[i]=root(f,-0.5,1e-10, c[i], 0.01)\n",
    "\n",
    "plt.plot(c,sol)"
   ]
  },
  {
   "cell_type": "markdown",
   "metadata": {
    "id": "cdnbg3QldYcU"
   },
   "source": [
    "There are many accelarations available, such as Anderson Accelaration which is related to solving the fixed point iteration in a matrix formalism. The method is a full fledged multi-dimensional optimisation problem. In this case, I am going to use a more simpler method which is Steffenson's method which does not calculate in a multidimension but accelarates the process by calculting mulltiple steps at once. It calculates:\n",
    "\n",
    "$$p_{next}=p_n - \\frac{(p_{n+1}-p_n)^2}{p_{n+2}-2p_{n+1}+p_n}$$\n",
    "where we have to start from 3 initial points. "
   ]
  },
  {
   "cell_type": "code",
   "execution_count": 9,
   "metadata": {
    "colab": {
     "base_uri": "https://localhost:8080/"
    },
    "executionInfo": {
     "elapsed": 517,
     "status": "ok",
     "timestamp": 1677513672672,
     "user": {
      "displayName": "Sanmit",
      "userId": "05616125681803156711"
     },
     "user_tz": -330
    },
    "id": "bGdSplQSZGM8",
    "outputId": "e6575983-a8eb-4b1b-948f-0c1e2fe7d931"
   },
   "outputs": [
    {
     "name": "stdout",
     "output_type": "stream",
     "text": [
      "0.4506535427824227\n",
      "0.13483676698953523\n",
      "0.13483676698953523\n"
     ]
    }
   ],
   "source": [
    "import numpy as np \n",
    "import math\n",
    "\n",
    "def f(x,c,r):\n",
    "    return x+r*(x-1+math.exp(-c*x))\n",
    "\n",
    "def root_stf(f, r,tol,c,guess1, guess2, guess3):\n",
    "    f1=f(guess1, c, r)\n",
    "    f2=f(guess2, c, r)\n",
    "    f3=f(guess3, c, r)\n",
    "\n",
    "    while(f3-f2>tol):\n",
    "        f= f1 - ((f2-f1)**2)/(f3-2*f2+f1)\n",
    "        f1=f2\n",
    "        f2=f3\n",
    "        f3=f\n",
    "        print(f)\n",
    "    return f\n",
    "\n",
    "print(root_stf(f,0.03,1e-10,2, 0.09, 0.15, 0.2))"
   ]
  },
  {
   "cell_type": "code",
   "execution_count": null,
   "metadata": {
    "id": "MpACHhvyfMVE"
   },
   "outputs": [],
   "source": []
  }
 ],
 "metadata": {
  "colab": {
   "authorship_tag": "ABX9TyNvnAZ5Tv6uLOCSOWGltHq/",
   "provenance": []
  },
  "kernelspec": {
   "display_name": "Python 3 (ipykernel)",
   "language": "python",
   "name": "python3"
  },
  "language_info": {
   "codemirror_mode": {
    "name": "ipython",
    "version": 3
   },
   "file_extension": ".py",
   "mimetype": "text/x-python",
   "name": "python",
   "nbconvert_exporter": "python",
   "pygments_lexer": "ipython3",
   "version": "3.9.12"
  }
 },
 "nbformat": 4,
 "nbformat_minor": 1
}
