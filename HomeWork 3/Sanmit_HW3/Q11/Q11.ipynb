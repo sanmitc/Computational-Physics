{
 "cells": [
  {
   "cell_type": "markdown",
   "metadata": {
    "id": "OJlQBjYx1S1R"
   },
   "source": [
    "# Question 11\n",
    "\n",
    "\n"
   ]
  },
  {
   "cell_type": "code",
   "execution_count": 4,
   "metadata": {
    "colab": {
     "base_uri": "https://localhost:8080/"
    },
    "executionInfo": {
     "elapsed": 906,
     "status": "ok",
     "timestamp": 1677474567522,
     "user": {
      "displayName": "Sanmit",
      "userId": "05616125681803156711"
     },
     "user_tz": -330
    },
    "id": "0cjy0on2MPVP",
    "outputId": "76331eee-6b46-42e7-a594-0131ace875be"
   },
   "outputs": [
    {
     "name": "stdout",
     "output_type": "stream",
     "text": [
      "solution of the previous problem matrix with partial pivoting: [3.         1.66666667 3.33333333 2.        ]\n",
      "solution of current matrix with partial pivoting: [-6.64705882  1.08823529  3.61764706  4.73529412]\n",
      "v recovered from multioplying the solution and the original matrix gives: [ 20.29411765 -23.94117647  16.29411765   2.35294118]\n"
     ]
    }
   ],
   "source": [
    "#tbd partial pivoting\n",
    "import numpy as np\n",
    "import math\n",
    "from numpy import array,empty\n",
    "\n",
    "def pp_Gauss(A,v):\n",
    "  row=A.shape[0]\n",
    "  col=A.shape[1]\n",
    "\n",
    "  for i in range(col):\n",
    "    if((A[i,i])==0):\n",
    "      for k in range(i+1, row):\n",
    "        if((A[k,i])!=0):\n",
    "          for j in range(i, col):\n",
    "            A[k,j],A[i,j]=A[i,j],A[k,j]\n",
    "          v[k],v[i]=v[i],v[k]\n",
    "          break\n",
    "    div=A[i,i]\n",
    "    A[i,:] /=div\n",
    "    v[i] /=div\n",
    "    for j in range(i+1, row):\n",
    "      mult=A[j,i]\n",
    "      A[j, :]-=mult*A[i,:]\n",
    "      v[j]-=mult*v[i]\n",
    "    \n",
    "  x = empty(N,float)\n",
    "  for m in range(N-1,-1,-1):\n",
    "    x[m] = v[m]\n",
    "    for i in range(m+1,N):\n",
    "        x[m] -= A[m,i]*x[i]\n",
    "\n",
    "  return x\n",
    "\n",
    "\n",
    "def Gauss(A,v):\n",
    "  row=A.shape[0]\n",
    "  col=A.shape[1]\n",
    "\n",
    "  for i in range(col):\n",
    "    div=A[i,i]\n",
    "    A[i,:] /=div\n",
    "    v[i] /=div\n",
    "    for j in range(i+1, row):\n",
    "      mult=A[j,i]\n",
    "      A[j, :]-=mult*A[i,:]\n",
    "      v[j]-=mult*v[i]\n",
    "    \n",
    "  x = empty(N,float)\n",
    "  for m in range(N-1,-1,-1):\n",
    "    x[m] = v[m]\n",
    "    for i in range(m+1,N):\n",
    "        x[m] -= A[m,i]*x[i]\n",
    "\n",
    "  return x\n",
    "\n",
    "\n",
    "\n",
    "  \n",
    "A= array([[4, -1, -1, -1],\n",
    "         [-1, 3, 0, -1],\n",
    "         [-1, 0, 3, -1],\n",
    "         [-1, -1, -1, 4]], float)\n",
    "\n",
    "v=array([5, 0 , 5, 0], float)\n",
    "N=len(v)\n",
    "\n",
    "#part A\n",
    "print('solution of the previous problem matrix with partial pivoting:', pp_Gauss(A,v))\n",
    "\n",
    "\n",
    "\n",
    "A1= array([[0, 1, 4, 1],\n",
    "         [3, 4, -1, -1],\n",
    "         [1, -4, 1, 5],\n",
    "         [2, -2, 1, 3]], float)\n",
    "\n",
    "A_work=A1.copy()\n",
    "\n",
    "v1=array([-4, 3, 9, 7], float)\n",
    "N=len(v)\n",
    "\n",
    "#part b\n",
    "x=pp_Gauss(A_work, v1)\n",
    "print('solution of current matrix with partial pivoting:', x)\n",
    "\n",
    "\n",
    "v_res=np.dot(A1, x)\n",
    "print('v recovered from multioplying the solution and the original matrix gives:', v_res)\n",
    "\n",
    "#the v_res matches with the orginial v given to us. \n"
   ]
  },
  {
   "cell_type": "code",
   "execution_count": null,
   "metadata": {},
   "outputs": [],
   "source": []
  },
  {
   "cell_type": "code",
   "execution_count": null,
   "metadata": {},
   "outputs": [],
   "source": []
  }
 ],
 "metadata": {
  "colab": {
   "authorship_tag": "ABX9TyMnb4iS91zQSYlpC7E1qpA1",
   "provenance": []
  },
  "kernelspec": {
   "display_name": "Python 3 (ipykernel)",
   "language": "python",
   "name": "python3"
  },
  "language_info": {
   "codemirror_mode": {
    "name": "ipython",
    "version": 3
   },
   "file_extension": ".py",
   "mimetype": "text/x-python",
   "name": "python",
   "nbconvert_exporter": "python",
   "pygments_lexer": "ipython3",
   "version": "3.9.12"
  }
 },
 "nbformat": 4,
 "nbformat_minor": 1
}
