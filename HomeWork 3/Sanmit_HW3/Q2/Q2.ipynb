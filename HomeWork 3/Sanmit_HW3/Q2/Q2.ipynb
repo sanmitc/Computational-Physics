{
 "cells": [
  {
   "cell_type": "markdown",
   "metadata": {
    "id": "Eq8QbLtl2fL0"
   },
   "source": [
    "# Question 2:"
   ]
  },
  {
   "cell_type": "markdown",
   "metadata": {
    "id": "UN5LCdGd2h8y"
   },
   "source": [
    "Part a:"
   ]
  },
  {
   "cell_type": "code",
   "execution_count": null,
   "metadata": {
    "colab": {
     "base_uri": "https://localhost:8080/"
    },
    "executionInfo": {
     "elapsed": 774,
     "status": "ok",
     "timestamp": 1676377219911,
     "user": {
      "displayName": "Sanmit",
      "userId": "05616125681803156711"
     },
     "user_tz": -330
    },
    "id": "vREBzQzU2kNz",
    "outputId": "04b3fcc0-4e4a-4e8c-b732-238a3ac7efc6"
   },
   "outputs": [
    {
     "name": "stdout",
     "output_type": "stream",
     "text": [
      "result from derivative function is: 1.010000000000001\n",
      "analytical result is: 1\n"
     ]
    }
   ],
   "source": [
    "import numpy as np \n",
    "import math\n",
    "\n",
    "def f(x):\n",
    "    return x*(x-1)\n",
    "\n",
    "def derivative(f,x, delta):\n",
    "    return (f(x+delta)-f(x))/delta\n",
    "\n",
    "print('result from derivative function is:', derivative(f,1,1e-2))\n",
    "\n",
    "print(\"analytical result is: 1\")\n"
   ]
  },
  {
   "cell_type": "markdown",
   "metadata": {
    "id": "PrQBoE-a3oT7"
   },
   "source": [
    "There is a an approximate 1% difference between the true analytical value and the calcualated value."
   ]
  },
  {
   "cell_type": "markdown",
   "metadata": {
    "id": "VtDCEVgq32o0"
   },
   "source": [
    "**Part-B**"
   ]
  },
  {
   "cell_type": "code",
   "execution_count": null,
   "metadata": {
    "colab": {
     "base_uri": "https://localhost:8080/"
    },
    "executionInfo": {
     "elapsed": 340,
     "status": "ok",
     "timestamp": 1676377383836,
     "user": {
      "displayName": "Sanmit",
      "userId": "05616125681803156711"
     },
     "user_tz": -330
    },
    "id": "J04Jd2cG3XS6",
    "outputId": "041b9c84-6b33-4bf4-d9a8-bca46be0c10b"
   },
   "outputs": [
    {
     "name": "stdout",
     "output_type": "stream",
     "text": [
      " The results as delta is lowered is:\n",
      "1.0000999999998899\n",
      "1.0000009999177333\n",
      "1.0000000039225287\n",
      "1.000000082840371\n",
      "1.0000889005833413\n",
      "0.9992007221626509\n"
     ]
    }
   ],
   "source": [
    "print(' The results as delta is lowered is:')\n",
    "print(derivative(f,1,1e-4))\n",
    "print(derivative(f,1,1e-6))\n",
    "print(derivative(f,1,1e-8))\n",
    "print(derivative(f,1,1e-10))\n",
    "print(derivative(f,1,1e-12))\n",
    "print(derivative(f,1,1e-14))"
   ]
  },
  {
   "cell_type": "markdown",
   "metadata": {
    "id": "qR335cI-4T7K"
   },
   "source": [
    "The error goes down till $10^{-8}$ but then increases, the cause being round off error, the difference between $f(x+\\delta)$ and $f(x)$, does not decrease as much as is expected because it is rounded of, but $\\delta$, decreases, which increases the quotient."
   ]
  }
 ],
 "metadata": {
  "colab": {
   "authorship_tag": "ABX9TyM2ZvoFF1KX/HjgQ5dQ62Qv",
   "provenance": []
  },
  "kernelspec": {
   "display_name": "Python 3 (ipykernel)",
   "language": "python",
   "name": "python3"
  },
  "language_info": {
   "codemirror_mode": {
    "name": "ipython",
    "version": 3
   },
   "file_extension": ".py",
   "mimetype": "text/x-python",
   "name": "python",
   "nbconvert_exporter": "python",
   "pygments_lexer": "ipython3",
   "version": "3.9.12"
  }
 },
 "nbformat": 4,
 "nbformat_minor": 1
}
