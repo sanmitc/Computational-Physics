{
 "cells": [
  {
   "cell_type": "markdown",
   "id": "5a88a230",
   "metadata": {},
   "source": [
    "# Q8"
   ]
  },
  {
   "cell_type": "code",
   "execution_count": 1,
   "id": "05283a52",
   "metadata": {},
   "outputs": [],
   "source": [
    "import numpy as np\n",
    "import matplotlib.pyplot as plt\n",
    "import math"
   ]
  },
  {
   "cell_type": "markdown",
   "id": "5d84fd48",
   "metadata": {},
   "source": [
    "If we define $v_x=\\dot{x}$, and $v_y=\\dot{y}$\n",
    "We will have:\n",
    "\n",
    "$$\\frac{dx}{dt}=v_x$$\n",
    "$$\\frac{d(v_x)}{dt}=-\\frac{GMx}{r^3}$$\n",
    "$$\\frac{dy}{dt}=v_y$$\n",
    "$$\\frac{d(v_y)}{dt}=-\\frac{GMy}{r^3}$$"
   ]
  },
  {
   "cell_type": "code",
   "execution_count": 5,
   "id": "6db3a290",
   "metadata": {},
   "outputs": [],
   "source": [
    "def funcx(vec, t):\n",
    "    x=vec[0]\n",
    "    y=vec[1]\n",
    "    x1=vec[2]\n",
    "    y1=vec[3]\n",
    "    return x1\n",
    "\n",
    "def funcy(vec, t):\n",
    "    x=vec[0]\n",
    "    y=vec[1]\n",
    "    x1=vec[2]\n",
    "    y1=vec[3]\n",
    "    return y1\n",
    "\n",
    "def funcx1(vec, t):\n",
    "    x=vec[0]\n",
    "    y=vec[1]\n",
    "    x1=vec[2]\n",
    "    y1=vec[3]\n",
    "    r=math.sqrt(x**2+y**2)\n",
    "    return -(G*M*x)/r**3\n",
    "\n",
    "def funcy1(vec, t):\n",
    "    x=vec[0]\n",
    "    y=vec[1]\n",
    "    x1=vec[2]\n",
    "    y1=vec[3]\n",
    "    r=math.sqrt(x**2+y**2)\n",
    "    return -(G*M*y)/r**3\n",
    "\n",
    "def func(vec,t):\n",
    "    return np.array([funcx(vec,t), funcy(vec, t), funcx1(vec,t), funcy1(vec, t)])"
   ]
  },
  {
   "cell_type": "code",
   "execution_count": 6,
   "id": "7a096174",
   "metadata": {},
   "outputs": [],
   "source": [
    "def RK_4(x, t, func, h):\n",
    "    f=func(x,t)\n",
    "    k1=h*f\n",
    "    k2=h*func(x+k1/2, t+h/2)\n",
    "    k3=h*func(x+k2/2, t+h/2)\n",
    "    k4=h*func(x+k3, t+h)\n",
    "    x= x + (k1+2*k2+2*k3+k4)/6\n",
    "    t= t + h\n",
    "    return [x,t]"
   ]
  },
  {
   "cell_type": "code",
   "execution_count": 55,
   "id": "b8d51cad",
   "metadata": {},
   "outputs": [],
   "source": [
    "G=6.67e-11\n",
    "M=1.9891e30\n",
    "x=4e12\n",
    "y=0\n",
    "vx=0\n",
    "vy=500\n",
    "t=0\n",
    "h=25000\n",
    "\n",
    "time=[]\n",
    "X=[x]\n",
    "Y=[y]\n",
    "vec=[x,y,vx,vy]\n",
    "\n",
    "while(t<=3e9):\n",
    "    vec=RK_4(vec, t, func, h)[0]\n",
    "    t=RK_4(vec, t, func, h)[1]\n",
    "    X.append(vec[0])\n",
    "    Y.append(vec[1])\n",
    "    time.append(t)\n"
   ]
  },
  {
   "cell_type": "code",
   "execution_count": 56,
   "id": "691bcd4b",
   "metadata": {},
   "outputs": [
    {
     "data": {
      "text/plain": [
       "Text(0.5, 1.0, 'trajectory(m)')"
      ]
     },
     "execution_count": 56,
     "metadata": {},
     "output_type": "execute_result"
    },
    {
     "data": {
      "image/png": "[encoded data removed]",
      "text/plain": [
       "<Figure size 576x576 with 1 Axes>"
      ]
     },
     "metadata": {
      "needs_background": "light"
     },
     "output_type": "display_data"
    }
   ],
   "source": [
    "plt.figure(figsize=(8,8))\n",
    "plt.plot(X,Y)\n",
    "plt.xlabel(\"X\")\n",
    "plt.ylabel(\"Y\")\n",
    "plt.title('trajectory(m)')\n",
    "\n",
    "#a h of 25000 is giving good results"
   ]
  },
  {
   "cell_type": "code",
   "execution_count": 67,
   "id": "58408d2b",
   "metadata": {},
   "outputs": [],
   "source": [
    "def RK_4_A(x, t, func, h, err):\n",
    "    f=func(x,t)\n",
    "    #calculate x1:\n",
    "    x1=x+2*h*f\n",
    "    #calculate x2:\n",
    "    x2i=x+h*f\n",
    "    f1=func(x2i,t)\n",
    "    x2=x2i+h*f1\n",
    "    \n",
    "    x1m=np.dot(x1,x1)\n",
    "    x2m=np.dot(x2,x2)\n",
    "\n",
    "    rho=30*h*err/np.abs(x1m-x2m)\n",
    "    h_d=h*rho**0.25\n",
    "    h=h_d\n",
    "    \n",
    "    k1=h*f\n",
    "    k2=h*func(x+k1/2, t+h/2)\n",
    "    k3=h*func(x+k2/2, t+h/2)\n",
    "    k4=h*func(x+k3, t+h)\n",
    "    x= x + (k1+2*k2+2*k3+k4)/6\n",
    "    t= t + h\n",
    "    return [x,t]\n",
    "    "
   ]
  },
  {
   "cell_type": "code",
   "execution_count": null,
   "id": "ae716bb6",
   "metadata": {},
   "outputs": [],
   "source": [
    "G=6.67e-11\n",
    "M=1.9891e30\n",
    "x=4e12\n",
    "y=0\n",
    "vx=0\n",
    "vy=500\n",
    "t=0\n",
    "h=25000\n",
    "err=1e3/(365*24*3600)\n",
    "time=[]\n",
    "X=[x]\n",
    "Y=[y]\n",
    "vec=[x,y,vx,vy]\n",
    "\n",
    "while(t<=3e9):\n",
    "    vec=RK_4_A(vec, t, func, h, err)[0]\n",
    "    t=RK_4_A(vec, t, func, h, err)[1]\n",
    "    X.append(vec[0])\n",
    "    Y.append(vec[1])\n",
    "    time.append(t)\n"
   ]
  },
  {
   "cell_type": "code",
   "execution_count": null,
   "id": "12d0e659",
   "metadata": {},
   "outputs": [],
   "source": [
    "plt.figure(figsize=(8,8))\n",
    "plt.plot(X,Y)\n",
    "plt.xlabel(\"X\")\n",
    "plt.ylabel(\"Y\")\n",
    "plt.title('trajectory(m)')"
   ]
  },
  {
   "cell_type": "code",
   "execution_count": null,
   "id": "d4d078ef",
   "metadata": {},
   "outputs": [],
   "source": []
  }
 ],
 "metadata": {
  "kernelspec": {
   "display_name": "Python 3 (ipykernel)",
   "language": "python",
   "name": "python3"
  },
  "language_info": {
   "codemirror_mode": {
    "name": "ipython",
    "version": 3
   },
   "file_extension": ".py",
   "mimetype": "text/x-python",
   "name": "python",
   "nbconvert_exporter": "python",
   "pygments_lexer": "ipython3",
   "version": "3.9.12"
  }
 },
 "nbformat": 4,
 "nbformat_minor": 5
}
