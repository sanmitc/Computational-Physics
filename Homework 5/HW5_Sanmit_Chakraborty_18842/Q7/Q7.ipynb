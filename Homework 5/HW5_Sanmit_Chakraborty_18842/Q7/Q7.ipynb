{
 "cells": [
  {
   "cell_type": "code",
   "execution_count": 3,
   "id": "028183e3",
   "metadata": {},
   "outputs": [],
   "source": [
    "import numpy as np\n",
    "import matplotlib.pyplot as plt\n",
    "import math\n",
    "import cmath\n",
    "from numpy.random import uniform as unif\n",
    "import random"
   ]
  },
  {
   "cell_type": "markdown",
   "id": "bdbe6f30",
   "metadata": {},
   "source": [
    "##### Part-A"
   ]
  },
  {
   "cell_type": "code",
   "execution_count": 4,
   "id": "3e4e3d79",
   "metadata": {},
   "outputs": [],
   "source": [
    "def Energy(array, J):\n",
    "    row=array.shape[0]\n",
    "    col=array.shape[1]\n",
    "    suum=0\n",
    "    for i in range(row-1):\n",
    "        suum+=np.dot(array[i], array[i+1])\n",
    "    for j in range(col-1):\n",
    "        suum+=np.dot(array[:,i], array[:,i+1])\n",
    "    return -J*suum"
   ]
  },
  {
   "cell_type": "markdown",
   "id": "1595f322",
   "metadata": {},
   "source": [
    "##### Part-B,C"
   ]
  },
  {
   "cell_type": "code",
   "execution_count": null,
   "id": "c6e9e9cc",
   "metadata": {},
   "outputs": [],
   "source": [
    "#G: Number of grids\n",
    "#k_b: Boltzmann Constant\n",
    "#T: Temperature\n",
    "#J: Ising model constant\n",
    "#N: The number of Monte-Carlo steps\n",
    "\n",
    "\n",
    "#I created a 21x21 grid where the inner 20x20 grid is a matrix of values 1, and -1, chosen randomly for \n",
    "#each coordinate. The outer entries are still 0. \n",
    "T=1\n",
    "k_b=1\n",
    "G=20\n",
    "J=1\n",
    "arr=np.zeros([G+1, G+1])\n",
    "for i in range(1,G):\n",
    "    for j in range(1,G):\n",
    "        arr[i][j]=random.choice([-1,1])\n",
    "M=np.sum(arr)\n",
    "\n",
    "y=[M]\n",
    "N=1000000\n",
    "x=np.arange(0,N+1)\n",
    "for k in range(N):\n",
    "    i = np.random.randint(1,G)\n",
    "    j = np.random.randint(1,G)\n",
    "    E_int=-arr[i][j]*(arr[i][j-1]+arr[i][j+1]+arr[i-1][j]+arr[i+1][j])\n",
    "    if(E_int>=0):\n",
    "        arr[i][j]*=-1\n",
    "    if(E_int<0):\n",
    "        beta=1/(k_b*T)\n",
    "        prob=math.exp(beta*E_int*2)\n",
    "        sample=int(1/prob)\n",
    "        ran=unif(0,sample)\n",
    "        if(ran>=1):\n",
    "            arr[i][j]*=-1\n",
    "    M=M+2*arr[i][j]\n",
    "    y.append(M)\n",
    "    \n",
    "y=np.array(y)  \n",
    "\n",
    "\n",
    "plt.figure(figsize=(10,10))\n",
    "plt.plot(x,y)\n",
    "plt.xlabel(\"time\")\n",
    "plt.ylabel(\"Magnetisation\")\n",
    "plt.title(\"Magentisation Profile Over time\")"
   ]
  },
  {
   "cell_type": "markdown",
   "id": "af5d6cd5",
   "metadata": {},
   "source": [
    "##### Part-D"
   ]
  },
  {
   "cell_type": "code",
   "execution_count": null,
   "id": "eeb00761",
   "metadata": {},
   "outputs": [],
   "source": [
    "plt.figure(figsize=(10,10))\n",
    "plt.imshow(arr[1:G,1:G], cmap=\"hot\")\n",
    "plt.colorbar()\n",
    "plt.show()"
   ]
  },
  {
   "cell_type": "markdown",
   "id": "e14d4c01",
   "metadata": {},
   "source": [
    "$\\textbf{So, what is happening?}$\n",
    "\n",
    "Here we can see in the saved pictures that sometimes the built up magnetization is positive or sometimes is it negative, it comes from the fact that the process is randomised and +1 and -1 in this case is symmetric. \n",
    "\n",
    "Let us say:\n",
    "The random point that was chosen first was surrounded by positive points, so it got converted to positive if it was negative. This case went on the back of a cascasding effect. Increasing the number of +1's. Somewhere the random picker encountered an area sorrounded by negatives. This again gave rise to conversion of positives into negatives which overpowered the previous action. So, we see periodic fluctuations in the magnetisation. It goes to high positive zone and then goes to highly negative zone. But it settles down in a bias(either positive/negative) in the end. It complete depends upon the environment of the random points that being chosen by the random choosing."
   ]
  },
  {
   "cell_type": "markdown",
   "id": "a98781b9",
   "metadata": {},
   "source": [
    "##### Part-E"
   ]
  },
  {
   "cell_type": "code",
   "execution_count": null,
   "id": "c897d61e",
   "metadata": {},
   "outputs": [],
   "source": [
    "T=2\n",
    "k_b=1\n",
    "G=20\n",
    "J=1\n",
    "arr=np.zeros([G+1, G+1])\n",
    "for i in range(1,G):\n",
    "    for j in range(1,G):\n",
    "        arr[i][j]=random.choice([-1,1])\n",
    "M=np.sum(arr)\n",
    "\n",
    "y=[M]\n",
    "N=1000000\n",
    "x=np.arange(0,N+1)\n",
    "for k in range(N):\n",
    "    i = np.random.randint(1,G)\n",
    "    j = np.random.randint(1,G)\n",
    "    E_int=-arr[i][j]*(arr[i][j-1]+arr[i][j+1]+arr[i-1][j]+arr[i+1][j])\n",
    "    if(E_int>=0):\n",
    "        arr[i][j]*=-1\n",
    "    if(E_int<0):\n",
    "        beta=1/(k_b*T)\n",
    "        prob=math.exp(beta*E_int*2)\n",
    "        sample=int(1/prob)\n",
    "        ran=unif(0,sample)\n",
    "        if(ran>=1):\n",
    "            arr[i][j]*=-1\n",
    "    M=M+2*arr[i][j]\n",
    "    y.append(M)\n",
    "    \n",
    "y=np.array(y)  \n",
    "\n",
    "\n",
    "plt.figure(figsize=(10,10))\n",
    "plt.plot(x,y)\n",
    "plt.xlabel(\"time\")\n",
    "plt.ylabel(\"Magnetisation\")\n",
    "plt.title(\"Magentisation Profile Over time\")"
   ]
  },
  {
   "cell_type": "code",
   "execution_count": null,
   "id": "e4234313",
   "metadata": {},
   "outputs": [],
   "source": [
    "T=3\n",
    "k_b=1\n",
    "G=20\n",
    "J=1\n",
    "arr=np.zeros([G+1, G+1])\n",
    "for i in range(1,G):\n",
    "    for j in range(1,G):\n",
    "        arr[i][j]=random.choice([-1,1])\n",
    "M=np.sum(arr)\n",
    "\n",
    "y=[M]\n",
    "N=1000000\n",
    "x=np.arange(0,N+1)\n",
    "for k in range(N):\n",
    "    i = np.random.randint(1,G)\n",
    "    j = np.random.randint(1,G)\n",
    "    E_int=-arr[i][j]*(arr[i][j-1]+arr[i][j+1]+arr[i-1][j]+arr[i+1][j])\n",
    "    if(E_int>=0):\n",
    "        arr[i][j]*=-1\n",
    "    if(E_int<0):\n",
    "        beta=1/(k_b*T)\n",
    "        prob=math.exp(beta*E_int*2)\n",
    "        sample=int(1/prob)\n",
    "        ran=unif(0,sample)\n",
    "        if(ran>=1):\n",
    "            arr[i][j]*=-1\n",
    "    M=M+2*arr[i][j]\n",
    "    y.append(M)\n",
    "    \n",
    "y=np.array(y)  \n",
    "\n",
    "\n",
    "plt.figure(figsize=(10,10))\n",
    "plt.plot(x,y)\n",
    "plt.xlabel(\"time\")\n",
    "plt.ylabel(\"Magnetisation\")\n",
    "plt.title(\"Magentisation Profile Over time\")"
   ]
  },
  {
   "cell_type": "markdown",
   "id": "241601b6",
   "metadata": {},
   "source": [
    "A visible change which is observed is that the rapid fluctuations of the system has decreased a lot as the temperature has been increased. \n",
    "\n",
    "The probability of a lower energy state going to a higher energuy state is $e^{-\\Delta E/(kT)}$, for T=1, it is significant. The high energy state goes to the low energy state with probability 1. But, the reverse also happens more when the temperature is low. This effectively amounts to more fluctuations. Which is seen in T=1, it has decreased as T has increased."
   ]
  },
  {
   "cell_type": "code",
   "execution_count": null,
   "id": "32adeb6f",
   "metadata": {},
   "outputs": [],
   "source": []
  }
 ],
 "metadata": {
  "kernelspec": {
   "display_name": "Python 3 (ipykernel)",
   "language": "python",
   "name": "python3"
  },
  "language_info": {
   "codemirror_mode": {
    "name": "ipython",
    "version": 3
   },
   "file_extension": ".py",
   "mimetype": "text/x-python",
   "name": "python",
   "nbconvert_exporter": "python",
   "pygments_lexer": "ipython3",
   "version": "3.9.12"
  }
 },
 "nbformat": 4,
 "nbformat_minor": 5
}
