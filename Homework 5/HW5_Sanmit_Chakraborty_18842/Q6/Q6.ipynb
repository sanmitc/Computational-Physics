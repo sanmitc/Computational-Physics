{
 "cells": [
  {
   "cell_type": "markdown",
   "id": "71c22780",
   "metadata": {},
   "source": [
    "As there is a $1/\\sqrt{x}$ term in the numerator which blows up at 0. We have to get rid of this term. So we need to divide by $1/\\sqrt{x}$, Now, the normalisation constant in this case will be, \n",
    "$$N=\\int_0^1 \\frac{dx}{\\sqrt{x}}= 2$$ which essentially means the distribution will be:\n",
    "\n",
    "$$w(x)=\\frac{1}{2\\sqrt{x}}$$"
   ]
  },
  {
   "cell_type": "code",
   "execution_count": 1,
   "id": "7e7c15d1",
   "metadata": {},
   "outputs": [],
   "source": [
    "import numpy as np\n",
    "import matplotlib.pyplot as plt\n",
    "import math\n",
    "import cmath\n",
    "from numpy.random import uniform as unif"
   ]
  },
  {
   "cell_type": "code",
   "execution_count": 2,
   "id": "7fd3c213",
   "metadata": {},
   "outputs": [
    {
     "name": "stdout",
     "output_type": "stream",
     "text": [
      "0.8283580841492166\n"
     ]
    }
   ],
   "source": [
    "# func: functional form\n",
    "#w: weight factor\n",
    "#xmin: lower x-bound\n",
    "#xmax: higher x-bound\n",
    "#N: number of points\n",
    "\n",
    "def func(x):\n",
    "    return 1/(math.sqrt(x)*(math.exp(x)+1))\n",
    "\n",
    "def w(x):\n",
    "    return 1/(2*math.sqrt(x)) \n",
    "\n",
    "#as the orginal function func diverges at x=0, we take 4 to be the upper limit or ymax. It is just a \n",
    "#dummy number chosen based on intuition and convenience. \n",
    "def w_mean(func, w, xmin, xmax, ymin, ymax, N):\n",
    "    i=0\n",
    "    suum=0\n",
    "    while(i<N):\n",
    "        xi=unif(xmin, xmax)\n",
    "        yi=unif(ymin, ymax)\n",
    "        if(yi>w(xi)):\n",
    "            pass\n",
    "        if(yi<=w(xi)):\n",
    "            suum+= func(xi)/w(xi)\n",
    "            i=i+1\n",
    "    return suum/N\n",
    "\n",
    "N=1000000\n",
    "xmin=0\n",
    "xmax=1\n",
    "ymin=0\n",
    "ymax=4\n",
    "\n",
    "print(w_mean(func, w, xmin, xmax, ymin, ymax, N))\n",
    "#We get a value of 0.83 which is quite near to that of 0.84"
   ]
  }
 ],
 "metadata": {
  "kernelspec": {
   "display_name": "Python 3 (ipykernel)",
   "language": "python",
   "name": "python3"
  },
  "language_info": {
   "codemirror_mode": {
    "name": "ipython",
    "version": 3
   },
   "file_extension": ".py",
   "mimetype": "text/x-python",
   "name": "python",
   "nbconvert_exporter": "python",
   "pygments_lexer": "ipython3",
   "version": "3.9.12"
  }
 },
 "nbformat": 4,
 "nbformat_minor": 5
}
