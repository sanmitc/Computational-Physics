{
 "cells": [
  {
   "cell_type": "markdown",
   "id": "2198febd",
   "metadata": {},
   "source": [
    "##### Part-A\n",
    " \n",
    " The range of $\\theta$ is 0 to $\\pi$, the range of $\\phi$ is 0 to $2\\pi$. The probability distributions are normalised:\n",
    " \n",
    " $$\\int_0^\\pi \\frac{d\\theta sin\\theta}{2}=-\\frac{cos\\theta}{2}|_0^\\pi = - \\frac{-1-1}{2}=1$$\n",
    " $$\\int_{0}^{2\\pi}\\frac{d\\phi}{2\\pi}=\\frac{2\\pi}{2\\pi}=1$$"
   ]
  },
  {
   "cell_type": "markdown",
   "id": "fed5564d",
   "metadata": {},
   "source": [
    "##### Part-B\n",
    "\n",
    "$$z_\\phi=\\int_0^\\phi \\frac{d\\phi}{2\\pi}=\\frac{\\phi}{2\\pi} \\implies \\phi=2\\pi z_\\phi$$\n",
    "$$z_\\theta=\\int_0^\\theta \\sin\\theta/2 = (1-\\cos\\theta)/2 \\implies \\theta= \\arccos(1-2z_\\theta)$$"
   ]
  },
  {
   "cell_type": "code",
   "execution_count": 3,
   "id": "d4334d5c",
   "metadata": {},
   "outputs": [
    {
     "name": "stdout",
     "output_type": "stream",
     "text": [
      "0.3987715932135187 5.0820314657269945\n"
     ]
    }
   ],
   "source": [
    "#part-C\n",
    "import random\n",
    "import math\n",
    "import numpy as np\n",
    "\n",
    "#theta\n",
    "z_t=np.random.uniform(0,1)\n",
    "theta=math.acos(1-2*z_t)\n",
    "\n",
    "#phi\n",
    "z_p=np.random.uniform(0,1)\n",
    "phi=2*math.pi*z_p\n",
    "\n",
    "print(theta, phi)"
   ]
  }
 ],
 "metadata": {
  "kernelspec": {
   "display_name": "Python 3 (ipykernel)",
   "language": "python",
   "name": "python3"
  },
  "language_info": {
   "codemirror_mode": {
    "name": "ipython",
    "version": 3
   },
   "file_extension": ".py",
   "mimetype": "text/x-python",
   "name": "python",
   "nbconvert_exporter": "python",
   "pygments_lexer": "ipython3",
   "version": "3.9.12"
  }
 },
 "nbformat": 4,
 "nbformat_minor": 5
}
