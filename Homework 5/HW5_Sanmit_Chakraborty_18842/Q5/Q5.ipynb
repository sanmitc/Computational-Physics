{
 "cells": [
  {
   "cell_type": "code",
   "execution_count": 1,
   "id": "10a48d29",
   "metadata": {},
   "outputs": [
    {
     "name": "stdout",
     "output_type": "stream",
     "text": [
      "849.1264\n"
     ]
    }
   ],
   "source": [
    "import numpy as np\n",
    "import matplotlib.pyplot as plt\n",
    "import math\n",
    "import cmath\n",
    "from numpy.random import uniform as unf\n",
    "from numpy.random import rand\n",
    "\n",
    "\n",
    "#D is dimension, N is the number of points, the later indices are the bounds\n",
    "\n",
    "def I(D, N, xmin, xmax, ymin, ymax):\n",
    "    sum=0\n",
    "    for i in range(N):\n",
    "        x=unf(-1,1,10)\n",
    "        y=unf(-1,1,10)\n",
    "        if(np.dot(x,y)<1):\n",
    "            sum+=1\n",
    "    return (2**D/N)*(sum)\n",
    "\n",
    "\n",
    "xmin=-1\n",
    "xmax=1\n",
    "ymin=-1\n",
    "ymax=1\n",
    "D=10\n",
    "N=1000000\n",
    "\n",
    "print(I(D,N,xmin, xmax, ymin, ymax))"
   ]
  }
 ],
 "metadata": {
  "kernelspec": {
   "display_name": "Python 3 (ipykernel)",
   "language": "python",
   "name": "python3"
  },
  "language_info": {
   "codemirror_mode": {
    "name": "ipython",
    "version": 3
   },
   "file_extension": ".py",
   "mimetype": "text/x-python",
   "name": "python",
   "nbconvert_exporter": "python",
   "pygments_lexer": "ipython3",
   "version": "3.9.12"
  }
 },
 "nbformat": 4,
 "nbformat_minor": 5
}
