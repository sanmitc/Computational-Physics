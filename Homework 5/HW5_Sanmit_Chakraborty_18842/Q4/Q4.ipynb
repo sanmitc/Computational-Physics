{
 "cells": [
  {
   "cell_type": "code",
   "execution_count": 1,
   "id": "0b362ef9",
   "metadata": {},
   "outputs": [
    {
     "name": "stdout",
     "output_type": "stream",
     "text": [
      "1.45122\n",
      "0.0028224724593873367\n"
     ]
    }
   ],
   "source": [
    "#defining the function\n",
    "import numpy as np\n",
    "import matplotlib.pyplot as plt\n",
    "import math\n",
    "import cmath\n",
    "from numpy import random as rn\n",
    "\n",
    "\n",
    "def func(x):\n",
    "    return math.sin(1/(x*(2-x)))**2\n",
    "    \n",
    "#we take 2x1 grid here as done in the class.Area=2\n",
    "\n",
    "def M_C1(func, xmin, xmax, ymin, ymax, N):\n",
    "    counter=0\n",
    "    for i in range(N):\n",
    "        y=rn.uniform(ymin, ymax)\n",
    "        x=rn.uniform(xmin, xmax)\n",
    "        if(y<func(x)):\n",
    "            counter+=1\n",
    "    area=(ymax-ymin)*(xmax-xmin)\n",
    "    return area*(counter/N)\n",
    "\n",
    "def M_C1_err(func, xmin, xmax, ymin, ymax, N):\n",
    "    I=M_C1(func, xmin, xmax, ymin, ymax, N)\n",
    "    A=(xmax-xmin)*(ymax-ymin)\n",
    "    return math.sqrt(I*(A-I)/N)\n",
    "\n",
    "print(M_C1(func, 0, 2, 0 , 1, 100000))\n",
    "print(M_C1_err(func, 0, 2, 0, 1, 100000))\n",
    "\n",
    "#error\n",
    "    "
   ]
  },
  {
   "cell_type": "code",
   "execution_count": 2,
   "id": "4cf2b7fc",
   "metadata": {},
   "outputs": [
    {
     "name": "stdout",
     "output_type": "stream",
     "text": [
      "1.4516569239086392\n",
      "0.0005274654412083515\n"
     ]
    }
   ],
   "source": [
    "def M_C2(f, xmin, xmax, N):\n",
    "    suum=0\n",
    "    for i in range(N):\n",
    "        x=rn.uniform(xmin, xmax)\n",
    "        suum+=f(x)\n",
    "    return (xmax-xmin)*suum/N\n",
    "\n",
    "def M_C2_err(f, xmin, xmax, N):\n",
    "    suum=0\n",
    "    sqr=0\n",
    "    for i in range(N):\n",
    "        x=rn.uniform(xmin, xmax)\n",
    "        suum+=f(x)\n",
    "        sqr+=f(x)**2\n",
    "    var=-suum**2/N**2+sqr/N\n",
    "    return (xmax-xmin)*math.sqrt(var/N)\n",
    "\n",
    "xmin=0\n",
    "xmax=2\n",
    "N=1000000\n",
    "\n",
    "print(M_C2(func, xmin, xmax, N))\n",
    "print(M_C2_err(func, xmin, xmax, N))\n",
    "    "
   ]
  }
 ],
 "metadata": {
  "kernelspec": {
   "display_name": "Python 3 (ipykernel)",
   "language": "python",
   "name": "python3"
  },
  "language_info": {
   "codemirror_mode": {
    "name": "ipython",
    "version": 3
   },
   "file_extension": ".py",
   "mimetype": "text/x-python",
   "name": "python",
   "nbconvert_exporter": "python",
   "pygments_lexer": "ipython3",
   "version": "3.9.12"
  }
 },
 "nbformat": 4,
 "nbformat_minor": 5
}
