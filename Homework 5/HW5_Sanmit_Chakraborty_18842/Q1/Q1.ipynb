{
 "cells": [
  {
   "cell_type": "markdown",
   "id": "3102a0d8",
   "metadata": {},
   "source": [
    "##### Q1 "
   ]
  },
  {
   "cell_type": "code",
   "execution_count": null,
   "id": "a3d14075",
   "metadata": {},
   "outputs": [],
   "source": [
    "import numpy as np\n",
    "import matplotlib.pyplot as plt\n",
    "import math\n",
    "import cmath"
   ]
  },
  {
   "cell_type": "code",
   "execution_count": null,
   "id": "181d4874",
   "metadata": {},
   "outputs": [],
   "source": [
    "#Part-A\n",
    "\n",
    "up=7\n",
    "down=1\n",
    "\n",
    "int1= np.random.randint(down, up)\n",
    "int2= np.random.randint(down, up)\n",
    "print(int1, int2)"
   ]
  },
  {
   "cell_type": "code",
   "execution_count": null,
   "id": "ef017563",
   "metadata": {},
   "outputs": [],
   "source": [
    "#Part-B\n",
    "\n",
    "up=7\n",
    "down=1\n",
    "N=1000000\n",
    "counter=0\n",
    "\n",
    "for i in range(N):\n",
    "    int1= np.random.randint(down, up)\n",
    "    int2= np.random.randint(down, up)\n",
    "    if(int1==6 and int2==6):\n",
    "        counter+=1\n",
    "        \n",
    "        \n",
    "prob=counter/N\n",
    "\n",
    "print(prob)\n",
    "    \n",
    "#The answer is close to 1/36"
   ]
  }
 ],
 "metadata": {
  "kernelspec": {
   "display_name": "Python 3 (ipykernel)",
   "language": "python",
   "name": "python3"
  },
  "language_info": {
   "codemirror_mode": {
    "name": "ipython",
    "version": 3
   },
   "file_extension": ".py",
   "mimetype": "text/x-python",
   "name": "python",
   "nbconvert_exporter": "python",
   "pygments_lexer": "ipython3",
   "version": "3.9.12"
  }
 },
 "nbformat": 4,
 "nbformat_minor": 5
}
