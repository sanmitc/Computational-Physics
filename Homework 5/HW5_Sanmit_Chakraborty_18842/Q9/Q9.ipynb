{
 "cells": [
  {
   "cell_type": "code",
   "execution_count": 1,
   "id": "808feb72",
   "metadata": {},
   "outputs": [],
   "source": [
    "import numpy as np\n",
    "import matplotlib.pyplot as plt\n",
    "import math\n",
    "from IPython import display\n",
    "from matplotlib.animation import FuncAnimation, PillowWriter"
   ]
  },
  {
   "cell_type": "code",
   "execution_count": 2,
   "id": "2b93cac0",
   "metadata": {},
   "outputs": [],
   "source": [
    "#Defining the Cooling schedule\n",
    "\n",
    "def ExpoCooling(T_i, T_f, tau, t):\n",
    "    cool=math.exp(-t/tau)\n",
    "    return T_i*cool +T_f*(1-cool)    "
   ]
  },
  {
   "cell_type": "code",
   "execution_count": 5,
   "id": "7acdc79a",
   "metadata": {},
   "outputs": [
    {
     "name": "stdout",
     "output_type": "stream",
     "text": [
      "1009\n"
     ]
    },
    {
     "data": {
      "text/plain": [
       "<Figure size 432x288 with 0 Axes>"
      ]
     },
     "metadata": {},
     "output_type": "display_data"
    }
   ],
   "source": [
    "#Defining the variables:\n",
    "#T_i: Initial Temperature\n",
    "#T_f: Final Temperature'\n",
    "#tau: Cooling rate parameter\n",
    "#num: Number of dimers\n",
    "#grid: grid where dimers going to stick\n",
    "#size: size of the sqaure grid\n",
    "size=50\n",
    "T_i=5\n",
    "T_f=1e-80\n",
    "tau=500\n",
    "num=0\n",
    "num1=0\n",
    "k_b=1\n",
    "grid=np.zeros((size, size))\n",
    "dimer=np.zeros((size, size)) #shows the existence of a polymer\n",
    "\n",
    "#making the animation\n",
    "fig=plt.figure()\n",
    "metadata=dict(title='movie', artist='Sanmit')\n",
    "move=PillowWriter(fps=30, metadata=metadata)\n",
    "\n",
    " #shows the existence of a polymer\n",
    "\n",
    "max_count=5000\n",
    "\n",
    "with move.saving(fig, \"Q9.gif\", 100):\n",
    "    for i in range(max_count):\n",
    "        j1=np.random.randint(0,50)\n",
    "        k1=np.random.randint(0,50)\n",
    "        pos=[]\n",
    "        if(k1<49):\n",
    "            pos.append('right')\n",
    "        if(k1>0):\n",
    "            pos.append('left')\n",
    "        if(j1<49):\n",
    "            pos.append('down')\n",
    "        if(j1>0):\n",
    "            pos.append('up')\n",
    "        L=len(pos)\n",
    "        p=np.random.randint(0,L)\n",
    "        if(pos[p]=='right'):\n",
    "            j2=j1\n",
    "            k2=k1+1\n",
    "        if(pos[p]=='left'):\n",
    "            j2=j1\n",
    "            k2=k1-1\n",
    "        if(pos[p]=='down'):\n",
    "            j2=j1+1\n",
    "            k2=k1\n",
    "        if(pos[p]=='up'):\n",
    "            j2=j1-1\n",
    "            k2=k1\n",
    "\n",
    "        val1=grid[j1][k1]\n",
    "        val2=grid[j2][k2]\n",
    "\n",
    "        if(val1==val2):\n",
    "            if(val1==0):\n",
    "                grid[j1][k1]=num1+1\n",
    "                grid[j2][k2]=num1+1\n",
    "                dimer[j1][k1]=1\n",
    "                dimer[j2][k2]=1\n",
    "                num+=1\n",
    "                num1+=1\n",
    "\n",
    "            else:\n",
    "                T=ExpoCooling(T_i, T_f, tau, i)\n",
    "                prob=math.exp(-1/(k_b*T))\n",
    "                if(prob<1e-180):\n",
    "                    pass\n",
    "                else:\n",
    "                    N=int(1/prob)\n",
    "                    var=np.random.uniform(0,N)\n",
    "                    if(var<1):\n",
    "                        grid[j1][k1]=0\n",
    "                        grid[j2][k2]=0\n",
    "                        num-=1\n",
    "                        dimer[j1][k1]=0\n",
    "                        dimer[j2][k2]=0\n",
    "        if(i%25==0):\n",
    "            plt.imshow(dimer)\n",
    "            move.grab_frame()\n",
    "            plt.clf()\n",
    "\n",
    "\n",
    "print(num)"
   ]
  },
  {
   "cell_type": "markdown",
   "id": "8b67ac34",
   "metadata": {},
   "source": [
    "We are only doing till 5000 runs because after that finding empty spot becomes pretty unprobable, abd code takes long time to run."
   ]
  }
 ],
 "metadata": {
  "kernelspec": {
   "display_name": "Python 3 (ipykernel)",
   "language": "python",
   "name": "python3"
  },
  "language_info": {
   "codemirror_mode": {
    "name": "ipython",
    "version": 3
   },
   "file_extension": ".py",
   "mimetype": "text/x-python",
   "name": "python",
   "nbconvert_exporter": "python",
   "pygments_lexer": "ipython3",
   "version": "3.9.12"
  }
 },
 "nbformat": 4,
 "nbformat_minor": 5
}
