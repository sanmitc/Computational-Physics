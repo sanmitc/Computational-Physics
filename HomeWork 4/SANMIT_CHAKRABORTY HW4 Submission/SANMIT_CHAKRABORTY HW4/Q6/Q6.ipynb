{
 "cells": [
  {
   "cell_type": "markdown",
   "metadata": {
    "id": "2NMvd821EabU"
   },
   "source": [
    "# Q6"
   ]
  },
  {
   "cell_type": "code",
   "execution_count": 1,
   "metadata": {
    "executionInfo": {
     "elapsed": 698,
     "status": "ok",
     "timestamp": 1678125248269,
     "user": {
      "displayName": "Sanmit",
      "userId": "05616125681803156711"
     },
     "user_tz": -330
    },
    "id": "R47qJ-wREbhl"
   },
   "outputs": [],
   "source": [
    "import numpy as np\n",
    "import matplotlib.pyplot as plt\n",
    "import math\n",
    "import cmath\n"
   ]
  },
  {
   "cell_type": "code",
   "execution_count": 2,
   "metadata": {
    "executionInfo": {
     "elapsed": 627,
     "status": "ok",
     "timestamp": 1678126071703,
     "user": {
      "displayName": "Sanmit",
      "userId": "05616125681803156711"
     },
     "user_tz": -330
    },
    "id": "V0PwqTNg8gc4"
   },
   "outputs": [],
   "source": [
    "def c_fft(x):\n",
    "    if(len(x)==1):\n",
    "    res=x[0]\n",
    "    else:\n",
    "    N=len(x)\n",
    "    x_o=c_fft(x[1::2])\n",
    "    x_e=c_fft(x[::2])\n",
    "    expo=[np.exp((-2*math.pi*1j*i)/N) for i in range(N)]\n",
    "    arr1=x_e+np.divide(x_o, expo[:(N+1)//2])\n",
    "    arr2=x_e+np.divide(x_o, expo[(N+1)//2:])\n",
    "    res=np.concatenate([arr1, arr2])\n",
    "    return res\n",
    "\n",
    "\n",
    "def c_ifft(x):\n",
    "    if(len(x)==1):\n",
    "    res=x[0]\n",
    "    else:\n",
    "        N=len(x)\n",
    "        x_o=c_ifft(x[1::2])\n",
    "        x_e=c_ifft(x[::2])\n",
    "        expo=[cmath.exp((-2*math.pi*1j*i)/N) for i in range(N)]\n",
    "        arr1=x_e+np.divide(x_o, expo[:int(N/2)+1])\n",
    "        arr2=x_e+np.divide(x_e, expo[int(N/2)+1:])\n",
    "        res=np.concatenate([arr1, arr2])\n",
    "    return res\n",
    "\n"
   ]
  },
  {
   "cell_type": "code",
   "execution_count": 3,
   "metadata": {
    "executionInfo": {
     "elapsed": 6,
     "status": "ok",
     "timestamp": 1678126071704,
     "user": {
      "displayName": "Sanmit",
      "userId": "05616125681803156711"
     },
     "user_tz": -330
    },
    "id": "q_2wj1MI-DM6"
   },
   "outputs": [],
   "source": [
    "x=np.random.rand(1000)"
   ]
  },
  {
   "cell_type": "code",
   "execution_count": 4,
   "metadata": {
    "colab": {
     "base_uri": "https://localhost:8080/",
     "height": 311
    },
    "executionInfo": {
     "elapsed": 14,
     "status": "error",
     "timestamp": 1678126072498,
     "user": {
      "displayName": "Sanmit",
      "userId": "05616125681803156711"
     },
     "user_tz": -330
    },
    "id": "UDmF9hyg-Jn9",
    "outputId": "32577dbc-efcb-4d7a-e5dd-3079fa1a0361"
   },
   "outputs": [
    {
     "ename": "ValueError",
     "evalue": "operands could not be broadcast together with shapes (4,) (3,) ",
     "output_type": "error",
     "traceback": [
      "\u001b[1;31m---------------------------------------------------------------------------\u001b[0m",
      "\u001b[1;31mValueError\u001b[0m                                Traceback (most recent call last)",
      "Input \u001b[1;32mIn [4]\u001b[0m, in \u001b[0;36m<cell line: 1>\u001b[1;34m()\u001b[0m\n\u001b[1;32m----> 1\u001b[0m \u001b[38;5;28mprint\u001b[39m(\u001b[43mc_fft\u001b[49m\u001b[43m(\u001b[49m\u001b[43mx\u001b[49m\u001b[43m)\u001b[49m)\n",
      "Input \u001b[1;32mIn [2]\u001b[0m, in \u001b[0;36mc_fft\u001b[1;34m(x)\u001b[0m\n\u001b[0;32m      4\u001b[0m \u001b[38;5;28;01melse\u001b[39;00m:\n\u001b[0;32m      5\u001b[0m   N\u001b[38;5;241m=\u001b[39m\u001b[38;5;28mlen\u001b[39m(x)\n\u001b[1;32m----> 6\u001b[0m   x_o\u001b[38;5;241m=\u001b[39m\u001b[43mc_fft\u001b[49m\u001b[43m(\u001b[49m\u001b[43mx\u001b[49m\u001b[43m[\u001b[49m\u001b[38;5;241;43m1\u001b[39;49m\u001b[43m:\u001b[49m\u001b[43m:\u001b[49m\u001b[38;5;241;43m2\u001b[39;49m\u001b[43m]\u001b[49m\u001b[43m)\u001b[49m\n\u001b[0;32m      7\u001b[0m   x_e\u001b[38;5;241m=\u001b[39mc_fft(x[::\u001b[38;5;241m2\u001b[39m])\n\u001b[0;32m      8\u001b[0m   expo\u001b[38;5;241m=\u001b[39m[np\u001b[38;5;241m.\u001b[39mexp((\u001b[38;5;241m-\u001b[39m\u001b[38;5;241m2\u001b[39m\u001b[38;5;241m*\u001b[39mmath\u001b[38;5;241m.\u001b[39mpi\u001b[38;5;241m*\u001b[39m\u001b[38;5;241m1\u001b[39mj\u001b[38;5;241m*\u001b[39mi)\u001b[38;5;241m/\u001b[39mN) \u001b[38;5;28;01mfor\u001b[39;00m i \u001b[38;5;129;01min\u001b[39;00m \u001b[38;5;28mrange\u001b[39m(N)]\n",
      "Input \u001b[1;32mIn [2]\u001b[0m, in \u001b[0;36mc_fft\u001b[1;34m(x)\u001b[0m\n\u001b[0;32m      4\u001b[0m \u001b[38;5;28;01melse\u001b[39;00m:\n\u001b[0;32m      5\u001b[0m   N\u001b[38;5;241m=\u001b[39m\u001b[38;5;28mlen\u001b[39m(x)\n\u001b[1;32m----> 6\u001b[0m   x_o\u001b[38;5;241m=\u001b[39m\u001b[43mc_fft\u001b[49m\u001b[43m(\u001b[49m\u001b[43mx\u001b[49m\u001b[43m[\u001b[49m\u001b[38;5;241;43m1\u001b[39;49m\u001b[43m:\u001b[49m\u001b[43m:\u001b[49m\u001b[38;5;241;43m2\u001b[39;49m\u001b[43m]\u001b[49m\u001b[43m)\u001b[49m\n\u001b[0;32m      7\u001b[0m   x_e\u001b[38;5;241m=\u001b[39mc_fft(x[::\u001b[38;5;241m2\u001b[39m])\n\u001b[0;32m      8\u001b[0m   expo\u001b[38;5;241m=\u001b[39m[np\u001b[38;5;241m.\u001b[39mexp((\u001b[38;5;241m-\u001b[39m\u001b[38;5;241m2\u001b[39m\u001b[38;5;241m*\u001b[39mmath\u001b[38;5;241m.\u001b[39mpi\u001b[38;5;241m*\u001b[39m\u001b[38;5;241m1\u001b[39mj\u001b[38;5;241m*\u001b[39mi)\u001b[38;5;241m/\u001b[39mN) \u001b[38;5;28;01mfor\u001b[39;00m i \u001b[38;5;129;01min\u001b[39;00m \u001b[38;5;28mrange\u001b[39m(N)]\n",
      "    \u001b[1;31m[... skipping similar frames: c_fft at line 6 (4 times)]\u001b[0m\n",
      "Input \u001b[1;32mIn [2]\u001b[0m, in \u001b[0;36mc_fft\u001b[1;34m(x)\u001b[0m\n\u001b[0;32m      4\u001b[0m \u001b[38;5;28;01melse\u001b[39;00m:\n\u001b[0;32m      5\u001b[0m   N\u001b[38;5;241m=\u001b[39m\u001b[38;5;28mlen\u001b[39m(x)\n\u001b[1;32m----> 6\u001b[0m   x_o\u001b[38;5;241m=\u001b[39m\u001b[43mc_fft\u001b[49m\u001b[43m(\u001b[49m\u001b[43mx\u001b[49m\u001b[43m[\u001b[49m\u001b[38;5;241;43m1\u001b[39;49m\u001b[43m:\u001b[49m\u001b[43m:\u001b[49m\u001b[38;5;241;43m2\u001b[39;49m\u001b[43m]\u001b[49m\u001b[43m)\u001b[49m\n\u001b[0;32m      7\u001b[0m   x_e\u001b[38;5;241m=\u001b[39mc_fft(x[::\u001b[38;5;241m2\u001b[39m])\n\u001b[0;32m      8\u001b[0m   expo\u001b[38;5;241m=\u001b[39m[np\u001b[38;5;241m.\u001b[39mexp((\u001b[38;5;241m-\u001b[39m\u001b[38;5;241m2\u001b[39m\u001b[38;5;241m*\u001b[39mmath\u001b[38;5;241m.\u001b[39mpi\u001b[38;5;241m*\u001b[39m\u001b[38;5;241m1\u001b[39mj\u001b[38;5;241m*\u001b[39mi)\u001b[38;5;241m/\u001b[39mN) \u001b[38;5;28;01mfor\u001b[39;00m i \u001b[38;5;129;01min\u001b[39;00m \u001b[38;5;28mrange\u001b[39m(N)]\n",
      "Input \u001b[1;32mIn [2]\u001b[0m, in \u001b[0;36mc_fft\u001b[1;34m(x)\u001b[0m\n\u001b[0;32m      8\u001b[0m   expo\u001b[38;5;241m=\u001b[39m[np\u001b[38;5;241m.\u001b[39mexp((\u001b[38;5;241m-\u001b[39m\u001b[38;5;241m2\u001b[39m\u001b[38;5;241m*\u001b[39mmath\u001b[38;5;241m.\u001b[39mpi\u001b[38;5;241m*\u001b[39m\u001b[38;5;241m1\u001b[39mj\u001b[38;5;241m*\u001b[39mi)\u001b[38;5;241m/\u001b[39mN) \u001b[38;5;28;01mfor\u001b[39;00m i \u001b[38;5;129;01min\u001b[39;00m \u001b[38;5;28mrange\u001b[39m(N)]\n\u001b[0;32m      9\u001b[0m   arr1\u001b[38;5;241m=\u001b[39mx_e\u001b[38;5;241m+\u001b[39mnp\u001b[38;5;241m.\u001b[39mdivide(x_o, expo[:(N\u001b[38;5;241m+\u001b[39m\u001b[38;5;241m1\u001b[39m)\u001b[38;5;241m/\u001b[39m\u001b[38;5;241m/\u001b[39m\u001b[38;5;241m2\u001b[39m])\n\u001b[1;32m---> 10\u001b[0m   arr2\u001b[38;5;241m=\u001b[39mx_e\u001b[38;5;241m+\u001b[39m\u001b[43mnp\u001b[49m\u001b[38;5;241;43m.\u001b[39;49m\u001b[43mdivide\u001b[49m\u001b[43m(\u001b[49m\u001b[43mx_o\u001b[49m\u001b[43m,\u001b[49m\u001b[43m \u001b[49m\u001b[43mexpo\u001b[49m\u001b[43m[\u001b[49m\u001b[43m(\u001b[49m\u001b[43mN\u001b[49m\u001b[38;5;241;43m+\u001b[39;49m\u001b[38;5;241;43m1\u001b[39;49m\u001b[43m)\u001b[49m\u001b[38;5;241;43m/\u001b[39;49m\u001b[38;5;241;43m/\u001b[39;49m\u001b[38;5;241;43m2\u001b[39;49m\u001b[43m:\u001b[49m\u001b[43m]\u001b[49m\u001b[43m)\u001b[49m\n\u001b[0;32m     11\u001b[0m   res\u001b[38;5;241m=\u001b[39mnp\u001b[38;5;241m.\u001b[39mconcatenate([arr1, arr2])\n\u001b[0;32m     12\u001b[0m \u001b[38;5;28;01mreturn\u001b[39;00m res\n",
      "\u001b[1;31mValueError\u001b[0m: operands could not be broadcast together with shapes (4,) (3,) "
     ]
    }
   ],
   "source": [
    "print(c_fft(x))"
   ]
  },
  {
   "cell_type": "code",
   "execution_count": null,
   "metadata": {
    "id": "gh5ni9qA-UXx"
   },
   "outputs": [],
   "source": []
  }
 ],
 "metadata": {
  "colab": {
   "authorship_tag": "ABX9TyP/eAFZJc7mHwVRX0+ypxt3",
   "provenance": []
  },
  "kernelspec": {
   "display_name": "Python 3 (ipykernel)",
   "language": "python",
   "name": "python3"
  },
  "language_info": {
   "codemirror_mode": {
    "name": "ipython",
    "version": 3
   },
   "file_extension": ".py",
   "mimetype": "text/x-python",
   "name": "python",
   "nbconvert_exporter": "python",
   "pygments_lexer": "ipython3",
   "version": "3.9.12"
  }
 },
 "nbformat": 4,
 "nbformat_minor": 1
}
