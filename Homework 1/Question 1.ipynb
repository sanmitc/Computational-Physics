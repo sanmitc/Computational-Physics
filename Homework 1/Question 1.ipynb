{
 "cells": [
  {
   "cell_type": "markdown",
   "id": "586abe92",
   "metadata": {},
   "source": [
    "# Homework 1 "
   ]
  },
  {
   "cell_type": "markdown",
   "id": "7dd03dfe",
   "metadata": {},
   "source": [
    "# Sanmit Chakraborty 18842  PH354"
   ]
  },
  {
   "cell_type": "markdown",
   "id": "2c14c415",
   "metadata": {},
   "source": [
    "First let us import all the appropriate packages"
   ]
  },
  {
   "cell_type": "code",
   "execution_count": 4,
   "id": "9195d51d",
   "metadata": {},
   "outputs": [],
   "source": [
    "import numpy as np\n",
    "import matplotlib as plt\n",
    "import math"
   ]
  },
  {
   "cell_type": "markdown",
   "id": "c56f832a",
   "metadata": {},
   "source": [
    "Question 1"
   ]
  },
  {
   "cell_type": "code",
   "execution_count": 13,
   "id": "eb5e6ffb",
   "metadata": {},
   "outputs": [
    {
     "name": "stdout",
     "output_type": "stream",
     "text": [
      "19.62\n",
      "2.0\n"
     ]
    }
   ],
   "source": [
    "#Part-a: writing the function to find the time for any general height\n",
    "def findtime(h,g):\n",
    "    t=math.sqrt((2*h)/g)\n",
    "    print(t)\n",
    "    \n",
    "g=9.81\n",
    "h=float(input())\n",
    "findtime(h,g)\n"
   ]
  },
  {
   "cell_type": "code",
   "execution_count": 15,
   "id": "fe2cf0aa",
   "metadata": {},
   "outputs": [
    {
     "name": "stdout",
     "output_type": "stream",
     "text": [
      "4.515236409857309\n"
     ]
    }
   ],
   "source": [
    "#part b\n",
    "g=9.81\n",
    "findtime(100,g)"
   ]
  },
  {
   "cell_type": "markdown",
   "id": "ab8d139e",
   "metadata": {},
   "source": [
    "Question 6"
   ]
  },
  {
   "cell_type": "code",
   "execution_count": 3,
   "id": "2f491a96",
   "metadata": {},
   "outputs": [
    {
     "name": "stdout",
     "output_type": "stream",
     "text": [
      "1.471e11\n",
      "3.0287e4\n",
      "The distance from sun in apehelion is: 152203426488.95587\n",
      "velocity at apehelion is 29271.467816286502\n",
      "The orbital period is: 365.5084653481673\n",
      "The eccentricity is: 0.033530299591029156\n"
     ]
    }
   ],
   "source": [
    "import math\n",
    "def find(l,v):\n",
    "    L=l*v\n",
    "    G=6.67e-11\n",
    "    M=1.9891e30\n",
    "    vel=((2*G*M)/L)-v\n",
    "    ape=(L/vel)\n",
    "    e=1-(l/ape)\n",
    "    a=(ape+l)/2\n",
    "    time=math.sqrt((4*((math.pi)**2)*(a**3))/(G*M))\n",
    "    T=time/(3600*24)\n",
    "    print(\"The distance from sun in apehelion is:\", ape)\n",
    "    print(\"velocity at apehelion is\", vel)\n",
    "    print(\"The orbital period in years is:\", T)\n",
    "    print(\"The eccentricity is:\", e)\n",
    "    \n",
    "l=float(input())\n",
    "v=float(input())\n",
    "find(l,v)"
   ]
  },
  {
   "cell_type": "code",
   "execution_count": null,
   "id": "6dbbd97c",
   "metadata": {},
   "outputs": [],
   "source": []
  },
  {
   "cell_type": "markdown",
   "id": "4a63f92b",
   "metadata": {},
   "source": [
    "Question 7"
   ]
  },
  {
   "cell_type": "code",
   "execution_count": 14,
   "id": "ec709bbc",
   "metadata": {},
   "outputs": [
    {
     "name": "stdout",
     "output_type": "stream",
     "text": [
      "1e9\n",
      "1\n",
      "1\n",
      "2\n",
      "5\n",
      "14\n",
      "42\n",
      "132\n",
      "429\n",
      "1430\n",
      "4862\n",
      "16796\n",
      "58786\n",
      "208012\n",
      "742900\n",
      "2674440\n",
      "9694845\n",
      "35357670\n",
      "129644790\n",
      "477638700\n"
     ]
    }
   ],
   "source": [
    "def Catalan(n):\n",
    "    C=1\n",
    "    m=0\n",
    "    while(C<n):\n",
    "        print(int(C))\n",
    "        C=((4*m+2)*C)/(m+2)\n",
    "        m+=1\n",
    "        \n",
    "s=float(input())\n",
    "Catalan(s)"
   ]
  },
  {
   "cell_type": "markdown",
   "id": "4a35901f",
   "metadata": {},
   "source": [
    "Question 8"
   ]
  },
  {
   "cell_type": "code",
   "execution_count": 20,
   "id": "1705169b",
   "metadata": {},
   "outputs": [
    {
     "name": "stdout",
     "output_type": "stream",
     "text": [
      "100\n"
     ]
    },
    {
     "data": {
      "text/plain": [
       "-1.7475645950377328"
      ]
     },
     "execution_count": 20,
     "metadata": {},
     "output_type": "execute_result"
    }
   ],
   "source": [
    "import math\n",
    "def getMadelung(L):\n",
    "    V=0\n",
    "    for i in range(-L,L):\n",
    "        for j in range(-L,L):\n",
    "            for k in range(-L,L):\n",
    "                p=(i!=0 or j!=0 or k!=0)\n",
    "                Atom=(i+j+k)\n",
    "                if(Atom%2==1):\n",
    "                    sign=-1\n",
    "                else:\n",
    "                    sign=1\n",
    "                if(p):\n",
    "                    k=math.sqrt(i**2+k**2+j**2)\n",
    "                    V+=sign*(1/k)\n",
    "    return V\n",
    "\n",
    "Num=int(input())\n",
    "getMadelung(Num)\n",
    "                \n",
    "                "
   ]
  },
  {
   "cell_type": "markdown",
   "id": "c72accd6",
   "metadata": {},
   "source": [
    "Question 9"
   ]
  },
  {
   "cell_type": "code",
   "execution_count": 29,
   "id": "f842e879",
   "metadata": {},
   "outputs": [
    {
     "name": "stdout",
     "output_type": "stream",
     "text": [
      "Mass Number:\n",
      "58\n",
      "Atomic Number:\n",
      "28\n",
      "Binding energy 493.9356068013682\n",
      "Bindin energy per numcleon 8.516131151747727\n"
     ]
    }
   ],
   "source": [
    "#part a\n",
    "\n",
    "def B_E(A,Z):\n",
    "    a_1=15.67\n",
    "    a_2=17.23\n",
    "    a_3=0.75\n",
    "    a_4=93.2\n",
    "    if(A%2==1):\n",
    "        a_5=0.0\n",
    "    elif(A%2==0 and Z%2==0):\n",
    "        a_5=12.0\n",
    "    else:\n",
    "        a_5=-12.0\n",
    "    E=a_1*A -a_2*(A**(2/3))-a_3*(Z**2)*(A**(-1/3))-a_4*((A-2*Z)**2/A)+a_5*(A**(-1/2))\n",
    "    return E\n",
    "print(\"Mass Number:\")\n",
    "A=int(input())\n",
    "\n",
    "print(\"Atomic Number:\")\n",
    "Z=int(input())\n",
    "\n",
    "Energy=B_E(A,Z)\n",
    "print(\"Binding energy\", Energy)\n",
    "\n",
    "per_n= (Energy/float(A))\n",
    "print(\"Bindin energy per numcleon\", per_n)\n"
   ]
  },
  {
   "cell_type": "code",
   "execution_count": null,
   "id": "ed146be1",
   "metadata": {},
   "outputs": [],
   "source": [
    "#part c\n",
    "\n",
    "Z=int(input())\n",
    "\n",
    "def max_E_A(Z):\n",
    "    A=Z\n",
    "    max_E=0\n",
    "    for i in range(Z, 3*Z+1):\n",
    "        if(max_E>=(B_E(i,Z)/i)):\n",
    "            pass\n",
    "        else:\n",
    "            max_E=(B_E(i,Z)/i)\n",
    "            A=i\n",
    "            print(\"maximum binding energy per nucleon:\", max_E)\n",
    "            print(\"the mass number is:\", A)\n",
    "max_E_A(Z)\n"
   ]
  },
  {
   "cell_type": "markdown",
   "id": "35ffa24a",
   "metadata": {},
   "source": [
    "Question 5"
   ]
  },
  {
   "cell_type": "code",
   "execution_count": null,
   "id": "2d44e5fd",
   "metadata": {},
   "outputs": [],
   "source": [
    "import math\n",
    "#enter velocity as a fraction of c\n",
    "def time(x,v):\n",
    "    x=x*9.461e15\n",
    "    c=3e8\n",
    "    if(v>=1):\n",
    "        return None\n",
    "    else:\n",
    "        t_1=x/(v*c)\n",
    "        gamma=1/math.sqrt(1-v**2)\n",
    "        t_2=x/(gamma*v*c)\n",
    "    return [t_1,t_2]\n",
    "\n",
    "#driver code\n",
    "'''v=input()\n",
    "x=[]\n",
    "x.extend(v)\n",
    "#print(x)\n",
    "n=len(x)\n",
    "x.pop(n-1)\n",
    "#print(x)\n",
    "str=\"\"\n",
    "for ele in x:\n",
    "    str+=ele\n",
    "\n",
    "v_in=int(str)\n",
    "print(v)'''\n",
    "\n",
    "print('enter velocity as a fraction of c')\n",
    "v =float(input())\n",
    "print('enter distance in lightyears')\n",
    "x=float(input())\n",
    "print(\"from stationary frame:\", time(x,v)[0])\n",
    "print(\"from stationary frame:\", time(x,v)[1])\n",
    "\n"
   ]
  },
  {
   "cell_type": "markdown",
   "id": "8f988325",
   "metadata": {},
   "source": [
    "Question 5"
   ]
  },
  {
   "cell_type": "code",
   "execution_count": 17,
   "id": "c402b158",
   "metadata": {},
   "outputs": [
    {
     "name": "stdout",
     "output_type": "stream",
     "text": [
      "0.26987386361223836 0.7301261363877615\n",
      "0.9999999999999998\n"
     ]
    }
   ],
   "source": [
    "import math\n",
    "\n",
    "def RT(E,V):\n",
    "    k_1=math.sqrt(E)\n",
    "    k_2=math.sqrt((E-V))\n",
    "    R=((k_1-k_2)/(k_1+k_2))**2\n",
    "    T=(4*k_1*k_2)/((k_1+k_2)**2)\n",
    "    print(R,T)\n",
    "    o=R+T\n",
    "    print(o)\n",
    "       \n",
    "RT(10, 9)"
   ]
  },
  {
   "cell_type": "code",
   "execution_count": null,
   "id": "00108705",
   "metadata": {},
   "outputs": [],
   "source": []
  },
  {
   "cell_type": "code",
   "execution_count": null,
   "id": "4259876f",
   "metadata": {},
   "outputs": [],
   "source": []
  }
 ],
 "metadata": {
  "kernelspec": {
   "display_name": "Python 3 (ipykernel)",
   "language": "python",
   "name": "python3"
  },
  "language_info": {
   "codemirror_mode": {
    "name": "ipython",
    "version": 3
   },
   "file_extension": ".py",
   "mimetype": "text/x-python",
   "name": "python",
   "nbconvert_exporter": "python",
   "pygments_lexer": "ipython3",
   "version": "3.9.12"
  }
 },
 "nbformat": 4,
 "nbformat_minor": 5
}
