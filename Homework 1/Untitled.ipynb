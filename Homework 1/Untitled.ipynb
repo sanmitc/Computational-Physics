{
 "cells": [
  {
   "cell_type": "code",
   "execution_count": 1,
   "id": "c0829fb2",
   "metadata": {},
   "outputs": [],
   "source": [
    "import math"
   ]
  },
  {
   "cell_type": "markdown",
   "id": "259ed9cb",
   "metadata": {},
   "source": [
    "Question 8"
   ]
  },
  {
   "cell_type": "code",
   "execution_count": 4,
   "id": "71d1939e",
   "metadata": {},
   "outputs": [
    {
     "name": "stdout",
     "output_type": "stream",
     "text": [
      "Mass Number:\n",
      "10\n",
      "Atomic Number:\n",
      "10\n",
      "Binding energy -886.291758663042\n",
      "Bindin energy per numcleon -88.6291758663042\n"
     ]
    }
   ],
   "source": [
    "import math\n",
    "def B_E(A,Z):\n",
    "    a_1=15.67\n",
    "    a_2=17.23\n",
    "    a_3=0.75\n",
    "    a_4=93.2\n",
    "    if(A%2==1):\n",
    "        a_5=0.0\n",
    "    elif(A%2==0 and Z%2==0):\n",
    "        a_5=12.0\n",
    "    else:\n",
    "        a_5=-12.0\n",
    "    E=a_1*A -a_2*(A**(2/3))-a_3*(Z**2)*(A**(-1/3))-a_4*((A-2*Z)**2/A)+a_5*(A**(-1/2))\n",
    "    return E\n",
    "print(\"Mass Number:\")\n",
    "A=int(input())\n",
    "\n",
    "print(\"Atomic Number:\")\n",
    "Z=int(input())\n",
    "\n",
    "Energy=B_E(A,Z)\n",
    "print(\"Binding energy\", Energy)\n",
    "\n",
    "per_n= (Energy/float(A))\n",
    "print(\"Bindin energy per numcleon\", per_n)\n"
   ]
  },
  {
   "cell_type": "code",
   "execution_count": 5,
   "id": "4c6fb599",
   "metadata": {},
   "outputs": [
    {
     "name": "stdout",
     "output_type": "stream",
     "text": [
      "20\n",
      "maximum binding energy per nucleon: 8.495784570724103\n",
      "the mass number is: 41\n"
     ]
    }
   ],
   "source": [
    "#part c\n",
    "\n",
    "Z=int(input())\n",
    "\n",
    "def max_E_A(Z):\n",
    "    A=Z\n",
    "    max_E=0\n",
    "    for i in range(Z, 3*Z+1):\n",
    "        if(max_E>=(B_E(i,Z)/i)):\n",
    "            pass\n",
    "        else:\n",
    "            max_E=(B_E(i,Z)/i)\n",
    "            A=i\n",
    "    print(\"maximum binding energy per nucleon:\", max_E)\n",
    "    print(\"the mass number is:\", A)\n",
    "max_E_A(Z)\n"
   ]
  },
  {
   "cell_type": "code",
   "execution_count": 12,
   "id": "a2897eef",
   "metadata": {},
   "outputs": [
    {
     "name": "stdout",
     "output_type": "stream",
     "text": [
      "100\n",
      "The appropriate z is: 24\n",
      "[1, 4, 6, 8, 10, 12, 15, 16, 19, 20, 23, 24, 27, 28, 31, 32, 35, 36, 39, 41, 43, 46, 47, 50, 51, 54, 55, 58, 59, 62, 63, 66, 69, 70, 73, 74, 77, 78, 81, 82, 85, 86, 89, 92, 93, 96, 97, 100, 101, 104, 105, 108, 111, 112, 115, 116, 119, 120, 123, 124, 127, 130, 131, 134, 135, 138, 139, 142, 143, 146, 149, 150, 153, 154, 157, 158, 161, 164, 165, 168, 169, 172, 173, 176, 179, 180, 183, 184, 187, 190, 191, 194, 195, 198, 199, 202, 205, 206, 209, 210]\n"
     ]
    }
   ],
   "source": [
    "#part d\n",
    "Num=int(input())\n",
    "\n",
    "def max_E_A(Z):\n",
    "    A=Z\n",
    "    max_E=0\n",
    "    for i in range(Z, 3*Z+1):\n",
    "        if(max_E>=(B_E(i,Z)/i)):\n",
    "            pass\n",
    "        else:\n",
    "            max_E=(B_E(i,Z)/i)\n",
    "            A=i\n",
    "    return [A,max_E]\n",
    "\n",
    "def get_max(Num):\n",
    "    Z=0\n",
    "    max=0\n",
    "    ar=[]\n",
    "    A=0\n",
    "    for i in range(1,101):\n",
    "        if(max>=max_E_A(i)[1]):\n",
    "            A=max_E_A(i)[0]\n",
    "            ar.append(A)\n",
    "            pass\n",
    "        else:\n",
    "            max=max_E_A(i)[1]\n",
    "            ar.append(max_E_A(i)[0])\n",
    "            Z=i\n",
    "    return [Z,ar]\n",
    "        \n",
    "Z_max=get_max(Num)[0]\n",
    "ar=get_max(Num)[1]\n",
    "print('The appropriate z is:', Z_max)\n",
    "print(ar)"
   ]
  },
  {
   "cell_type": "markdown",
   "id": "d84185d8",
   "metadata": {},
   "source": [
    "Question 10"
   ]
  },
  {
   "cell_type": "code",
   "execution_count": 14,
   "id": "3c590750",
   "metadata": {},
   "outputs": [],
   "source": [
    "import math\n",
    "#part a\n",
    "def binomial(n,k):\n",
    "    if(k==0):\n",
    "        return 1\n",
    "    else:\n",
    "        prod1=1\n",
    "        prod2=1\n",
    "        for i in range(1,k+1):\n",
    "            prod1*=(n-i+1)\n",
    "            prod2*=i\n",
    "        result=prod1/prod2\n",
    "    return int(result)\n",
    "\n",
    "\n",
    "            "
   ]
  },
  {
   "cell_type": "code",
   "execution_count": 15,
   "id": "93071366",
   "metadata": {},
   "outputs": [
    {
     "name": "stdout",
     "output_type": "stream",
     "text": [
      "\n",
      "\n",
      "1 1 \n",
      "\n",
      "1 2 1 \n",
      "\n",
      "1 3 3 1 \n",
      "\n",
      "1 4 6 4 1 \n",
      "\n",
      "1 5 10 10 5 1 \n",
      "\n",
      "1 6 15 20 15 6 1 \n",
      "\n",
      "1 7 21 35 35 21 7 1 \n",
      "\n",
      "1 8 28 56 70 56 28 8 1 \n",
      "\n",
      "1 9 36 84 126 126 84 36 9 1 \n",
      "\n",
      "1 10 45 120 210 252 210 120 45 10 1 \n",
      "\n",
      "1 11 55 165 330 462 462 330 165 55 11 1 \n",
      "\n",
      "1 12 66 220 495 792 924 792 495 220 66 12 1 \n",
      "\n",
      "1 13 78 286 715 1287 1716 1716 1287 715 286 78 13 1 \n",
      "\n",
      "1 14 91 364 1001 2002 3003 3432 3003 2002 1001 364 91 14 1 \n",
      "\n",
      "1 15 105 455 1365 3003 5005 6435 6435 5005 3003 1365 455 105 15 1 \n",
      "\n",
      "1 16 120 560 1820 4368 8008 11440 12870 11440 8008 4368 1820 560 120 16 1 \n",
      "\n",
      "1 17 136 680 2380 6188 12376 19448 24310 24310 19448 12376 6188 2380 680 136 17 1 \n",
      "\n",
      "1 18 153 816 3060 8568 18564 31824 43758 48620 43758 31824 18564 8568 3060 816 153 18 1 \n",
      "\n",
      "1 19 171 969 3876 11628 27132 50388 75582 92378 92378 75582 50388 27132 11628 3876 969 171 19 1 \n",
      "\n",
      "1 20 190 1140 4845 15504 38760 77520 125970 167960 184756 167960 125970 77520 38760 15504 4845 1140 190 20 1 "
     ]
    }
   ],
   "source": [
    "#part b\n",
    "Num=20\n",
    "for i in range(1,Num+1):\n",
    "    print('\\n')\n",
    "    for j in range(0,i+1):\n",
    "        a=binomial(i,j)\n",
    "        print(a, end=\" \")"
   ]
  },
  {
   "cell_type": "code",
   "execution_count": 16,
   "id": "0746b19d",
   "metadata": {},
   "outputs": [
    {
     "name": "stdout",
     "output_type": "stream",
     "text": [
      "probability of 60 heads: 0.010843866711637987\n",
      "probability of 60 or more heads 0.028443966820490392\n"
     ]
    }
   ],
   "source": [
    "#part c\n",
    "\n",
    "def prob(n,k):\n",
    "    den=2**n\n",
    "    p=binomial(n,k)/den\n",
    "    return p\n",
    "\n",
    "n=100\n",
    "k=60\n",
    "ans1=prob(n,k)\n",
    "\n",
    "ans2=0\n",
    "for i in range(60,101):\n",
    "    ans2+=prob(100,i)\n",
    "\n",
    "print(\"probability of 60 heads:\", ans1)\n",
    "print(\"probability of 60 or more heads\", ans2)"
   ]
  },
  {
   "cell_type": "markdown",
   "id": "a996727c",
   "metadata": {},
   "source": [
    "Question 12"
   ]
  },
  {
   "cell_type": "code",
   "execution_count": 30,
   "id": "9b88e4c1",
   "metadata": {},
   "outputs": [
    {
     "name": "stdout",
     "output_type": "stream",
     "text": [
      "100\n",
      "Corresponding Catalan number is: 896519947090131678185430741499021921911623568450622849024\n"
     ]
    }
   ],
   "source": [
    "#part a\n",
    "def Catalan(n):\n",
    "    p=0\n",
    "    if(n==0):\n",
    "        p=1\n",
    "    else:\n",
    "        p=((4*n+2)/(n+2))*Catalan(n-1)\n",
    "    return int(p)\n",
    "\n",
    "n=int(input())\n",
    "print(\"Corresponding Catalan number is:\", Catalan(n-1))\n",
    "\n",
    "# For directly implementing C_100\n",
    "#print(\"C_100 is:\", Catalan(1))"
   ]
  },
  {
   "cell_type": "code",
   "execution_count": 4,
   "id": "f7c7b1f2",
   "metadata": {},
   "outputs": [
    {
     "name": "stdout",
     "output_type": "stream",
     "text": [
      "12\n",
      "13\n",
      "The gcd is: 1\n"
     ]
    }
   ],
   "source": [
    "#part b\n",
    "def gcd(m,n):\n",
    "    p=0\n",
    "    if(n==0):\n",
    "        p=m\n",
    "    else:\n",
    "        p=gcd(n,m%n)\n",
    "    return p\n",
    "\n",
    "m=int(input())\n",
    "n=int(input())\n",
    "print(\"The gcd is:\", gcd(m,n))\n",
    "#for direct implementation\n",
    "#print(\"The gcd is:\", gcd(108,192))\n"
   ]
  },
  {
   "cell_type": "markdown",
   "id": "3960a3ef",
   "metadata": {},
   "source": [
    "Question 13"
   ]
  },
  {
   "cell_type": "code",
   "execution_count": 10,
   "id": "df61a57b",
   "metadata": {},
   "outputs": [
    {
     "data": {
      "text/plain": [
       "\"plt.plot(t, ss)\\nplt.title('Line Graph using CSV')\\nplt.xlabel('s')\\nplt.ylabel('tt')\\nplt.show()\""
      ]
     },
     "execution_count": 10,
     "metadata": {},
     "output_type": "execute_result"
    }
   ],
   "source": [
    "import matplotlib.pyplot as plt\n",
    "\n",
    "t = []\n",
    "ss = []\n",
    "\n",
    "File=open(r\"sunspots.txt\")\n",
    "f=File.read()\n",
    "f=f.split('/n')\n",
    "\n",
    "for rows in File:\n",
    "    if(i>10):\n",
    "        break\n",
    "    else:\n",
    "        rows=rows.split('/t')\n",
    "        t.append(rows[0])\n",
    "        ss.append(rows[1])\n",
    "        print(rows[0],rows[1])\n",
    "        i+=1\n",
    "'''plt.plot(t, ss)\n",
    "plt.title('Line Graph using CSV')\n",
    "plt.xlabel('s')\n",
    "plt.ylabel('tt')\n",
    "plt.show()'''\n"
   ]
  },
  {
   "cell_type": "code",
   "execution_count": null,
   "id": "1060cde1",
   "metadata": {},
   "outputs": [],
   "source": []
  },
  {
   "cell_type": "code",
   "execution_count": null,
   "id": "7b3c912d",
   "metadata": {},
   "outputs": [],
   "source": []
  }
 ],
 "metadata": {
  "kernelspec": {
   "display_name": "Python 3 (ipykernel)",
   "language": "python",
   "name": "python3"
  },
  "language_info": {
   "codemirror_mode": {
    "name": "ipython",
    "version": 3
   },
   "file_extension": ".py",
   "mimetype": "text/x-python",
   "name": "python",
   "nbconvert_exporter": "python",
   "pygments_lexer": "ipython3",
   "version": "3.9.12"
  }
 },
 "nbformat": 4,
 "nbformat_minor": 5
}
