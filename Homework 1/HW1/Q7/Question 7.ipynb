{
 "cells": [
  {
   "cell_type": "code",
   "execution_count": null,
   "id": "9cb3b6b7",
   "metadata": {},
   "outputs": [],
   "source": [
    "def Catalan(n):\n",
    "    C=1\n",
    "    m=0\n",
    "    while(C<n):\n",
    "        print(int(C))\n",
    "        C=((4*m+2)*C)/(m+2)\n",
    "        m+=1\n",
    "        \n",
    "s=float(input())\n",
    "Catalan(s)"
   ]
  }
 ],
 "metadata": {
  "kernelspec": {
   "display_name": "Python 3 (ipykernel)",
   "language": "python",
   "name": "python3"
  },
  "language_info": {
   "codemirror_mode": {
    "name": "ipython",
    "version": 3
   },
   "file_extension": ".py",
   "mimetype": "text/x-python",
   "name": "python",
   "nbconvert_exporter": "python",
   "pygments_lexer": "ipython3",
   "version": "3.9.12"
  }
 },
 "nbformat": 4,
 "nbformat_minor": 5
}
