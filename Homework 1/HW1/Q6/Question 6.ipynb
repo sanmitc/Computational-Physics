{
 "cells": [
  {
   "cell_type": "code",
   "execution_count": null,
   "id": "cc0a1a36",
   "metadata": {},
   "outputs": [
    {
     "name": "stdout",
     "output_type": "stream",
     "text": [
      "give l_1 value as given in assignment\n"
     ]
    }
   ],
   "source": [
    "import math\n",
    "def find(l,v):\n",
    "    L=l*v\n",
    "    G=6.67e-11\n",
    "    M=1.9891e30\n",
    "    vel=((2*G*M)/L)-v\n",
    "    ape=(L/vel)\n",
    "    e=1-(l/ape)\n",
    "    a=(ape+l)/2\n",
    "    time=math.sqrt((4*((math.pi)**2)*(a**3))/(G*M))\n",
    "    T=time/(3600*24)\n",
    "    print(\"The distance from sun in apehelion is:\", ape)\n",
    "    print(\"velocity at apehelion is\", vel)\n",
    "    print(\"The orbital period in years is:\", T)\n",
    "    print(\"The eccentricity is:\", e)\n",
    "  \n",
    "print(\"give l_1 value as given in assignment\")\n",
    "l=float(input())\n",
    "print(\"give v_1 value as given in assignment\")\n",
    "v=float(input())\n",
    "find(l,v)"
   ]
  },
  {
   "cell_type": "code",
   "execution_count": null,
   "id": "078b1def",
   "metadata": {},
   "outputs": [],
   "source": []
  }
 ],
 "metadata": {
  "kernelspec": {
   "display_name": "Python 3 (ipykernel)",
   "language": "python",
   "name": "python3"
  },
  "language_info": {
   "codemirror_mode": {
    "name": "ipython",
    "version": 3
   },
   "file_extension": ".py",
   "mimetype": "text/x-python",
   "name": "python",
   "nbconvert_exporter": "python",
   "pygments_lexer": "ipython3",
   "version": "3.9.12"
  }
 },
 "nbformat": 4,
 "nbformat_minor": 5
}
