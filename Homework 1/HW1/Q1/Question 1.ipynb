{
 "cells": [
  {
   "cell_type": "code",
   "execution_count": 2,
   "id": "be1ad66e",
   "metadata": {},
   "outputs": [],
   "source": [
    "import numpy as np\n",
    "import matplotlib as plt\n",
    "import math"
   ]
  },
  {
   "cell_type": "code",
   "execution_count": 3,
   "id": "2b58a2cb",
   "metadata": {},
   "outputs": [
    {
     "name": "stdout",
     "output_type": "stream",
     "text": [
      "enter the height in m:\n",
      "19.62\n",
      "2.0\n"
     ]
    }
   ],
   "source": [
    "#Part-a: writing the function to find the time for any general height\n",
    "def findtime(h,g):\n",
    "    t=math.sqrt((2*h)/g)\n",
    "    print(t)\n",
    "    \n",
    "g=9.81\n",
    "print(\"enter the height in m:\")\n",
    "h=float(input())\n",
    "findtime(h,g)\n"
   ]
  },
  {
   "cell_type": "code",
   "execution_count": 4,
   "id": "1eab3105",
   "metadata": {},
   "outputs": [
    {
     "name": "stdout",
     "output_type": "stream",
     "text": [
      "4.515236409857309\n"
     ]
    }
   ],
   "source": [
    "#part b\n",
    "g=9.81\n",
    "findtime(100,g)"
   ]
  },
  {
   "cell_type": "code",
   "execution_count": null,
   "id": "9671fc0f",
   "metadata": {},
   "outputs": [],
   "source": []
  }
 ],
 "metadata": {
  "kernelspec": {
   "display_name": "Python 3 (ipykernel)",
   "language": "python",
   "name": "python3"
  },
  "language_info": {
   "codemirror_mode": {
    "name": "ipython",
    "version": 3
   },
   "file_extension": ".py",
   "mimetype": "text/x-python",
   "name": "python",
   "nbconvert_exporter": "python",
   "pygments_lexer": "ipython3",
   "version": "3.9.12"
  }
 },
 "nbformat": 4,
 "nbformat_minor": 5
}
