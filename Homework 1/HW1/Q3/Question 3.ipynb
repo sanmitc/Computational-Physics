{
 "cells": [
  {
   "cell_type": "code",
   "execution_count": null,
   "id": "1f59815e",
   "metadata": {},
   "outputs": [],
   "source": [
    "import math\n",
    "\n",
    "#Here the convention is taken to be -pi to +pi\n",
    "\n",
    "def Polar(x,y):\n",
    "    theta=0\n",
    "    r=math.sqrt(x**2+y**2)\n",
    "    if(x!=0):\n",
    "        if(x>0 and y>0):\n",
    "            theta=(180/math.pi)*(math.atan(y/x))\n",
    "        if(x>0 and y<0):\n",
    "            theta=(180/math.pi)*(math.atan(y/x))\n",
    "        if(x<0 and y>0):\n",
    "            theta=(180/math.pi)*(math.atan(y/x))+180\n",
    "        if(x<0 and y<0):\n",
    "            theta=(180/math.pi)*(math.atan(y/x))-180\n",
    "    else:\n",
    "        if(y>0):\n",
    "            theta=90\n",
    "        else:\n",
    "            theta=-90\n",
    "    return [r,theta]\n",
    "\n",
    "print('x value')\n",
    "x=float(input())\n",
    "print('y value')\n",
    "y=float(input())\n",
    "print(\"r is:\", Polar(x,y)[0])\n",
    "print(\"theta is:\", Polar(x,y)[1])\n",
    "\n"
   ]
  }
 ],
 "metadata": {
  "kernelspec": {
   "display_name": "Python 3 (ipykernel)",
   "language": "python",
   "name": "python3"
  },
  "language_info": {
   "codemirror_mode": {
    "name": "ipython",
    "version": 3
   },
   "file_extension": ".py",
   "mimetype": "text/x-python",
   "name": "python",
   "nbconvert_exporter": "python",
   "pygments_lexer": "ipython3",
   "version": "3.9.12"
  }
 },
 "nbformat": 4,
 "nbformat_minor": 5
}
