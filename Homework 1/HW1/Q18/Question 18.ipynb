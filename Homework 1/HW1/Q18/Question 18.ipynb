{
 "cells": [
  {
   "cell_type": "code",
   "execution_count": 1,
   "id": "646873c4",
   "metadata": {},
   "outputs": [
    {
     "data": {
      "text/plain": [
       "Text(0.5, 1.0, 'Millikan Data')"
      ]
     },
     "execution_count": 1,
     "metadata": {},
     "output_type": "execute_result"
    },
    {
     "data": {
      "image/png": "[encoded data removed]",
      "text/plain": [
       "<Figure size 432x288 with 1 Axes>"
      ]
     },
     "metadata": {
      "needs_background": "light"
     },
     "output_type": "display_data"
    }
   ],
   "source": [
    "#part a\n",
    "\n",
    "import math\n",
    "import numpy as np\n",
    "import matplotlib.pyplot as plt\n",
    "\n",
    "file=open(r\"millikan.txt\")\n",
    "\n",
    "x=[]\n",
    "y=[]\n",
    "\n",
    "for rows in file:\n",
    "    rows=rows.split(' ')\n",
    "    x.append(float(rows[0]))\n",
    "    y.append(float(rows[1]))\n",
    "    \n",
    "plt.scatter(x,y)\n",
    "   \n",
    "plt.xlabel(\"x\")\n",
    "plt.ylabel(\"y\")\n",
    "plt.title('Millikan Data')\n",
    "    \n"
   ]
  },
  {
   "cell_type": "code",
   "execution_count": 7,
   "id": "35cf72ac",
   "metadata": {},
   "outputs": [
    {
     "name": "stdout",
     "output_type": "stream",
     "text": [
      "m is: 4.088227358517516e-15\n",
      "c is: -1.7312358039813558\n"
     ]
    }
   ],
   "source": [
    "import math\n",
    "import numpy as np\n",
    "import matplotlib.pyplot as plt\n",
    "\n",
    "file=open(r\"millikan.txt\")\n",
    "\n",
    "x=[]\n",
    "y=[]\n",
    "\n",
    "for rows in file:\n",
    "    rows=rows.split(' ')\n",
    "    x.append(float(rows[0]))\n",
    "    y.append(float(rows[1]))\n",
    "    \n",
    "#plt.scatter(x,y)\n",
    "   \n",
    "E_x=0\n",
    "E_y=0\n",
    "E_xx=0\n",
    "E_xy=0\n",
    "\n",
    "n=len(x)\n",
    "\n",
    "for i in range(n):\n",
    "    E_x+=x[i]\n",
    "    E_xx+=x[i]**2\n",
    "    E_y+=y[i]\n",
    "    E_xy+=x[i]*y[i]\n",
    "    \n",
    "E_x=E_x/n\n",
    "E_y=E_y/n\n",
    "E_xx=E_xx/n\n",
    "E_xy=E_xy/n\n",
    "    \n",
    "m=(E_xy-E_x*E_y)/(E_xx-E_x**2)\n",
    "c=(E_xx*E_y-E_x*E_xy)/(E_xx-E_x**2)\n",
    "\n",
    "print('m is:', m)\n",
    "print('c is:', c)\n",
    "    \n",
    "\n"
   ]
  },
  {
   "cell_type": "code",
   "execution_count": 8,
   "id": "55453fb7",
   "metadata": {},
   "outputs": [
    {
     "data": {
      "text/plain": [
       "Text(0.5, 1.0, 'Millikan Data')"
      ]
     },
     "execution_count": 8,
     "metadata": {},
     "output_type": "execute_result"
    },
    {
     "data": {
      "image/png": "[encoded data removed]",
      "text/plain": [
       "<Figure size 432x288 with 1 Axes>"
      ]
     },
     "metadata": {
      "needs_background": "light"
     },
     "output_type": "display_data"
    }
   ],
   "source": [
    "import math\n",
    "import numpy as np\n",
    "import matplotlib.pyplot as plt\n",
    "\n",
    "file=open(r\"millikan.txt\")\n",
    "\n",
    "x=[]\n",
    "y=[]\n",
    "\n",
    "for rows in file:\n",
    "    rows=rows.split(' ')\n",
    "    x.append(float(rows[0]))\n",
    "    y.append(float(rows[1]))\n",
    "    \n",
    "plt.scatter(x,y)\n",
    "   \n",
    "E_x=0\n",
    "E_y=0\n",
    "E_xx=0\n",
    "E_xy=0\n",
    "\n",
    "n=len(x)\n",
    "\n",
    "for i in range(n):\n",
    "    E_x+=x[i]\n",
    "    E_xx+=x[i]**2\n",
    "    E_y+=y[i]\n",
    "    E_xy+=x[i]*y[i]\n",
    "    \n",
    "E_x=E_x/n\n",
    "E_y=E_y/n\n",
    "E_xx=E_xx/n\n",
    "E_xy=E_xy/n\n",
    "    \n",
    "m=(E_xy-E_x*E_y)/(E_xx-E_x**2)\n",
    "c=(E_xx*E_y-E_x*E_xy)/(E_xx-E_x**2)\n",
    "\n",
    "#print(m,c)\n",
    "    \n",
    "y_new=[]\n",
    "\n",
    "for i in range(n):\n",
    "    y_new.append(m*x[i]+c)\n",
    "    \n",
    "plt.plot(x,y_new,'-')\n",
    "\n",
    "plt.xlabel(\"x\")\n",
    "plt.ylabel(\"y\")\n",
    "plt.title('Millikan Data')\n",
    "    \n",
    "    \n"
   ]
  },
  {
   "cell_type": "code",
   "execution_count": 9,
   "id": "13c929db",
   "metadata": {},
   "outputs": [
    {
     "name": "stdout",
     "output_type": "stream",
     "text": [
      "6.549340228345061e-34\n",
      "deviation from literature value: -1.1569539941886333\n"
     ]
    }
   ],
   "source": [
    "h=(1.602e-19)*m\n",
    "print(h)\n",
    "\n",
    "#Literature value\n",
    "h_0=6.626e-34\n",
    "\n",
    "dev=(h-h_0)/h_0\n",
    "dev*=100\n",
    "\n",
    "print('deviation from literature value in percent:', dev)"
   ]
  },
  {
   "cell_type": "code",
   "execution_count": null,
   "id": "da9f04d0",
   "metadata": {},
   "outputs": [],
   "source": []
  }
 ],
 "metadata": {
  "kernelspec": {
   "display_name": "Python 3 (ipykernel)",
   "language": "python",
   "name": "python3"
  },
  "language_info": {
   "codemirror_mode": {
    "name": "ipython",
    "version": 3
   },
   "file_extension": ".py",
   "mimetype": "text/x-python",
   "name": "python",
   "nbconvert_exporter": "python",
   "pygments_lexer": "ipython3",
   "version": "3.9.12"
  }
 },
 "nbformat": 4,
 "nbformat_minor": 5
}
