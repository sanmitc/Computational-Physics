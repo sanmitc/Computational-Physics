{
 "cells": [
  {
   "cell_type": "code",
   "execution_count": 1,
   "id": "16170468",
   "metadata": {},
   "outputs": [
    {
     "data": {
      "text/plain": [
       "Text(0.5, 1.0, 'Mandelbrot set')"
      ]
     },
     "execution_count": 1,
     "metadata": {},
     "output_type": "execute_result"
    },
    {
     "data": {
      "image/png": "[encoded data removed]",
      "text/plain": [
       "<Figure size 432x288 with 1 Axes>"
      ]
     },
     "metadata": {
      "needs_background": "light"
     },
     "output_type": "display_data"
    }
   ],
   "source": [
    "import numpy as np\n",
    "import matplotlib.pyplot as plt\n",
    "import math\n",
    "\n",
    "finesse=1000\n",
    "itr=100\n",
    "x_max=2\n",
    "x_min=-2\n",
    "y_max=2\n",
    "y_min=-2\n",
    "\n",
    "\n",
    "import numpy as np\n",
    "import math\n",
    "import cmath\n",
    "import matplotlib.pyplot as plt\n",
    "\n",
    "x=np.linspace(x_min,x_max,finesse)\n",
    "y=np.linspace(x_min,x_max,finesse)\n",
    "#[X,Y]=np.meshgrid(x,y)\n",
    "def norm(x,y):\n",
    "    return math.sqrt(x**2+y**2)\n",
    "def colour(c,n):\n",
    "    color=1\n",
    "    z=0+0*1j\n",
    "    for i in range(n):\n",
    "        z=z**2+c\n",
    "        if(norm(z.real,z.imag)>2):\n",
    "            color=0\n",
    "            break\n",
    "    return color\n",
    "    \n",
    "\n",
    "z_0=np.zeros((finesse,finesse))\n",
    "\n",
    "for i in range(finesse):\n",
    "    for j in range(finesse):\n",
    "        z=x[i]+y[j]*1j\n",
    "        z_0[j][i]=colour(z,itr)\n",
    "        \n",
    "        \n",
    "plt.contourf(x,y,z_0, cmap='Greys')\n",
    "\n",
    "plt.xlabel('x')\n",
    "plt.ylabel('y')\n",
    "plt.title('Mandelbrot set')\n"
   ]
  },
  {
   "cell_type": "code",
   "execution_count": null,
   "id": "257ff20d",
   "metadata": {},
   "outputs": [],
   "source": []
  }
 ],
 "metadata": {
  "kernelspec": {
   "display_name": "Python 3 (ipykernel)",
   "language": "python",
   "name": "python3"
  },
  "language_info": {
   "codemirror_mode": {
    "name": "ipython",
    "version": 3
   },
   "file_extension": ".py",
   "mimetype": "text/x-python",
   "name": "python",
   "nbconvert_exporter": "python",
   "pygments_lexer": "ipython3",
   "version": "3.9.12"
  }
 },
 "nbformat": 4,
 "nbformat_minor": 5
}
