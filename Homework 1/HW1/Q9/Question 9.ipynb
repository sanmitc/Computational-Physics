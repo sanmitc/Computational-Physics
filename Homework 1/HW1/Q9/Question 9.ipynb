{
 "cells": [
  {
   "cell_type": "code",
   "execution_count": 2,
   "id": "85a6baa2",
   "metadata": {},
   "outputs": [
    {
     "name": "stdout",
     "output_type": "stream",
     "text": [
      "Mass Number:\n",
      "\n"
     ]
    },
    {
     "ename": "ValueError",
     "evalue": "invalid literal for int() with base 10: ''",
     "output_type": "error",
     "traceback": [
      "\u001b[1;31m---------------------------------------------------------------------------\u001b[0m",
      "\u001b[1;31mValueError\u001b[0m                                Traceback (most recent call last)",
      "Input \u001b[1;32mIn [2]\u001b[0m, in \u001b[0;36m<cell line: 16>\u001b[1;34m()\u001b[0m\n\u001b[0;32m     14\u001b[0m     \u001b[38;5;28;01mreturn\u001b[39;00m E\n\u001b[0;32m     15\u001b[0m \u001b[38;5;28mprint\u001b[39m(\u001b[38;5;124m\"\u001b[39m\u001b[38;5;124mMass Number:\u001b[39m\u001b[38;5;124m\"\u001b[39m)\n\u001b[1;32m---> 16\u001b[0m A\u001b[38;5;241m=\u001b[39m\u001b[38;5;28;43mint\u001b[39;49m\u001b[43m(\u001b[49m\u001b[38;5;28;43minput\u001b[39;49m\u001b[43m(\u001b[49m\u001b[43m)\u001b[49m\u001b[43m)\u001b[49m\n\u001b[0;32m     18\u001b[0m \u001b[38;5;28mprint\u001b[39m(\u001b[38;5;124m\"\u001b[39m\u001b[38;5;124mAtomic Number:\u001b[39m\u001b[38;5;124m\"\u001b[39m)\n\u001b[0;32m     19\u001b[0m Z\u001b[38;5;241m=\u001b[39m\u001b[38;5;28mint\u001b[39m(\u001b[38;5;28minput\u001b[39m())\n",
      "\u001b[1;31mValueError\u001b[0m: invalid literal for int() with base 10: ''"
     ]
    }
   ],
   "source": [
    "import math\n",
    "def B_E(A,Z):\n",
    "    a_1=15.67\n",
    "    a_2=17.23\n",
    "    a_3=0.75\n",
    "    a_4=93.2\n",
    "    if(A%2==1):\n",
    "        a_5=0.0\n",
    "    elif(A%2==0 and Z%2==0):\n",
    "        a_5=12.0\n",
    "    else:\n",
    "        a_5=-12.0\n",
    "    E=a_1*A -a_2*(A**(2/3))-a_3*(Z**2)*(A**(-1/3))-a_4*((A-2*Z)**2/A)+a_5*(A**(-1/2))\n",
    "    return E\n",
    "print(\"Mass Number:\")\n",
    "A=int(input())\n",
    "\n",
    "print(\"Atomic Number:\")\n",
    "Z=int(input())\n",
    "\n",
    "Energy=B_E(A,Z)\n",
    "print(\"Binding energy\", Energy)\n",
    "\n",
    "per_n= (Energy/float(A))\n",
    "print(\"Bindin energy per numcleon\", per_n)\n"
   ]
  },
  {
   "cell_type": "code",
   "execution_count": 3,
   "id": "bf0a8b03",
   "metadata": {},
   "outputs": [
    {
     "name": "stdout",
     "output_type": "stream",
     "text": [
      "\n"
     ]
    },
    {
     "ename": "ValueError",
     "evalue": "invalid literal for int() with base 10: ''",
     "output_type": "error",
     "traceback": [
      "\u001b[1;31m---------------------------------------------------------------------------\u001b[0m",
      "\u001b[1;31mValueError\u001b[0m                                Traceback (most recent call last)",
      "Input \u001b[1;32mIn [3]\u001b[0m, in \u001b[0;36m<cell line: 3>\u001b[1;34m()\u001b[0m\n\u001b[0;32m      1\u001b[0m \u001b[38;5;66;03m#part c\u001b[39;00m\n\u001b[1;32m----> 3\u001b[0m Z\u001b[38;5;241m=\u001b[39m\u001b[38;5;28;43mint\u001b[39;49m\u001b[43m(\u001b[49m\u001b[38;5;28;43minput\u001b[39;49m\u001b[43m(\u001b[49m\u001b[43m)\u001b[49m\u001b[43m)\u001b[49m\n\u001b[0;32m      5\u001b[0m \u001b[38;5;28;01mdef\u001b[39;00m \u001b[38;5;21mmax_E_A\u001b[39m(Z):\n\u001b[0;32m      6\u001b[0m     A\u001b[38;5;241m=\u001b[39mZ\n",
      "\u001b[1;31mValueError\u001b[0m: invalid literal for int() with base 10: ''"
     ]
    }
   ],
   "source": [
    "#part c\n",
    "\n",
    "Z=int(input())\n",
    "\n",
    "def max_E_A(Z):\n",
    "    A=Z\n",
    "    max_E=0\n",
    "    for i in range(Z, 3*Z+1):\n",
    "        if(max_E>=(B_E(i,Z)/i)):\n",
    "            pass\n",
    "        else:\n",
    "            max_E=(B_E(i,Z)/i)\n",
    "            A=i\n",
    "    print(\"maximum binding energy per nucleon:\", max_E)\n",
    "    print(\"the mass number is:\", A)\n",
    "max_E_A(Z)\n"
   ]
  },
  {
   "cell_type": "code",
   "execution_count": 4,
   "id": "9cb4bd42",
   "metadata": {},
   "outputs": [
    {
     "name": "stdout",
     "output_type": "stream",
     "text": [
      "Pleae enter 100. \n",
      "100\n",
      "The appropriate z is: 24\n",
      "all te stable values of A is: [1, 4, 6, 8, 10, 12, 15, 16, 19, 20, 23, 24, 27, 28, 31, 32, 35, 36, 39, 41, 43, 46, 47, 50, 51, 54, 55, 58, 59, 62, 63, 66, 69, 70, 73, 74, 77, 78, 81, 82, 85, 86, 89, 92, 93, 96, 97, 100, 101, 104, 105, 108, 111, 112, 115, 116, 119, 120, 123, 124, 127, 130, 131, 134, 135, 138, 139, 142, 143, 146, 149, 150, 153, 154, 157, 158, 161, 164, 165, 168, 169, 172, 173, 176, 179, 180, 183, 184, 187, 190, 191, 194, 195, 198, 199, 202, 205, 206, 209, 210]\n"
     ]
    }
   ],
   "source": [
    "#part d\n",
    "print('Pleae enter 100. ')\n",
    "Num=int(input())\n",
    "\n",
    "def max_E_A(Z):\n",
    "    A=Z\n",
    "    max_E=0\n",
    "    for i in range(Z, 3*Z+1):\n",
    "        if(max_E>=(B_E(i,Z)/i)):\n",
    "            pass\n",
    "        else:\n",
    "            max_E=(B_E(i,Z)/i)\n",
    "            A=i\n",
    "    return [A,max_E]\n",
    "\n",
    "def get_max(Num):\n",
    "    Z=0\n",
    "    max=0\n",
    "    ar=[]\n",
    "    A=0\n",
    "    for i in range(1,101):\n",
    "        if(max>=max_E_A(i)[1]):\n",
    "            A=max_E_A(i)[0]\n",
    "            ar.append(A)\n",
    "            pass\n",
    "        else:\n",
    "            max=max_E_A(i)[1]\n",
    "            ar.append(max_E_A(i)[0])\n",
    "            Z=i\n",
    "    return [Z,ar]\n",
    "        \n",
    "Z_max=get_max(Num)[0]\n",
    "ar=get_max(Num)[1]\n",
    "print('The appropriate z is:', Z_max)\n",
    "print('all the stable values of A is:', ar)"
   ]
  },
  {
   "cell_type": "code",
   "execution_count": null,
   "id": "222420f3",
   "metadata": {},
   "outputs": [],
   "source": []
  }
 ],
 "metadata": {
  "kernelspec": {
   "display_name": "Python 3 (ipykernel)",
   "language": "python",
   "name": "python3"
  },
  "language_info": {
   "codemirror_mode": {
    "name": "ipython",
    "version": 3
   },
   "file_extension": ".py",
   "mimetype": "text/x-python",
   "name": "python",
   "nbconvert_exporter": "python",
   "pygments_lexer": "ipython3",
   "version": "3.9.12"
  }
 },
 "nbformat": 4,
 "nbformat_minor": 5
}
