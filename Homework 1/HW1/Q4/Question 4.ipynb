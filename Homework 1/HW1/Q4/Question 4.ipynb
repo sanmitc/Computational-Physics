{
 "cells": [
  {
   "cell_type": "code",
   "execution_count": 2,
   "id": "86c6317b",
   "metadata": {},
   "outputs": [
    {
     "name": "stdout",
     "output_type": "stream",
     "text": [
      "enter velocity as a fraction of c\n",
      "0.99\n",
      "enter distance in lightyears\n",
      "10\n",
      "from stationary frame in years: 10.094525320754897\n",
      "from stationary frame in years: 1.424008035399415\n"
     ]
    }
   ],
   "source": [
    "import math\n",
    "#enter velocity as a fraction of c\n",
    "def time(x,v):\n",
    "    x=x*9.461e15\n",
    "    c=3e8\n",
    "    if(v>=1):\n",
    "        return None\n",
    "    else:\n",
    "        t_1=x/(v*c)\n",
    "        gamma=1/math.sqrt(1-v**2)\n",
    "        t_2=x/(gamma*v*c)\n",
    "    return [t_1/31556926,t_2/31556926]\n",
    "\n",
    "\n",
    "print('enter velocity as a fraction of c')\n",
    "v =float(input())\n",
    "print('enter distance in lightyears')\n",
    "x=float(input())\n",
    "print(\"from stationary frame in years:\", time(x,v)[0])\n",
    "print(\"from moving frame in years:\", time(x,v)[1])\n",
    "\n"
   ]
  },
  {
   "cell_type": "code",
   "execution_count": null,
   "id": "bc7447f3",
   "metadata": {},
   "outputs": [],
   "source": []
  }
 ],
 "metadata": {
  "kernelspec": {
   "display_name": "Python 3 (ipykernel)",
   "language": "python",
   "name": "python3"
  },
  "language_info": {
   "codemirror_mode": {
    "name": "ipython",
    "version": 3
   },
   "file_extension": ".py",
   "mimetype": "text/x-python",
   "name": "python",
   "nbconvert_exporter": "python",
   "pygments_lexer": "ipython3",
   "version": "3.9.12"
  }
 },
 "nbformat": 4,
 "nbformat_minor": 5
}
