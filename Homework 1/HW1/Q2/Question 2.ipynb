{
 "cells": [
  {
   "cell_type": "code",
   "execution_count": 1,
   "id": "9bb64130",
   "metadata": {},
   "outputs": [
    {
     "name": "stdout",
     "output_type": "stream",
     "text": [
      "the height required for revolving in 1 day in km: 35853.99654096109\n",
      "the height required for revolving in 90 minutes in km: 273.0384266436668\n",
      "the height required for revolving in 45 minutes in km: -2188.145345253488\n"
     ]
    }
   ],
   "source": [
    "#part a\n",
    "import math\n",
    "def findHeight(T):\n",
    "    G=6.67e-11\n",
    "    M=5.9722e24\n",
    "    R=6378.1e3\n",
    "    h=((G*M*T**2)/(4*(math.pi)**2))**(1/3)-R\n",
    "    h=h/1000\n",
    "    return h\n",
    "\n",
    "#part b\n",
    "print(\"the height required for revolving in 1 day in km:\", findHeight(86400)),\n",
    "print(\"the height required for revolving in 90 minutes in km:\", findHeight(5400)),\n",
    "print(\"the height required for revolving in 45 minutes in km:\", findHeight(2700))\n",
    "      "
   ]
  },
  {
   "cell_type": "code",
   "execution_count": 2,
   "id": "1fec68ab",
   "metadata": {},
   "outputs": [
    {
     "name": "stdout",
     "output_type": "stream",
     "text": [
      "1.4085889113076024 hours or 84.51533467845614 minutes\n"
     ]
    }
   ],
   "source": [
    "G=6.67e-11\n",
    "M=5.9722e24\n",
    "R=6378.1e3\n",
    "T=math.sqrt((4*R**3*math.pi**2)/(G*M))\n",
    "print(T/3600,\"hours or\", T/60, \"minutes\")"
   ]
  },
  {
   "cell_type": "code",
   "execution_count": 3,
   "id": "2d3f6a76",
   "metadata": {},
   "outputs": [
    {
     "name": "stdout",
     "output_type": "stream",
     "text": [
      "The new height is 35771.83860517497\n",
      "Change in height 82.1579357861192\n"
     ]
    }
   ],
   "source": [
    "print(\"The new height isin km\",findHeight(23.93*3600))\n",
    "p=findHeight(86400)-findHeight(23.93*3600)\n",
    "print(\"Change in height in km\", findHeight(86400)-findHeight(23.93*3600))"
   ]
  },
  {
   "cell_type": "markdown",
   "id": "67c834ca",
   "metadata": {},
   "source": [
    "The earth rotates around its axis ans also around sun and the rotations are opposite to each other. So, after one day sun has moved a little bit in the direction of earth's rotation. So, the satelite needs to move a little bit faster to match the speed. So, we have 23.93 hours instead of 24 hours"
   ]
  },
  {
   "cell_type": "code",
   "execution_count": null,
   "id": "7a937c87",
   "metadata": {},
   "outputs": [],
   "source": []
  }
 ],
 "metadata": {
  "kernelspec": {
   "display_name": "Python 3 (ipykernel)",
   "language": "python",
   "name": "python3"
  },
  "language_info": {
   "codemirror_mode": {
    "name": "ipython",
    "version": 3
   },
   "file_extension": ".py",
   "mimetype": "text/x-python",
   "name": "python",
   "nbconvert_exporter": "python",
   "pygments_lexer": "ipython3",
   "version": "3.9.12"
  }
 },
 "nbformat": 4,
 "nbformat_minor": 5
}
