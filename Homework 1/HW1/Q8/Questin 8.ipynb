{
 "cells": [
  {
   "cell_type": "code",
   "execution_count": null,
   "id": "e3607d4f",
   "metadata": {},
   "outputs": [],
   "source": [
    "import math\n",
    "def getMadelung(L):\n",
    "    V=0\n",
    "    for i in range(-L,L):\n",
    "        for j in range(-L,L):\n",
    "            for k in range(-L,L):\n",
    "                p=(i!=0 or j!=0 or k!=0)\n",
    "                Atom=(i+j+k)\n",
    "                if(Atom%2==1):\n",
    "                    sign=-1\n",
    "                else:\n",
    "                    sign=1\n",
    "                if(p):\n",
    "                    k=math.sqrt(i**2+k**2+j**2)\n",
    "                    V+=sign*(1/k)\n",
    "    return V\n",
    "\n",
    "Num=int(input())\n",
    "getMadelung(Num)\n",
    "                \n",
    "                "
   ]
  }
 ],
 "metadata": {
  "kernelspec": {
   "display_name": "Python 3 (ipykernel)",
   "language": "python",
   "name": "python3"
  },
  "language_info": {
   "codemirror_mode": {
    "name": "ipython",
    "version": 3
   },
   "file_extension": ".py",
   "mimetype": "text/x-python",
   "name": "python",
   "nbconvert_exporter": "python",
   "pygments_lexer": "ipython3",
   "version": "3.9.12"
  }
 },
 "nbformat": 4,
 "nbformat_minor": 5
}
