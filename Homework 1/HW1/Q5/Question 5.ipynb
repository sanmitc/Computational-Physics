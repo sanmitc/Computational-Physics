{
 "cells": [
  {
   "cell_type": "code",
   "execution_count": null,
   "id": "105d0a41",
   "metadata": {},
   "outputs": [],
   "source": [
    "import math\n",
    "\n",
    "def RT(E,V):\n",
    "    k_1=math.sqrt(E)\n",
    "    k_2=math.sqrt((E-V))\n",
    "    R=((k_1-k_2)/(k_1+k_2))**2\n",
    "    T=(4*k_1*k_2)/((k_1+k_2)**2)\n",
    "    print(R,T)\n",
    "    o=R+T\n",
    "    print(o)\n",
    "       \n",
    "RT(10, 9)"
   ]
  }
 ],
 "metadata": {
  "kernelspec": {
   "display_name": "Python 3 (ipykernel)",
   "language": "python",
   "name": "python3"
  },
  "language_info": {
   "codemirror_mode": {
    "name": "ipython",
    "version": 3
   },
   "file_extension": ".py",
   "mimetype": "text/x-python",
   "name": "python",
   "nbconvert_exporter": "python",
   "pygments_lexer": "ipython3",
   "version": "3.9.12"
  }
 },
 "nbformat": 4,
 "nbformat_minor": 5
}
