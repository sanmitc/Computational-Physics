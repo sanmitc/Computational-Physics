{
 "cells": [
  {
   "cell_type": "code",
   "execution_count": null,
   "id": "6fbc34ff",
   "metadata": {},
   "outputs": [],
   "source": [
    "import math\n",
    "#part a\n",
    "def binomial(n,k):\n",
    "    if(k==0):\n",
    "        return 1\n",
    "    else:\n",
    "        prod1=1\n",
    "        prod2=1\n",
    "        for i in range(1,k+1):\n",
    "            prod1*=(n-i+1)\n",
    "            prod2*=i\n",
    "        result=prod1/prod2\n",
    "    return int(result)\n",
    "\n",
    "\n",
    "            "
   ]
  },
  {
   "cell_type": "code",
   "execution_count": null,
   "id": "2ead30eb",
   "metadata": {},
   "outputs": [],
   "source": [
    "#part b\n",
    "Num=20\n",
    "for i in range(1,Num+1):\n",
    "    print('\\n')\n",
    "    for j in range(0,i+1):\n",
    "        a=binomial(i,j)\n",
    "        print(a, end=\" \")"
   ]
  },
  {
   "cell_type": "code",
   "execution_count": null,
   "id": "de88f229",
   "metadata": {},
   "outputs": [],
   "source": [
    "#part c\n",
    "\n",
    "def prob(n,k):\n",
    "    den=2**n\n",
    "    p=binomial(n,k)/den\n",
    "    return p\n",
    "\n",
    "n=100\n",
    "k=60\n",
    "ans1=prob(n,k)\n",
    "\n",
    "ans2=0\n",
    "for i in range(60,101):\n",
    "    ans2+=prob(100,i)\n",
    "\n",
    "print(\"probability of 60 heads:\", ans1)\n",
    "print(\"probability of 60 or more heads\", ans2)"
   ]
  }
 ],
 "metadata": {
  "kernelspec": {
   "display_name": "Python 3 (ipykernel)",
   "language": "python",
   "name": "python3"
  },
  "language_info": {
   "codemirror_mode": {
    "name": "ipython",
    "version": 3
   },
   "file_extension": ".py",
   "mimetype": "text/x-python",
   "name": "python",
   "nbconvert_exporter": "python",
   "pygments_lexer": "ipython3",
   "version": "3.9.12"
  }
 },
 "nbformat": 4,
 "nbformat_minor": 5
}
