{
 "cells": [
  {
   "cell_type": "code",
   "execution_count": null,
   "id": "ac66214e",
   "metadata": {},
   "outputs": [],
   "source": [
    "import math\n",
    "def prime(Num):\n",
    "    arr=[2]\n",
    "    for i in range(3,Num+1):\n",
    "        k=int(math.sqrt(i))\n",
    "        n=len(arr)\n",
    "        counter=0\n",
    "        for j in range(n):\n",
    "            if(arr[j]>k):\n",
    "                break\n",
    "            elif(i%arr[j]==0):\n",
    "                counter=1\n",
    "                break\n",
    "        if(counter==0):\n",
    "            arr.append(i)\n",
    "        #print(i, j)\n",
    "    return arr\n",
    "\n",
    "N=float(input())\n",
    "N=int(N)\n",
    "print(\"\",prime(N))\n",
    "print(len(prime(N)))"
   ]
  }
 ],
 "metadata": {
  "kernelspec": {
   "display_name": "Python 3 (ipykernel)",
   "language": "python",
   "name": "python3"
  },
  "language_info": {
   "codemirror_mode": {
    "name": "ipython",
    "version": 3
   },
   "file_extension": ".py",
   "mimetype": "text/x-python",
   "name": "python",
   "nbconvert_exporter": "python",
   "pygments_lexer": "ipython3",
   "version": "3.9.12"
  }
 },
 "nbformat": 4,
 "nbformat_minor": 5
}
